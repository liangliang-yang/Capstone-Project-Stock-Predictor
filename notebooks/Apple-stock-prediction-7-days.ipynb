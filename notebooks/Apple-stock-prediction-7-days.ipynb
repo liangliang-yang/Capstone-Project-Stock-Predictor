{
 "cells": [
  {
   "cell_type": "markdown",
   "metadata": {},
   "source": [
    "### (I) Load packages"
   ]
  },
  {
   "cell_type": "code",
   "execution_count": 1,
   "metadata": {},
   "outputs": [],
   "source": [
    "import warnings\n",
    "warnings.filterwarnings('ignore')"
   ]
  },
  {
   "cell_type": "code",
   "execution_count": 2,
   "metadata": {},
   "outputs": [],
   "source": [
    "import pandas as pd\n",
    "import numpy as np\n",
    "import yfinance as yf\n",
    "import datetime\n",
    "import math\n",
    "import matplotlib.pyplot as plt\n",
    "%matplotlib inline\n",
    "\n",
    "import plotly.graph_objs as go # this is used for interactivate plot\n",
    "import plotly.express as px"
   ]
  },
  {
   "cell_type": "code",
   "execution_count": 3,
   "metadata": {},
   "outputs": [
    {
     "name": "stderr",
     "output_type": "stream",
     "text": [
      "Using TensorFlow backend.\n"
     ]
    }
   ],
   "source": [
    "from sklearn.preprocessing import MinMaxScaler\n",
    "from sklearn.metrics import mean_squared_error\n",
    "\n",
    "from keras.models import Sequential\n",
    "from keras.layers import Dense, Activation\n",
    "from keras.layers import Dropout\n",
    "from keras.layers import LSTM\n",
    "\n",
    "import tensorflow as tf\n",
    "tf.compat.v1.logging.set_verbosity(tf.compat.v1.logging.ERROR) # ignore tf warning"
   ]
  },
  {
   "cell_type": "code",
   "execution_count": 4,
   "metadata": {},
   "outputs": [],
   "source": [
    "# Create the business day, which is used to convert the day index to stock trading days\n",
    "from pandas.tseries.holiday import USFederalHolidayCalendar\n",
    "from pandas.tseries.offsets import CustomBusinessDay\n",
    "B_DAY = CustomBusinessDay(calendar=USFederalHolidayCalendar()) # business day"
   ]
  },
  {
   "cell_type": "markdown",
   "metadata": {},
   "source": [
    "## (II) Data download and Exploration"
   ]
  },
  {
   "cell_type": "code",
   "execution_count": 5,
   "metadata": {},
   "outputs": [],
   "source": [
    "def download_stock_to_df(symbol, start, end):\n",
    "    \"\"\"\n",
    "    Get current stocks data from yahoo fiance and save to dataframe\n",
    "\n",
    "    Params:\n",
    "        symbol: stock to pull data\n",
    "        start: start date of pulled data\n",
    "        end: end date of pulled data\n",
    "\n",
    "    Return:\n",
    "        dataframe of stock within specified date range\n",
    "    \"\"\"\n",
    "    df_stock=yf.download(symbol,start,end,progress=False)\n",
    "    df_stock.reset_index(level=0, inplace=True)\n",
    "    return df_stock"
   ]
  },
  {
   "cell_type": "code",
   "execution_count": 6,
   "metadata": {},
   "outputs": [
    {
     "data": {
      "text/html": [
       "<div>\n",
       "<style scoped>\n",
       "    .dataframe tbody tr th:only-of-type {\n",
       "        vertical-align: middle;\n",
       "    }\n",
       "\n",
       "    .dataframe tbody tr th {\n",
       "        vertical-align: top;\n",
       "    }\n",
       "\n",
       "    .dataframe thead th {\n",
       "        text-align: right;\n",
       "    }\n",
       "</style>\n",
       "<table border=\"1\" class=\"dataframe\">\n",
       "  <thead>\n",
       "    <tr style=\"text-align: right;\">\n",
       "      <th></th>\n",
       "      <th>Date</th>\n",
       "      <th>Open</th>\n",
       "      <th>High</th>\n",
       "      <th>Low</th>\n",
       "      <th>Close</th>\n",
       "      <th>Adj Close</th>\n",
       "      <th>Volume</th>\n",
       "    </tr>\n",
       "  </thead>\n",
       "  <tbody>\n",
       "    <tr>\n",
       "      <th>0</th>\n",
       "      <td>2000-01-03</td>\n",
       "      <td>3.745536</td>\n",
       "      <td>4.017857</td>\n",
       "      <td>3.631696</td>\n",
       "      <td>3.997768</td>\n",
       "      <td>3.460857</td>\n",
       "      <td>133949200</td>\n",
       "    </tr>\n",
       "    <tr>\n",
       "      <th>1</th>\n",
       "      <td>2000-01-04</td>\n",
       "      <td>3.866071</td>\n",
       "      <td>3.950893</td>\n",
       "      <td>3.613839</td>\n",
       "      <td>3.660714</td>\n",
       "      <td>3.169071</td>\n",
       "      <td>128094400</td>\n",
       "    </tr>\n",
       "    <tr>\n",
       "      <th>2</th>\n",
       "      <td>2000-01-05</td>\n",
       "      <td>3.705357</td>\n",
       "      <td>3.948661</td>\n",
       "      <td>3.678571</td>\n",
       "      <td>3.714286</td>\n",
       "      <td>3.215448</td>\n",
       "      <td>194580400</td>\n",
       "    </tr>\n",
       "    <tr>\n",
       "      <th>3</th>\n",
       "      <td>2000-01-06</td>\n",
       "      <td>3.790179</td>\n",
       "      <td>3.821429</td>\n",
       "      <td>3.392857</td>\n",
       "      <td>3.392857</td>\n",
       "      <td>2.937188</td>\n",
       "      <td>191993200</td>\n",
       "    </tr>\n",
       "    <tr>\n",
       "      <th>4</th>\n",
       "      <td>2000-01-07</td>\n",
       "      <td>3.446429</td>\n",
       "      <td>3.607143</td>\n",
       "      <td>3.410714</td>\n",
       "      <td>3.553571</td>\n",
       "      <td>3.076317</td>\n",
       "      <td>115183600</td>\n",
       "    </tr>\n",
       "  </tbody>\n",
       "</table>\n",
       "</div>"
      ],
      "text/plain": [
       "        Date      Open      High       Low     Close  Adj Close     Volume\n",
       "0 2000-01-03  3.745536  4.017857  3.631696  3.997768   3.460857  133949200\n",
       "1 2000-01-04  3.866071  3.950893  3.613839  3.660714   3.169071  128094400\n",
       "2 2000-01-05  3.705357  3.948661  3.678571  3.714286   3.215448  194580400\n",
       "3 2000-01-06  3.790179  3.821429  3.392857  3.392857   2.937188  191993200\n",
       "4 2000-01-07  3.446429  3.607143  3.410714  3.553571   3.076317  115183600"
      ]
     },
     "execution_count": 6,
     "metadata": {},
     "output_type": "execute_result"
    }
   ],
   "source": [
    "apple_stock = download_stock_to_df('AAPL', '2000-01-01', '2020-05-31')\n",
    "apple_stock.head()"
   ]
  },
  {
   "cell_type": "code",
   "execution_count": 7,
   "metadata": {},
   "outputs": [
    {
     "name": "stdout",
     "output_type": "stream",
     "text": [
      "Total data points: 5134\n",
      "From 2000-01-03 00:00:00 to 2020-05-29 00:00:00\n"
     ]
    }
   ],
   "source": [
    "print('Total data points: {}'.format(len(apple_stock)))\n",
    "print('From {} to {}'.format(apple_stock['Date'].iloc[0], apple_stock['Date'].iloc[-1]))"
   ]
  },
  {
   "cell_type": "code",
   "execution_count": 8,
   "metadata": {},
   "outputs": [
    {
     "data": {
      "text/html": [
       "<div>\n",
       "<style scoped>\n",
       "    .dataframe tbody tr th:only-of-type {\n",
       "        vertical-align: middle;\n",
       "    }\n",
       "\n",
       "    .dataframe tbody tr th {\n",
       "        vertical-align: top;\n",
       "    }\n",
       "\n",
       "    .dataframe thead th {\n",
       "        text-align: right;\n",
       "    }\n",
       "</style>\n",
       "<table border=\"1\" class=\"dataframe\">\n",
       "  <thead>\n",
       "    <tr style=\"text-align: right;\">\n",
       "      <th></th>\n",
       "      <th>Open</th>\n",
       "      <th>High</th>\n",
       "      <th>Low</th>\n",
       "      <th>Close</th>\n",
       "      <th>Adj Close</th>\n",
       "      <th>Volume</th>\n",
       "    </tr>\n",
       "  </thead>\n",
       "  <tbody>\n",
       "    <tr>\n",
       "      <th>count</th>\n",
       "      <td>5134.000000</td>\n",
       "      <td>5134.000000</td>\n",
       "      <td>5134.000000</td>\n",
       "      <td>5134.000000</td>\n",
       "      <td>5134.000000</td>\n",
       "      <td>5.134000e+03</td>\n",
       "    </tr>\n",
       "    <tr>\n",
       "      <th>mean</th>\n",
       "      <td>64.154592</td>\n",
       "      <td>64.803741</td>\n",
       "      <td>63.514898</td>\n",
       "      <td>64.184123</td>\n",
       "      <td>60.260955</td>\n",
       "      <td>1.135283e+08</td>\n",
       "    </tr>\n",
       "    <tr>\n",
       "      <th>std</th>\n",
       "      <td>72.004205</td>\n",
       "      <td>72.762315</td>\n",
       "      <td>71.358150</td>\n",
       "      <td>72.106102</td>\n",
       "      <td>70.781017</td>\n",
       "      <td>9.831566e+07</td>\n",
       "    </tr>\n",
       "    <tr>\n",
       "      <th>min</th>\n",
       "      <td>0.927857</td>\n",
       "      <td>0.942143</td>\n",
       "      <td>0.908571</td>\n",
       "      <td>0.937143</td>\n",
       "      <td>0.811282</td>\n",
       "      <td>9.835000e+06</td>\n",
       "    </tr>\n",
       "    <tr>\n",
       "      <th>25%</th>\n",
       "      <td>5.160000</td>\n",
       "      <td>5.238929</td>\n",
       "      <td>5.068572</td>\n",
       "      <td>5.137500</td>\n",
       "      <td>4.447520</td>\n",
       "      <td>4.634312e+07</td>\n",
       "    </tr>\n",
       "    <tr>\n",
       "      <th>50%</th>\n",
       "      <td>32.162857</td>\n",
       "      <td>32.317856</td>\n",
       "      <td>31.890714</td>\n",
       "      <td>32.167143</td>\n",
       "      <td>27.847013</td>\n",
       "      <td>8.562260e+07</td>\n",
       "    </tr>\n",
       "    <tr>\n",
       "      <th>75%</th>\n",
       "      <td>104.972500</td>\n",
       "      <td>106.052500</td>\n",
       "      <td>104.485003</td>\n",
       "      <td>105.250002</td>\n",
       "      <td>97.635321</td>\n",
       "      <td>1.501342e+08</td>\n",
       "    </tr>\n",
       "    <tr>\n",
       "      <th>max</th>\n",
       "      <td>324.739990</td>\n",
       "      <td>327.850006</td>\n",
       "      <td>323.350006</td>\n",
       "      <td>327.200012</td>\n",
       "      <td>326.316681</td>\n",
       "      <td>1.855410e+09</td>\n",
       "    </tr>\n",
       "  </tbody>\n",
       "</table>\n",
       "</div>"
      ],
      "text/plain": [
       "              Open         High          Low        Close    Adj Close  \\\n",
       "count  5134.000000  5134.000000  5134.000000  5134.000000  5134.000000   \n",
       "mean     64.154592    64.803741    63.514898    64.184123    60.260955   \n",
       "std      72.004205    72.762315    71.358150    72.106102    70.781017   \n",
       "min       0.927857     0.942143     0.908571     0.937143     0.811282   \n",
       "25%       5.160000     5.238929     5.068572     5.137500     4.447520   \n",
       "50%      32.162857    32.317856    31.890714    32.167143    27.847013   \n",
       "75%     104.972500   106.052500   104.485003   105.250002    97.635321   \n",
       "max     324.739990   327.850006   323.350006   327.200012   326.316681   \n",
       "\n",
       "             Volume  \n",
       "count  5.134000e+03  \n",
       "mean   1.135283e+08  \n",
       "std    9.831566e+07  \n",
       "min    9.835000e+06  \n",
       "25%    4.634312e+07  \n",
       "50%    8.562260e+07  \n",
       "75%    1.501342e+08  \n",
       "max    1.855410e+09  "
      ]
     },
     "execution_count": 8,
     "metadata": {},
     "output_type": "execute_result"
    }
   ],
   "source": [
    "apple_stock.describe()"
   ]
  },
  {
   "cell_type": "markdown",
   "metadata": {},
   "source": [
    "## (III) Exploratory Visualization"
   ]
  },
  {
   "cell_type": "code",
   "execution_count": 9,
   "metadata": {},
   "outputs": [
    {
     "data": {
      "image/png": "[encoded data removed]",
      "text/plain": [
       "<Figure size 1080x576 with 1 Axes>"
      ]
     },
     "metadata": {
      "needs_background": "light"
     },
     "output_type": "display_data"
    }
   ],
   "source": [
    "ax = apple_stock.plot(x='Date', y='Adj Close', title='Adj Close price for AAPL', figsize=(15, 8), color='blue')\n",
    "ax.set_xlabel('Date')\n",
    "ax.set_ylabel('Adj Close ($)')\n",
    "ax.legend(['AAPL'])\n",
    "plt.show()"
   ]
  },
  {
   "cell_type": "markdown",
   "metadata": {},
   "source": [
    "There are four peaks occured after 2010: (1) 2012/07-2012/09; (2)2015/04; (3)2018/09; (4) 2020/02"
   ]
  },
  {
   "cell_type": "code",
   "execution_count": 10,
   "metadata": {},
   "outputs": [
    {
     "data": {
      "image/png": "[encoded data removed]",
      "text/plain": [
       "<Figure size 1080x576 with 1 Axes>"
      ]
     },
     "metadata": {
      "needs_background": "light"
     },
     "output_type": "display_data"
    }
   ],
   "source": [
    "ax = apple_stock.plot(x='Date', y='Volume', title='Trading Volume for AAPL', figsize=(15, 8), color='blue')\n",
    "ax.set_xlabel('Date')\n",
    "ax.set_ylabel('Trading Volume')\n",
    "ax.legend(['AAPL'])\n",
    "plt.show()"
   ]
  },
  {
   "cell_type": "code",
   "execution_count": 11,
   "metadata": {},
   "outputs": [
    {
     "data": {
      "text/html": [
       "<div>\n",
       "<style scoped>\n",
       "    .dataframe tbody tr th:only-of-type {\n",
       "        vertical-align: middle;\n",
       "    }\n",
       "\n",
       "    .dataframe tbody tr th {\n",
       "        vertical-align: top;\n",
       "    }\n",
       "\n",
       "    .dataframe thead th {\n",
       "        text-align: right;\n",
       "    }\n",
       "</style>\n",
       "<table border=\"1\" class=\"dataframe\">\n",
       "  <thead>\n",
       "    <tr style=\"text-align: right;\">\n",
       "      <th></th>\n",
       "      <th>Date</th>\n",
       "      <th>Open</th>\n",
       "      <th>High</th>\n",
       "      <th>Low</th>\n",
       "      <th>Close</th>\n",
       "      <th>Adj Close</th>\n",
       "      <th>Volume</th>\n",
       "    </tr>\n",
       "  </thead>\n",
       "  <tbody>\n",
       "    <tr>\n",
       "      <th>188</th>\n",
       "      <td>2000-09-29</td>\n",
       "      <td>2.013393</td>\n",
       "      <td>2.071429</td>\n",
       "      <td>1.8125</td>\n",
       "      <td>1.839286</td>\n",
       "      <td>1.592265</td>\n",
       "      <td>1855410200</td>\n",
       "    </tr>\n",
       "  </tbody>\n",
       "</table>\n",
       "</div>"
      ],
      "text/plain": [
       "          Date      Open      High     Low     Close  Adj Close      Volume\n",
       "188 2000-09-29  2.013393  2.071429  1.8125  1.839286   1.592265  1855410200"
      ]
     },
     "execution_count": 11,
     "metadata": {},
     "output_type": "execute_result"
    }
   ],
   "source": [
    "apple_stock[apple_stock['Volume'] == apple_stock['Volume'].max()]"
   ]
  },
  {
   "cell_type": "markdown",
   "metadata": {},
   "source": [
    "* **Apple's Worest Day Ever** On September 29th, 2000, AAPL saw a massive one-day drop of 51.89%. The stock's steep decline was due to a number of factors, which in hindsight combined to form a perfect storm of headwinds that proved too fierce for shareholders to deal with at the time [news link](https://www.dividend.com/how-to-invest/apples-worst-day-ever-aapl/#:~:text=September%2029%2C%202000%3A%20Apple%20Drops,deal%20with%20at%20the%20time.)"
   ]
  },
  {
   "cell_type": "markdown",
   "metadata": {},
   "source": [
    "## (IV) Data Preprocessing"
   ]
  },
  {
   "cell_type": "code",
   "execution_count": 12,
   "metadata": {},
   "outputs": [],
   "source": [
    "# keep only used column\n",
    "apple_stock.drop(columns=['Open', 'High', 'Low', 'Close', 'Volume'], inplace=True)"
   ]
  },
  {
   "cell_type": "code",
   "execution_count": 13,
   "metadata": {},
   "outputs": [],
   "source": [
    "df = apple_stock.copy(deep=True)"
   ]
  },
  {
   "cell_type": "markdown",
   "metadata": {},
   "source": [
    "#### Normalize the data"
   ]
  },
  {
   "cell_type": "code",
   "execution_count": 14,
   "metadata": {},
   "outputs": [],
   "source": [
    "sc = MinMaxScaler(feature_range=(0.01,0.99))\n",
    "df['Scaled_Close'] = sc.fit_transform(df[['Adj Close']])"
   ]
  },
  {
   "cell_type": "code",
   "execution_count": 15,
   "metadata": {},
   "outputs": [
    {
     "data": {
      "text/html": [
       "<div>\n",
       "<style scoped>\n",
       "    .dataframe tbody tr th:only-of-type {\n",
       "        vertical-align: middle;\n",
       "    }\n",
       "\n",
       "    .dataframe tbody tr th {\n",
       "        vertical-align: top;\n",
       "    }\n",
       "\n",
       "    .dataframe thead th {\n",
       "        text-align: right;\n",
       "    }\n",
       "</style>\n",
       "<table border=\"1\" class=\"dataframe\">\n",
       "  <thead>\n",
       "    <tr style=\"text-align: right;\">\n",
       "      <th></th>\n",
       "      <th>Date</th>\n",
       "      <th>Adj Close</th>\n",
       "      <th>Scaled_Close</th>\n",
       "    </tr>\n",
       "  </thead>\n",
       "  <tbody>\n",
       "    <tr>\n",
       "      <th>0</th>\n",
       "      <td>2000-01-03</td>\n",
       "      <td>3.460857</td>\n",
       "      <td>0.017977</td>\n",
       "    </tr>\n",
       "    <tr>\n",
       "      <th>1</th>\n",
       "      <td>2000-01-04</td>\n",
       "      <td>3.169071</td>\n",
       "      <td>0.017099</td>\n",
       "    </tr>\n",
       "    <tr>\n",
       "      <th>2</th>\n",
       "      <td>2000-01-05</td>\n",
       "      <td>3.215448</td>\n",
       "      <td>0.017238</td>\n",
       "    </tr>\n",
       "    <tr>\n",
       "      <th>3</th>\n",
       "      <td>2000-01-06</td>\n",
       "      <td>2.937188</td>\n",
       "      <td>0.016400</td>\n",
       "    </tr>\n",
       "    <tr>\n",
       "      <th>4</th>\n",
       "      <td>2000-01-07</td>\n",
       "      <td>3.076317</td>\n",
       "      <td>0.016819</td>\n",
       "    </tr>\n",
       "  </tbody>\n",
       "</table>\n",
       "</div>"
      ],
      "text/plain": [
       "        Date  Adj Close  Scaled_Close\n",
       "0 2000-01-03   3.460857      0.017977\n",
       "1 2000-01-04   3.169071      0.017099\n",
       "2 2000-01-05   3.215448      0.017238\n",
       "3 2000-01-06   2.937188      0.016400\n",
       "4 2000-01-07   3.076317      0.016819"
      ]
     },
     "execution_count": 15,
     "metadata": {},
     "output_type": "execute_result"
    }
   ],
   "source": [
    "df.head()"
   ]
  },
  {
   "cell_type": "markdown",
   "metadata": {},
   "source": [
    "#### Define the model training and test set"
   ]
  },
  {
   "cell_type": "code",
   "execution_count": 16,
   "metadata": {},
   "outputs": [],
   "source": [
    "# we will test/validate on 40 periods (if forcast is seven days, then 40x7=280 days)\n",
    "num_periods = 40\n",
    "forcast_days = 7\n",
    "lookback_days = 15\n",
    "window_size  = 15"
   ]
  },
  {
   "cell_type": "code",
   "execution_count": 17,
   "metadata": {},
   "outputs": [],
   "source": [
    "N = df.shape[0]\n",
    "N_test = num_periods*forcast_days\n",
    "N_train = N - N_test"
   ]
  },
  {
   "cell_type": "code",
   "execution_count": 18,
   "metadata": {},
   "outputs": [],
   "source": [
    "from sklearn.model_selection import train_test_split\n",
    "dataset_train , dataset_test = train_test_split(df, train_size=N_train, test_size=N_test, shuffle=False)"
   ]
  },
  {
   "cell_type": "code",
   "execution_count": 19,
   "metadata": {},
   "outputs": [
    {
     "name": "stdout",
     "output_type": "stream",
     "text": [
      "(4854, 3) (280, 3) (295, 3)\n"
     ]
    }
   ],
   "source": [
    "dataset_test_extend = dataset_train[-lookback_days:].append(dataset_test)\n",
    "print(dataset_train.shape, dataset_test.shape, dataset_test_extend.shape)"
   ]
  },
  {
   "cell_type": "code",
   "execution_count": 20,
   "metadata": {},
   "outputs": [],
   "source": [
    "train_set = dataset_train[['Scaled_Close']].values\n",
    "test_set = dataset_test[['Scaled_Close']].values"
   ]
  },
  {
   "cell_type": "code",
   "execution_count": 21,
   "metadata": {},
   "outputs": [
    {
     "name": "stdout",
     "output_type": "stream",
     "text": [
      "(4854, 1) (280, 1) (295, 1)\n"
     ]
    }
   ],
   "source": [
    "# extend the test set to add some previous information\n",
    "test_set_extend = dataset_test_extend[['Scaled_Close']].values\n",
    "print(train_set.shape, test_set.shape, test_set_extend.shape)"
   ]
  },
  {
   "cell_type": "code",
   "execution_count": 22,
   "metadata": {},
   "outputs": [
    {
     "data": {
      "text/html": [
       "<div>\n",
       "<style scoped>\n",
       "    .dataframe tbody tr th:only-of-type {\n",
       "        vertical-align: middle;\n",
       "    }\n",
       "\n",
       "    .dataframe tbody tr th {\n",
       "        vertical-align: top;\n",
       "    }\n",
       "\n",
       "    .dataframe thead th {\n",
       "        text-align: right;\n",
       "    }\n",
       "</style>\n",
       "<table border=\"1\" class=\"dataframe\">\n",
       "  <thead>\n",
       "    <tr style=\"text-align: right;\">\n",
       "      <th></th>\n",
       "      <th>Date</th>\n",
       "      <th>Adj Close</th>\n",
       "      <th>Scaled_Close</th>\n",
       "    </tr>\n",
       "  </thead>\n",
       "  <tbody>\n",
       "    <tr>\n",
       "      <th>4854</th>\n",
       "      <td>2019-04-22</td>\n",
       "      <td>201.342468</td>\n",
       "      <td>0.613740</td>\n",
       "    </tr>\n",
       "    <tr>\n",
       "      <th>4855</th>\n",
       "      <td>2019-04-23</td>\n",
       "      <td>204.246475</td>\n",
       "      <td>0.622483</td>\n",
       "    </tr>\n",
       "    <tr>\n",
       "      <th>4856</th>\n",
       "      <td>2019-04-24</td>\n",
       "      <td>203.931473</td>\n",
       "      <td>0.621535</td>\n",
       "    </tr>\n",
       "    <tr>\n",
       "      <th>4857</th>\n",
       "      <td>2019-04-25</td>\n",
       "      <td>202.080780</td>\n",
       "      <td>0.615963</td>\n",
       "    </tr>\n",
       "    <tr>\n",
       "      <th>4858</th>\n",
       "      <td>2019-04-26</td>\n",
       "      <td>201.116043</td>\n",
       "      <td>0.613058</td>\n",
       "    </tr>\n",
       "  </tbody>\n",
       "</table>\n",
       "</div>"
      ],
      "text/plain": [
       "           Date   Adj Close  Scaled_Close\n",
       "4854 2019-04-22  201.342468      0.613740\n",
       "4855 2019-04-23  204.246475      0.622483\n",
       "4856 2019-04-24  203.931473      0.621535\n",
       "4857 2019-04-25  202.080780      0.615963\n",
       "4858 2019-04-26  201.116043      0.613058"
      ]
     },
     "execution_count": 22,
     "metadata": {},
     "output_type": "execute_result"
    }
   ],
   "source": [
    "dataset_test.head()"
   ]
  },
  {
   "cell_type": "markdown",
   "metadata": {},
   "source": [
    "## LSTM Training"
   ]
  },
  {
   "cell_type": "markdown",
   "metadata": {},
   "source": [
    "#### Create sequence for training"
   ]
  },
  {
   "cell_type": "code",
   "execution_count": 23,
   "metadata": {},
   "outputs": [
    {
     "data": {
      "text/html": [
       "<div>\n",
       "<style scoped>\n",
       "    .dataframe tbody tr th:only-of-type {\n",
       "        vertical-align: middle;\n",
       "    }\n",
       "\n",
       "    .dataframe tbody tr th {\n",
       "        vertical-align: top;\n",
       "    }\n",
       "\n",
       "    .dataframe thead th {\n",
       "        text-align: right;\n",
       "    }\n",
       "</style>\n",
       "<table border=\"1\" class=\"dataframe\">\n",
       "  <thead>\n",
       "    <tr style=\"text-align: right;\">\n",
       "      <th></th>\n",
       "      <th>Date</th>\n",
       "      <th>Adj Close</th>\n",
       "      <th>Scaled_Close</th>\n",
       "    </tr>\n",
       "  </thead>\n",
       "  <tbody>\n",
       "    <tr>\n",
       "      <th>0</th>\n",
       "      <td>2000-01-03</td>\n",
       "      <td>3.460857</td>\n",
       "      <td>0.017977</td>\n",
       "    </tr>\n",
       "    <tr>\n",
       "      <th>1</th>\n",
       "      <td>2000-01-04</td>\n",
       "      <td>3.169071</td>\n",
       "      <td>0.017099</td>\n",
       "    </tr>\n",
       "    <tr>\n",
       "      <th>2</th>\n",
       "      <td>2000-01-05</td>\n",
       "      <td>3.215448</td>\n",
       "      <td>0.017238</td>\n",
       "    </tr>\n",
       "    <tr>\n",
       "      <th>3</th>\n",
       "      <td>2000-01-06</td>\n",
       "      <td>2.937188</td>\n",
       "      <td>0.016400</td>\n",
       "    </tr>\n",
       "    <tr>\n",
       "      <th>4</th>\n",
       "      <td>2000-01-07</td>\n",
       "      <td>3.076317</td>\n",
       "      <td>0.016819</td>\n",
       "    </tr>\n",
       "  </tbody>\n",
       "</table>\n",
       "</div>"
      ],
      "text/plain": [
       "        Date  Adj Close  Scaled_Close\n",
       "0 2000-01-03   3.460857      0.017977\n",
       "1 2000-01-04   3.169071      0.017099\n",
       "2 2000-01-05   3.215448      0.017238\n",
       "3 2000-01-06   2.937188      0.016400\n",
       "4 2000-01-07   3.076317      0.016819"
      ]
     },
     "execution_count": 23,
     "metadata": {},
     "output_type": "execute_result"
    }
   ],
   "source": [
    "dataset_train.head()"
   ]
  },
  {
   "cell_type": "code",
   "execution_count": 24,
   "metadata": {},
   "outputs": [],
   "source": [
    "# train sequence is continuous\n",
    "def generate_train_sequence(train_data, lookback_days, forcast_days):\n",
    "    \"\"\"\n",
    "    Generate sequence array for train data,\n",
    "    inclduing both X and y\n",
    "    \"\"\"\n",
    "    X = []\n",
    "    y = []\n",
    "    m = lookback_days\n",
    "    n =forcast_days\n",
    "    N = len(train_data)\n",
    "    \n",
    "    for i in range(0, N, 1):\n",
    "        # input sequence : x[i].....x[i+m]\n",
    "        # output sequence: x[i+m+1]....x[i+m+n] \n",
    "        # last index is (i+m+n)\n",
    "        end_index = i + m + n # find the end of this sequence\n",
    "        # check if we are out of index\n",
    "        if end_index > N-1:\n",
    "            break\n",
    "        seq_x = train_data[i:(i+m)]\n",
    "        seq_y = train_data[(i+m):(i+m+n)]\n",
    "        X.append(seq_x)\n",
    "        y.append(seq_y)\n",
    "        \n",
    "    array_X = np.array(X) # shape (N, m, 1)\n",
    "    array_y = np.array([list(a.ravel()) for a in np.array(y)]) # shape (N, n, 1) convert to (N, n)\n",
    "    return array_X, array_y"
   ]
  },
  {
   "cell_type": "code",
   "execution_count": 25,
   "metadata": {},
   "outputs": [
    {
     "name": "stdout",
     "output_type": "stream",
     "text": [
      "(4832, 15, 1) (4832, 7)\n"
     ]
    }
   ],
   "source": [
    "X_train, y_train = generate_train_sequence(train_set, lookback_days, forcast_days)\n",
    "print(X_train.shape, y_train.shape)"
   ]
  },
  {
   "cell_type": "code",
   "execution_count": 26,
   "metadata": {},
   "outputs": [
    {
     "name": "stdout",
     "output_type": "stream",
     "text": [
      "[[0.01797708]\n",
      " [0.0170986 ]\n",
      " [0.01723823]\n",
      " [0.01640047]\n",
      " [0.01681935]\n",
      " [0.01665645]\n",
      " [0.01619103]\n",
      " [0.01567325]\n",
      " [0.01656337]\n",
      " [0.01690661]\n",
      " [0.01723241]\n",
      " [0.01747675]\n",
      " [0.01812253]\n",
      " [0.0179189 ]\n",
      " [0.01744766]]\n",
      " \n",
      "[0.01800617 0.01781418 0.01779673 0.01701715 0.01721496 0.01688916\n",
      " 0.01675535]\n"
     ]
    }
   ],
   "source": [
    "print(X_train[0])\n",
    "print(' ')\n",
    "print(y_train[0])"
   ]
  },
  {
   "cell_type": "markdown",
   "metadata": {},
   "source": [
    "## LSTM model implementation"
   ]
  },
  {
   "cell_type": "code",
   "execution_count": 27,
   "metadata": {},
   "outputs": [],
   "source": [
    "model = Sequential()\n",
    "model.add(LSTM(units=30, activation='relu', input_shape=(lookback_days,1)))\n",
    "model.add(Dense(forcast_days))\n",
    "model.compile(optimizer='adam', loss='mean_squared_error')"
   ]
  },
  {
   "cell_type": "code",
   "execution_count": 28,
   "metadata": {},
   "outputs": [
    {
     "name": "stdout",
     "output_type": "stream",
     "text": [
      "Model: \"sequential_1\"\n",
      "_________________________________________________________________\n",
      "Layer (type)                 Output Shape              Param #   \n",
      "=================================================================\n",
      "lstm_1 (LSTM)                (None, 30)                3840      \n",
      "_________________________________________________________________\n",
      "dense_1 (Dense)              (None, 7)                 217       \n",
      "=================================================================\n",
      "Total params: 4,057\n",
      "Trainable params: 4,057\n",
      "Non-trainable params: 0\n",
      "_________________________________________________________________\n"
     ]
    }
   ],
   "source": [
    "model.summary()"
   ]
  },
  {
   "cell_type": "code",
   "execution_count": 29,
   "metadata": {},
   "outputs": [
    {
     "name": "stdout",
     "output_type": "stream",
     "text": [
      "Epoch 1/300\n",
      "4832/4832 [==============================] - 2s 363us/step - loss: 0.0116\n",
      "Epoch 2/300\n",
      "4832/4832 [==============================] - 1s 241us/step - loss: 1.3748e-04\n",
      "Epoch 3/300\n",
      "4832/4832 [==============================] - 1s 232us/step - loss: 1.2465e-04\n",
      "Epoch 4/300\n",
      "4832/4832 [==============================] - 1s 249us/step - loss: 1.1013e-04\n",
      "Epoch 5/300\n",
      "4832/4832 [==============================] - 1s 237us/step - loss: 1.0358e-04\n",
      "Epoch 6/300\n",
      "4832/4832 [==============================] - 1s 237us/step - loss: 1.0560e-04\n",
      "Epoch 7/300\n",
      "4832/4832 [==============================] - 1s 252us/step - loss: 1.0196e-04\n",
      "Epoch 8/300\n",
      "4832/4832 [==============================] - 1s 236us/step - loss: 1.0044e-04\n",
      "Epoch 9/300\n",
      "4832/4832 [==============================] - 1s 222us/step - loss: 9.9837e-05\n",
      "Epoch 10/300\n",
      "4832/4832 [==============================] - 1s 241us/step - loss: 9.5563e-05\n",
      "Epoch 11/300\n",
      "4832/4832 [==============================] - 1s 229us/step - loss: 9.8282e-05\n",
      "Epoch 12/300\n",
      "4832/4832 [==============================] - 1s 237us/step - loss: 9.7880e-05\n",
      "Epoch 13/300\n",
      "4832/4832 [==============================] - 1s 262us/step - loss: 9.1823e-05\n",
      "Epoch 14/300\n",
      "4832/4832 [==============================] - 1s 239us/step - loss: 8.7461e-05\n",
      "Epoch 15/300\n",
      "4832/4832 [==============================] - 1s 229us/step - loss: 8.7388e-05\n",
      "Epoch 16/300\n",
      "4832/4832 [==============================] - 1s 251us/step - loss: 8.8963e-05\n",
      "Epoch 17/300\n",
      "4832/4832 [==============================] - 1s 249us/step - loss: 8.7209e-05\n",
      "Epoch 18/300\n",
      "4832/4832 [==============================] - 1s 288us/step - loss: 8.9692e-05\n",
      "Epoch 19/300\n",
      "4832/4832 [==============================] - 1s 267us/step - loss: 8.6018e-05\n",
      "Epoch 20/300\n",
      "4832/4832 [==============================] - 1s 250us/step - loss: 8.6794e-05\n",
      "Epoch 21/300\n",
      "4832/4832 [==============================] - 1s 287us/step - loss: 7.8620e-05\n",
      "Epoch 22/300\n",
      "4832/4832 [==============================] - 1s 256us/step - loss: 7.8260e-05\n",
      "Epoch 23/300\n",
      "4832/4832 [==============================] - 1s 243us/step - loss: 7.6030e-05\n",
      "Epoch 24/300\n",
      "4832/4832 [==============================] - 1s 264us/step - loss: 8.2272e-05\n",
      "Epoch 25/300\n",
      "4832/4832 [==============================] - 1s 234us/step - loss: 8.1390e-05\n",
      "Epoch 26/300\n",
      "4832/4832 [==============================] - 1s 232us/step - loss: 7.6417e-05\n",
      "Epoch 27/300\n",
      "4832/4832 [==============================] - 1s 245us/step - loss: 7.8960e-05\n",
      "Epoch 28/300\n",
      "4832/4832 [==============================] - 1s 225us/step - loss: 7.8508e-05\n",
      "Epoch 29/300\n",
      "4832/4832 [==============================] - 1s 223us/step - loss: 7.5047e-05\n",
      "Epoch 30/300\n",
      "4832/4832 [==============================] - 1s 235us/step - loss: 7.2986e-05\n",
      "Epoch 31/300\n",
      "4832/4832 [==============================] - 1s 221us/step - loss: 6.8683e-05\n",
      "Epoch 32/300\n",
      "4832/4832 [==============================] - 1s 222us/step - loss: 7.3011e-05\n",
      "Epoch 33/300\n",
      "4832/4832 [==============================] - 1s 238us/step - loss: 7.1386e-05\n",
      "Epoch 34/300\n",
      "4832/4832 [==============================] - 1s 220us/step - loss: 7.0809e-05\n",
      "Epoch 35/300\n",
      "4832/4832 [==============================] - 1s 222us/step - loss: 7.4927e-05\n",
      "Epoch 36/300\n",
      "4832/4832 [==============================] - 1s 239us/step - loss: 7.6093e-05\n",
      "Epoch 37/300\n",
      "4832/4832 [==============================] - 1s 224us/step - loss: 6.8741e-05\n",
      "Epoch 38/300\n",
      "4832/4832 [==============================] - 1s 235us/step - loss: 7.2479e-05\n",
      "Epoch 39/300\n",
      "4832/4832 [==============================] - 1s 269us/step - loss: 6.8045e-05\n",
      "Epoch 40/300\n",
      "4832/4832 [==============================] - 1s 230us/step - loss: 7.0528e-05\n",
      "Epoch 41/300\n",
      "4832/4832 [==============================] - 1s 232us/step - loss: 6.9065e-05\n",
      "Epoch 42/300\n",
      "4832/4832 [==============================] - 1s 240us/step - loss: 6.6913e-05\n",
      "Epoch 43/300\n",
      "4832/4832 [==============================] - 1s 221us/step - loss: 6.7305e-05\n",
      "Epoch 44/300\n",
      "4832/4832 [==============================] - 1s 242us/step - loss: 7.2061e-05\n",
      "Epoch 45/300\n",
      "4832/4832 [==============================] - 1s 232us/step - loss: 7.1350e-05\n",
      "Epoch 46/300\n",
      "4832/4832 [==============================] - 1s 218us/step - loss: 6.5511e-05\n",
      "Epoch 47/300\n",
      "4832/4832 [==============================] - 1s 230us/step - loss: 6.7540e-05\n",
      "Epoch 48/300\n",
      "4832/4832 [==============================] - 1s 236us/step - loss: 6.6546e-05\n",
      "Epoch 49/300\n",
      "4832/4832 [==============================] - 1s 220us/step - loss: 6.5281e-05\n",
      "Epoch 50/300\n",
      "4832/4832 [==============================] - 1s 226us/step - loss: 6.7386e-05\n",
      "Epoch 51/300\n",
      "4832/4832 [==============================] - 1s 230us/step - loss: 6.5504e-05\n",
      "Epoch 52/300\n",
      "4832/4832 [==============================] - 1s 234us/step - loss: 7.0531e-05\n",
      "Epoch 53/300\n",
      "4832/4832 [==============================] - 1s 242us/step - loss: 6.7833e-05\n",
      "Epoch 54/300\n",
      "4832/4832 [==============================] - 1s 250us/step - loss: 6.4430e-05\n",
      "Epoch 55/300\n",
      "4832/4832 [==============================] - 1s 236us/step - loss: 6.2390e-05\n",
      "Epoch 56/300\n",
      "4832/4832 [==============================] - 1s 239us/step - loss: 6.3014e-05\n",
      "Epoch 57/300\n",
      "4832/4832 [==============================] - 1s 228us/step - loss: 6.9249e-05\n",
      "Epoch 58/300\n",
      "4832/4832 [==============================] - 1s 228us/step - loss: 6.9773e-05\n",
      "Epoch 59/300\n",
      "4832/4832 [==============================] - 1s 236us/step - loss: 6.3677e-05\n",
      "Epoch 60/300\n",
      "4832/4832 [==============================] - 1s 229us/step - loss: 6.2514e-05\n",
      "Epoch 61/300\n",
      "4832/4832 [==============================] - 1s 231us/step - loss: 6.4409e-05\n",
      "Epoch 62/300\n",
      "4832/4832 [==============================] - 1s 250us/step - loss: 6.4123e-05\n",
      "Epoch 63/300\n",
      "4832/4832 [==============================] - 1s 234us/step - loss: 6.1138e-05\n",
      "Epoch 64/300\n",
      "4832/4832 [==============================] - 1s 226us/step - loss: 6.1436e-05\n",
      "Epoch 65/300\n",
      "4832/4832 [==============================] - 1s 254us/step - loss: 6.1989e-05\n",
      "Epoch 66/300\n",
      "4832/4832 [==============================] - 1s 234us/step - loss: 6.3077e-05\n",
      "Epoch 67/300\n",
      "4832/4832 [==============================] - 1s 222us/step - loss: 6.6338e-05\n",
      "Epoch 68/300\n",
      "4832/4832 [==============================] - 1s 248us/step - loss: 6.2426e-05\n",
      "Epoch 69/300\n",
      "4832/4832 [==============================] - 1s 226us/step - loss: 6.5680e-05\n",
      "Epoch 70/300\n",
      "4832/4832 [==============================] - 1s 231us/step - loss: 6.1921e-05\n",
      "Epoch 71/300\n",
      "4832/4832 [==============================] - 1s 248us/step - loss: 6.0096e-05\n",
      "Epoch 72/300\n",
      "4832/4832 [==============================] - 1s 222us/step - loss: 6.1178e-05\n",
      "Epoch 73/300\n",
      "4832/4832 [==============================] - 1s 238us/step - loss: 6.0633e-05\n",
      "Epoch 74/300\n",
      "4832/4832 [==============================] - 1s 239us/step - loss: 6.0941e-05\n",
      "Epoch 75/300\n",
      "4832/4832 [==============================] - 1s 223us/step - loss: 6.1074e-05\n",
      "Epoch 76/300\n",
      "4832/4832 [==============================] - 1s 235us/step - loss: 6.1192e-05\n",
      "Epoch 77/300\n",
      "4832/4832 [==============================] - 1s 250us/step - loss: 5.9081e-05\n",
      "Epoch 78/300\n",
      "4832/4832 [==============================] - 1s 223us/step - loss: 5.9981e-05\n",
      "Epoch 79/300\n",
      "4832/4832 [==============================] - 1s 220us/step - loss: 6.0276e-05\n",
      "Epoch 80/300\n",
      "4832/4832 [==============================] - 1s 239us/step - loss: 5.8812e-05\n",
      "Epoch 81/300\n",
      "4832/4832 [==============================] - 1s 214us/step - loss: 6.2075e-05\n",
      "Epoch 82/300\n",
      "4832/4832 [==============================] - 1s 221us/step - loss: 6.0101e-05\n",
      "Epoch 83/300\n",
      "4832/4832 [==============================] - 1s 228us/step - loss: 6.3482e-05\n",
      "Epoch 84/300\n",
      "4832/4832 [==============================] - 1s 217us/step - loss: 5.9931e-05\n",
      "Epoch 85/300\n",
      "4832/4832 [==============================] - 1s 228us/step - loss: 5.8133e-05\n",
      "Epoch 86/300\n",
      "4832/4832 [==============================] - 1s 238us/step - loss: 5.9806e-05\n",
      "Epoch 87/300\n",
      "4832/4832 [==============================] - 1s 219us/step - loss: 6.0453e-05\n",
      "Epoch 88/300\n",
      "4832/4832 [==============================] - 1s 216us/step - loss: 5.9319e-05\n",
      "Epoch 89/300\n",
      "4832/4832 [==============================] - 1s 235us/step - loss: 5.8664e-05\n",
      "Epoch 90/300\n",
      "4832/4832 [==============================] - 1s 217us/step - loss: 5.7385e-05\n",
      "Epoch 91/300\n"
     ]
    },
    {
     "name": "stdout",
     "output_type": "stream",
     "text": [
      "4832/4832 [==============================] - 1s 224us/step - loss: 5.7710e-05\n",
      "Epoch 92/300\n",
      "4832/4832 [==============================] - 1s 234us/step - loss: 5.8198e-05\n",
      "Epoch 93/300\n",
      "4832/4832 [==============================] - 1s 219us/step - loss: 6.1359e-05\n",
      "Epoch 94/300\n",
      "4832/4832 [==============================] - 1s 217us/step - loss: 5.7985e-05\n",
      "Epoch 95/300\n",
      "4832/4832 [==============================] - 1s 229us/step - loss: 6.0058e-05\n",
      "Epoch 96/300\n",
      "4832/4832 [==============================] - 1s 215us/step - loss: 5.7025e-05\n",
      "Epoch 97/300\n",
      "4832/4832 [==============================] - 1s 230us/step - loss: 5.6345e-05\n",
      "Epoch 98/300\n",
      "4832/4832 [==============================] - 1s 249us/step - loss: 5.7722e-05\n",
      "Epoch 99/300\n",
      "4832/4832 [==============================] - 1s 224us/step - loss: 5.7488e-05\n",
      "Epoch 100/300\n",
      "4832/4832 [==============================] - 1s 234us/step - loss: 5.7706e-05\n",
      "Epoch 101/300\n",
      "4832/4832 [==============================] - ETA: 0s - loss: 5.6521e-0 - 1s 241us/step - loss: 5.6333e-05\n",
      "Epoch 102/300\n",
      "4832/4832 [==============================] - 1s 220us/step - loss: 6.4987e-05\n",
      "Epoch 103/300\n",
      "4832/4832 [==============================] - 1s 230us/step - loss: 5.6014e-05\n",
      "Epoch 104/300\n",
      "4832/4832 [==============================] - 1s 240us/step - loss: 5.7652e-05\n",
      "Epoch 105/300\n",
      "4832/4832 [==============================] - 1s 220us/step - loss: 5.7356e-05\n",
      "Epoch 106/300\n",
      "4832/4832 [==============================] - 1s 235us/step - loss: 5.6334e-05\n",
      "Epoch 107/300\n",
      "4832/4832 [==============================] - 1s 237us/step - loss: 5.8905e-05\n",
      "Epoch 108/300\n",
      "4832/4832 [==============================] - 1s 221us/step - loss: 5.6034e-05\n",
      "Epoch 109/300\n",
      "4832/4832 [==============================] - 1s 230us/step - loss: 5.7147e-05\n",
      "Epoch 110/300\n",
      "4832/4832 [==============================] - 1s 235us/step - loss: 5.5853e-05\n",
      "Epoch 111/300\n",
      "4832/4832 [==============================] - 1s 228us/step - loss: 5.5708e-05\n",
      "Epoch 112/300\n",
      "4832/4832 [==============================] - 1s 232us/step - loss: 5.8320e-05\n",
      "Epoch 113/300\n",
      "4832/4832 [==============================] - 1s 235us/step - loss: 5.9880e-05\n",
      "Epoch 114/300\n",
      "4832/4832 [==============================] - 1s 222us/step - loss: 5.4482e-05\n",
      "Epoch 115/300\n",
      "4832/4832 [==============================] - 1s 228us/step - loss: 5.6158e-05\n",
      "Epoch 116/300\n",
      "4832/4832 [==============================] - 1s 237us/step - loss: 5.6001e-05\n",
      "Epoch 117/300\n",
      "4832/4832 [==============================] - 1s 220us/step - loss: 6.2412e-05\n",
      "Epoch 118/300\n",
      "4832/4832 [==============================] - 1s 230us/step - loss: 5.6330e-05\n",
      "Epoch 119/300\n",
      "4832/4832 [==============================] - 1s 234us/step - loss: 5.6215e-05\n",
      "Epoch 120/300\n",
      "4832/4832 [==============================] - 1s 221us/step - loss: 5.5817e-05\n",
      "Epoch 121/300\n",
      "4832/4832 [==============================] - ETA: 0s - loss: 5.6676e-0 - 1s 229us/step - loss: 5.6045e-05\n",
      "Epoch 122/300\n",
      "4832/4832 [==============================] - 1s 234us/step - loss: 5.6239e-05\n",
      "Epoch 123/300\n",
      "4832/4832 [==============================] - 1s 221us/step - loss: 5.4444e-05\n",
      "Epoch 124/300\n",
      "4832/4832 [==============================] - 1s 228us/step - loss: 5.6685e-05\n",
      "Epoch 125/300\n",
      "4832/4832 [==============================] - 1s 236us/step - loss: 5.5660e-05\n",
      "Epoch 126/300\n",
      "4832/4832 [==============================] - 1s 222us/step - loss: 5.7445e-05\n",
      "Epoch 127/300\n",
      "4832/4832 [==============================] - 1s 242us/step - loss: 5.5371e-05\n",
      "Epoch 128/300\n",
      "4832/4832 [==============================] - 1s 249us/step - loss: 5.5534e-05\n",
      "Epoch 129/300\n",
      "4832/4832 [==============================] - 1s 233us/step - loss: 5.7806e-05\n",
      "Epoch 130/300\n",
      "4832/4832 [==============================] - 1s 239us/step - loss: 5.9022e-05\n",
      "Epoch 131/300\n",
      "4832/4832 [==============================] - 1s 244us/step - loss: 5.5745e-05\n",
      "Epoch 132/300\n",
      "4832/4832 [==============================] - 1s 225us/step - loss: 5.4716e-05\n",
      "Epoch 133/300\n",
      "4832/4832 [==============================] - 1s 233us/step - loss: 5.4982e-05\n",
      "Epoch 134/300\n",
      "4832/4832 [==============================] - 1s 231us/step - loss: 5.7740e-05\n",
      "Epoch 135/300\n",
      "4832/4832 [==============================] - 1s 222us/step - loss: 5.4732e-05\n",
      "Epoch 136/300\n",
      "4832/4832 [==============================] - 1s 234us/step - loss: 5.9354e-05\n",
      "Epoch 137/300\n",
      "4832/4832 [==============================] - 1s 231us/step - loss: 5.8390e-05\n",
      "Epoch 138/300\n",
      "4832/4832 [==============================] - 1s 225us/step - loss: 5.6519e-05\n",
      "Epoch 139/300\n",
      "4832/4832 [==============================] - 1s 238us/step - loss: 5.4030e-05\n",
      "Epoch 140/300\n",
      "4832/4832 [==============================] - 1s 231us/step - loss: 5.6102e-05\n",
      "Epoch 141/300\n",
      "4832/4832 [==============================] - 1s 224us/step - loss: 5.6985e-05\n",
      "Epoch 142/300\n",
      "4832/4832 [==============================] - 1s 233us/step - loss: 5.3956e-05\n",
      "Epoch 143/300\n",
      "4832/4832 [==============================] - 1s 230us/step - loss: 5.7121e-05\n",
      "Epoch 144/300\n",
      "4832/4832 [==============================] - 1s 225us/step - loss: 5.7367e-05\n",
      "Epoch 145/300\n",
      "4832/4832 [==============================] - 1s 236us/step - loss: 5.3767e-05\n",
      "Epoch 146/300\n",
      "4832/4832 [==============================] - 1s 231us/step - loss: 5.2875e-05\n",
      "Epoch 147/300\n",
      "4832/4832 [==============================] - 1s 220us/step - loss: 5.4530e-05\n",
      "Epoch 148/300\n",
      "4832/4832 [==============================] - 1s 236us/step - loss: 5.4224e-05\n",
      "Epoch 149/300\n",
      "4832/4832 [==============================] - 1s 231us/step - loss: 5.4930e-05\n",
      "Epoch 150/300\n",
      "4832/4832 [==============================] - 1s 219us/step - loss: 5.4336e-05\n",
      "Epoch 151/300\n",
      "4832/4832 [==============================] - 1s 245us/step - loss: 5.4264e-05\n",
      "Epoch 152/300\n",
      "4832/4832 [==============================] - 1s 234us/step - loss: 5.4315e-05\n",
      "Epoch 153/300\n",
      "4832/4832 [==============================] - 1s 225us/step - loss: 5.2938e-05\n",
      "Epoch 154/300\n",
      "4832/4832 [==============================] - 1s 246us/step - loss: 5.3186e-05\n",
      "Epoch 155/300\n",
      "4832/4832 [==============================] - 1s 242us/step - loss: 5.5589e-05\n",
      "Epoch 156/300\n",
      "4832/4832 [==============================] - 1s 241us/step - loss: 5.6313e-05\n",
      "Epoch 157/300\n",
      "4832/4832 [==============================] - 1s 250us/step - loss: 5.6109e-05\n",
      "Epoch 158/300\n",
      "4832/4832 [==============================] - 1s 237us/step - loss: 5.5949e-05\n",
      "Epoch 159/300\n",
      "4832/4832 [==============================] - 1s 231us/step - loss: 5.2935e-05\n",
      "Epoch 160/300\n",
      "4832/4832 [==============================] - 1s 252us/step - loss: 5.2979e-05\n",
      "Epoch 161/300\n",
      "4832/4832 [==============================] - 1s 239us/step - loss: 5.4084e-05\n",
      "Epoch 162/300\n",
      "4832/4832 [==============================] - 1s 236us/step - loss: 5.8629e-05\n",
      "Epoch 163/300\n",
      "4832/4832 [==============================] - 1s 259us/step - loss: 5.2833e-05\n",
      "Epoch 164/300\n",
      "4832/4832 [==============================] - 1s 232us/step - loss: 5.5244e-05\n",
      "Epoch 165/300\n",
      "4832/4832 [==============================] - 1s 235us/step - loss: 5.3790e-05\n",
      "Epoch 166/300\n",
      "4832/4832 [==============================] - 1s 241us/step - loss: 5.6111e-05\n",
      "Epoch 167/300\n",
      "4832/4832 [==============================] - 1s 221us/step - loss: 5.3432e-05\n",
      "Epoch 168/300\n",
      "4832/4832 [==============================] - 1s 236us/step - loss: 5.4039e-05\n",
      "Epoch 169/300\n",
      "4832/4832 [==============================] - 1s 243us/step - loss: 5.2985e-05\n",
      "Epoch 170/300\n",
      "4832/4832 [==============================] - 1s 229us/step - loss: 5.2361e-05\n",
      "Epoch 171/300\n",
      "4832/4832 [==============================] - 1s 238us/step - loss: 5.4018e-05\n",
      "Epoch 172/300\n",
      "4832/4832 [==============================] - 1s 243us/step - loss: 5.3491e-05\n",
      "Epoch 173/300\n",
      "4832/4832 [==============================] - 1s 228us/step - loss: 5.6696e-05\n",
      "Epoch 174/300\n",
      "4832/4832 [==============================] - 1s 237us/step - loss: 5.5877e-05\n",
      "Epoch 175/300\n",
      "4832/4832 [==============================] - 1s 257us/step - loss: 5.5275e-05 \n",
      "Epoch 176/300\n",
      "4832/4832 [==============================] - 1s 226us/step - loss: 5.4789e-05\n",
      "Epoch 177/300\n",
      "4832/4832 [==============================] - 1s 239us/step - loss: 5.2913e-05\n",
      "Epoch 178/300\n",
      "4832/4832 [==============================] - 1s 235us/step - loss: 5.2776e-05\n",
      "Epoch 179/300\n"
     ]
    },
    {
     "name": "stdout",
     "output_type": "stream",
     "text": [
      "4832/4832 [==============================] - 1s 221us/step - loss: 5.3707e-05\n",
      "Epoch 180/300\n",
      "4832/4832 [==============================] - 1s 229us/step - loss: 5.4313e-05\n",
      "Epoch 181/300\n",
      "4832/4832 [==============================] - 1s 228us/step - loss: 5.3234e-05\n",
      "Epoch 182/300\n",
      "4832/4832 [==============================] - 1s 220us/step - loss: 5.2871e-05\n",
      "Epoch 183/300\n",
      "4832/4832 [==============================] - 1s 223us/step - loss: 5.3381e-05\n",
      "Epoch 184/300\n",
      "4832/4832 [==============================] - 1s 228us/step - loss: 5.4624e-05\n",
      "Epoch 185/300\n",
      "4832/4832 [==============================] - 1s 219us/step - loss: 5.3673e-05\n",
      "Epoch 186/300\n",
      "4832/4832 [==============================] - 1s 222us/step - loss: 5.2854e-05\n",
      "Epoch 187/300\n",
      "4832/4832 [==============================] - 1s 233us/step - loss: 5.3150e-05\n",
      "Epoch 188/300\n",
      "4832/4832 [==============================] - 1s 214us/step - loss: 5.1665e-05\n",
      "Epoch 189/300\n",
      "4832/4832 [==============================] - 1s 221us/step - loss: 5.2389e-05\n",
      "Epoch 190/300\n",
      "4832/4832 [==============================] - 1s 234us/step - loss: 5.4870e-05\n",
      "Epoch 191/300\n",
      "4832/4832 [==============================] - 1s 222us/step - loss: 5.2586e-05\n",
      "Epoch 192/300\n",
      "4832/4832 [==============================] - 1s 224us/step - loss: 5.6689e-05\n",
      "Epoch 193/300\n",
      "4832/4832 [==============================] - 1s 235us/step - loss: 5.2893e-05\n",
      "Epoch 194/300\n",
      "4832/4832 [==============================] - 1s 215us/step - loss: 5.2883e-05\n",
      "Epoch 195/300\n",
      "4832/4832 [==============================] - 1s 224us/step - loss: 5.1435e-05\n",
      "Epoch 196/300\n",
      "4832/4832 [==============================] - 1s 229us/step - loss: 5.2461e-05\n",
      "Epoch 197/300\n",
      "4832/4832 [==============================] - 1s 216us/step - loss: 5.3418e-05\n",
      "Epoch 198/300\n",
      "4832/4832 [==============================] - 1s 220us/step - loss: 5.5155e-05\n",
      "Epoch 199/300\n",
      "4832/4832 [==============================] - 1s 233us/step - loss: 5.4769e-05\n",
      "Epoch 200/300\n",
      "4832/4832 [==============================] - 1s 217us/step - loss: 5.3971e-05\n",
      "Epoch 201/300\n",
      "4832/4832 [==============================] - 1s 217us/step - loss: 5.4271e-05\n",
      "Epoch 202/300\n",
      "4832/4832 [==============================] - 1s 234us/step - loss: 5.3936e-05\n",
      "Epoch 203/300\n",
      "4832/4832 [==============================] - 1s 216us/step - loss: 5.2194e-05\n",
      "Epoch 204/300\n",
      "4832/4832 [==============================] - 1s 216us/step - loss: 5.2333e-05\n",
      "Epoch 205/300\n",
      "4832/4832 [==============================] - 1s 232us/step - loss: 5.5798e-05\n",
      "Epoch 206/300\n",
      "4832/4832 [==============================] - 1s 216us/step - loss: 5.1255e-05\n",
      "Epoch 207/300\n",
      "4832/4832 [==============================] - 1s 215us/step - loss: 5.2385e-05\n",
      "Epoch 208/300\n",
      "4832/4832 [==============================] - 1s 232us/step - loss: 5.3664e-05\n",
      "Epoch 209/300\n",
      "4832/4832 [==============================] - 1s 221us/step - loss: 5.5173e-05\n",
      "Epoch 210/300\n",
      "4832/4832 [==============================] - 1s 217us/step - loss: 5.2639e-05\n",
      "Epoch 211/300\n",
      "4832/4832 [==============================] - 1s 231us/step - loss: 5.1210e-05\n",
      "Epoch 212/300\n",
      "4832/4832 [==============================] - 1s 219us/step - loss: 5.2026e-05\n",
      "Epoch 213/300\n",
      "4832/4832 [==============================] - 1s 216us/step - loss: 5.2104e-05\n",
      "Epoch 214/300\n",
      "4832/4832 [==============================] - 1s 231us/step - loss: 5.3101e-05\n",
      "Epoch 215/300\n",
      "4832/4832 [==============================] - 1s 222us/step - loss: 5.1972e-05\n",
      "Epoch 216/300\n",
      "4832/4832 [==============================] - 1s 216us/step - loss: 5.4142e-05\n",
      "Epoch 217/300\n",
      "4832/4832 [==============================] - 1s 229us/step - loss: 5.2327e-05\n",
      "Epoch 218/300\n",
      "4832/4832 [==============================] - 1s 229us/step - loss: 5.3135e-05\n",
      "Epoch 219/300\n",
      "4832/4832 [==============================] - 1s 217us/step - loss: 5.3382e-05\n",
      "Epoch 220/300\n",
      "4832/4832 [==============================] - 1s 233us/step - loss: 5.1385e-05\n",
      "Epoch 221/300\n",
      "4832/4832 [==============================] - 1s 223us/step - loss: 5.2442e-05\n",
      "Epoch 222/300\n",
      "4832/4832 [==============================] - 1s 216us/step - loss: 5.4985e-05\n",
      "Epoch 223/300\n",
      "4832/4832 [==============================] - 1s 234us/step - loss: 5.4023e-05\n",
      "Epoch 224/300\n",
      "4832/4832 [==============================] - 1s 225us/step - loss: 5.1963e-05\n",
      "Epoch 225/300\n",
      "4832/4832 [==============================] - 1s 219us/step - loss: 5.2349e-05\n",
      "Epoch 226/300\n",
      "4832/4832 [==============================] - 1s 226us/step - loss: 5.2553e-05\n",
      "Epoch 227/300\n",
      "4832/4832 [==============================] - 1s 225us/step - loss: 5.2960e-05\n",
      "Epoch 228/300\n",
      "4832/4832 [==============================] - 1s 226us/step - loss: 5.2227e-05\n",
      "Epoch 229/300\n",
      "4832/4832 [==============================] - 1s 228us/step - loss: 5.3867e-05\n",
      "Epoch 230/300\n",
      "4832/4832 [==============================] - 1s 226us/step - loss: 5.5216e-05\n",
      "Epoch 231/300\n",
      "4832/4832 [==============================] - 1s 217us/step - loss: 5.1885e-05\n",
      "Epoch 232/300\n",
      "4832/4832 [==============================] - 1s 222us/step - loss: 5.3395e-05\n",
      "Epoch 233/300\n",
      "4832/4832 [==============================] - 1s 230us/step - loss: 5.3373e-05\n",
      "Epoch 234/300\n",
      "4832/4832 [==============================] - 1s 216us/step - loss: 5.4322e-05\n",
      "Epoch 235/300\n",
      "4832/4832 [==============================] - 1s 234us/step - loss: 5.2621e-05\n",
      "Epoch 236/300\n",
      "4832/4832 [==============================] - 1s 245us/step - loss: 5.5078e-05\n",
      "Epoch 237/300\n",
      "4832/4832 [==============================] - 1s 223us/step - loss: 5.3797e-05\n",
      "Epoch 238/300\n",
      "4832/4832 [==============================] - 1s 236us/step - loss: 5.5227e-05\n",
      "Epoch 239/300\n",
      "4832/4832 [==============================] - 1s 294us/step - loss: 5.2904e-05\n",
      "Epoch 240/300\n",
      "4832/4832 [==============================] - 1s 228us/step - loss: 5.2166e-05\n",
      "Epoch 241/300\n",
      "4832/4832 [==============================] - 1s 295us/step - loss: 5.4202e-05\n",
      "Epoch 242/300\n",
      "4832/4832 [==============================] - 1s 265us/step - loss: 5.3154e-05\n",
      "Epoch 243/300\n",
      "4832/4832 [==============================] - 1s 259us/step - loss: 5.3151e-05\n",
      "Epoch 244/300\n",
      "4832/4832 [==============================] - 1s 273us/step - loss: 5.2068e-05\n",
      "Epoch 245/300\n",
      "4832/4832 [==============================] - 1s 229us/step - loss: 5.1955e-05\n",
      "Epoch 246/300\n",
      "4832/4832 [==============================] - 1s 239us/step - loss: 5.3357e-05\n",
      "Epoch 247/300\n",
      "4832/4832 [==============================] - 1s 243us/step - loss: 5.2631e-05\n",
      "Epoch 248/300\n",
      "4832/4832 [==============================] - 1s 213us/step - loss: 5.2223e-05\n",
      "Epoch 249/300\n",
      "4832/4832 [==============================] - 1s 220us/step - loss: 5.3859e-05\n",
      "Epoch 250/300\n",
      "4832/4832 [==============================] - 1s 227us/step - loss: 5.3635e-05 0s\n",
      "Epoch 251/300\n",
      "4832/4832 [==============================] - 1s 216us/step - loss: 5.1934e-05\n",
      "Epoch 252/300\n",
      "4832/4832 [==============================] - 1s 214us/step - loss: 5.3638e-05\n",
      "Epoch 253/300\n",
      "4832/4832 [==============================] - 1s 248us/step - loss: 5.1229e-05\n",
      "Epoch 254/300\n",
      "4832/4832 [==============================] - 1s 234us/step - loss: 5.4839e-05\n",
      "Epoch 255/300\n",
      "4832/4832 [==============================] - 1s 228us/step - loss: 5.2239e-05\n",
      "Epoch 256/300\n",
      "4832/4832 [==============================] - 1s 237us/step - loss: 5.2222e-05\n",
      "Epoch 257/300\n",
      "4832/4832 [==============================] - 1s 230us/step - loss: 5.4090e-05\n",
      "Epoch 258/300\n",
      "4832/4832 [==============================] - 1s 229us/step - loss: 5.2933e-05\n",
      "Epoch 259/300\n",
      "4832/4832 [==============================] - 1s 243us/step - loss: 5.1560e-05\n",
      "Epoch 260/300\n",
      "4832/4832 [==============================] - 1s 230us/step - loss: 5.2581e-05\n",
      "Epoch 261/300\n",
      "4832/4832 [==============================] - 1s 237us/step - loss: 5.2869e-05\n",
      "Epoch 262/300\n",
      "4832/4832 [==============================] - 1s 248us/step - loss: 5.2966e-05\n",
      "Epoch 263/300\n",
      "4832/4832 [==============================] - 1s 229us/step - loss: 5.3020e-05\n",
      "Epoch 264/300\n",
      "4832/4832 [==============================] - 1s 226us/step - loss: 5.2262e-05\n",
      "Epoch 265/300\n",
      "4832/4832 [==============================] - 1s 227us/step - loss: 5.5188e-05\n",
      "Epoch 266/300\n",
      "4832/4832 [==============================] - 1s 212us/step - loss: 5.3626e-05\n",
      "Epoch 267/300\n",
      "4832/4832 [==============================] - 1s 229us/step - loss: 5.3521e-05\n",
      "Epoch 268/300\n"
     ]
    },
    {
     "name": "stdout",
     "output_type": "stream",
     "text": [
      "4832/4832 [==============================] - 1s 260us/step - loss: 5.1982e-05\n",
      "Epoch 269/300\n",
      "4832/4832 [==============================] - 1s 235us/step - loss: 5.1749e-05\n",
      "Epoch 270/300\n",
      "4832/4832 [==============================] - 1s 228us/step - loss: 5.2415e-05\n",
      "Epoch 271/300\n",
      "4832/4832 [==============================] - 1s 231us/step - loss: 5.2937e-05\n",
      "Epoch 272/300\n",
      "4832/4832 [==============================] - 1s 219us/step - loss: 5.1745e-05\n",
      "Epoch 273/300\n",
      "4832/4832 [==============================] - 1s 224us/step - loss: 5.2413e-05\n",
      "Epoch 274/300\n",
      "4832/4832 [==============================] - 1s 224us/step - loss: 5.2572e-05\n",
      "Epoch 275/300\n",
      "4832/4832 [==============================] - 1s 239us/step - loss: 5.2185e-05\n",
      "Epoch 276/300\n",
      "4832/4832 [==============================] - 1s 234us/step - loss: 5.1920e-05\n",
      "Epoch 277/300\n",
      "4832/4832 [==============================] - 1s 219us/step - loss: 5.2154e-05\n",
      "Epoch 278/300\n",
      "4832/4832 [==============================] - 1s 215us/step - loss: 5.2076e-05\n",
      "Epoch 279/300\n",
      "4832/4832 [==============================] - 1s 225us/step - loss: 5.2129e-05\n",
      "Epoch 280/300\n",
      "4832/4832 [==============================] - 1s 227us/step - loss: 5.4217e-05\n",
      "Epoch 281/300\n",
      "4832/4832 [==============================] - 1s 215us/step - loss: 5.3137e-05\n",
      "Epoch 282/300\n",
      "4832/4832 [==============================] - 1s 223us/step - loss: 5.3125e-05\n",
      "Epoch 283/300\n",
      "4832/4832 [==============================] - 1s 228us/step - loss: 5.2409e-05\n",
      "Epoch 284/300\n",
      "4832/4832 [==============================] - 1s 212us/step - loss: 5.1902e-05\n",
      "Epoch 285/300\n",
      "4832/4832 [==============================] - 1s 228us/step - loss: 5.2397e-05\n",
      "Epoch 286/300\n",
      "4832/4832 [==============================] - 1s 238us/step - loss: 5.2043e-05\n",
      "Epoch 287/300\n",
      "4832/4832 [==============================] - 1s 219us/step - loss: 5.2974e-05\n",
      "Epoch 288/300\n",
      "4832/4832 [==============================] - 1s 225us/step - loss: 5.2529e-05\n",
      "Epoch 289/300\n",
      "4832/4832 [==============================] - 1s 224us/step - loss: 5.3471e-05\n",
      "Epoch 290/300\n",
      "4832/4832 [==============================] - 1s 215us/step - loss: 5.3018e-05\n",
      "Epoch 291/300\n",
      "4832/4832 [==============================] - 1s 232us/step - loss: 5.2035e-05\n",
      "Epoch 292/300\n",
      "4832/4832 [==============================] - 1s 234us/step - loss: 5.2131e-05\n",
      "Epoch 293/300\n",
      "4832/4832 [==============================] - 1s 238us/step - loss: 5.1742e-05\n",
      "Epoch 294/300\n",
      "4832/4832 [==============================] - 1s 254us/step - loss: 5.4147e-05\n",
      "Epoch 295/300\n",
      "4832/4832 [==============================] - 1s 262us/step - loss: 5.1757e-05\n",
      "Epoch 296/300\n",
      "4832/4832 [==============================] - 1s 234us/step - loss: 5.6700e-05\n",
      "Epoch 297/300\n",
      "4832/4832 [==============================] - 1s 236us/step - loss: 5.1212e-05\n",
      "Epoch 298/300\n",
      "4832/4832 [==============================] - 1s 224us/step - loss: 5.2549e-05\n",
      "Epoch 299/300\n",
      "4832/4832 [==============================] - 1s 219us/step - loss: 5.2650e-05\n",
      "Epoch 300/300\n",
      "4832/4832 [==============================] - 1s 229us/step - loss: 5.1581e-05\n"
     ]
    }
   ],
   "source": [
    "num_epochs = 300\n",
    "history  = model.fit(X_train,y_train,epochs=num_epochs,batch_size=32)"
   ]
  },
  {
   "cell_type": "markdown",
   "metadata": {},
   "source": [
    "#### Visualize the training data"
   ]
  },
  {
   "cell_type": "code",
   "execution_count": 30,
   "metadata": {},
   "outputs": [
    {
     "data": {
      "image/png": "[encoded data removed]",
      "text/plain": [
       "<Figure size 432x288 with 1 Axes>"
      ]
     },
     "metadata": {
      "needs_background": "light"
     },
     "output_type": "display_data"
    }
   ],
   "source": [
    "plt.figure()\n",
    "plt.plot(history.history['loss'][1:])\n",
    "plt.title('Model training loss')\n",
    "plt.ylabel('Loss')\n",
    "plt.xlabel('Epoch')\n",
    "# plt.legend(['Train'], loc='upper left')\n",
    "plt.show()"
   ]
  },
  {
   "cell_type": "markdown",
   "metadata": {},
   "source": [
    "## Prediction on the test set with LSTM"
   ]
  },
  {
   "cell_type": "code",
   "execution_count": 31,
   "metadata": {},
   "outputs": [],
   "source": [
    "# test sequence is not continuous, will be in 20 groups, each group contains 7 days\n",
    "def generate_test_sequence(test_data, lookback_days, forcast_days):\n",
    "    \"\"\"\n",
    "    Generate sequence array for test data,\n",
    "    inclduing only X\n",
    "    \"\"\"\n",
    "    X = []\n",
    "    y = []\n",
    "    m = lookback_days\n",
    "    n =forcast_days\n",
    "    N = len(test_data)\n",
    "    \n",
    "    for i in range(0, N, n): # here use 7, not 1, as we will use groups\n",
    "        # input sequence : x[i].....x[i+m]\n",
    "        # output sequence: x[i+m+1]....x[i+m+n] \n",
    "        # last index is (i+m+n)\n",
    "        end_index = i + m + n # find the end of this sequence\n",
    "        # check if we are out of index\n",
    "        if end_index > N:\n",
    "            break\n",
    "#         print(i, i+m, i+m+n)\n",
    "        seq_x = test_data[i:(i+m)]\n",
    "        seq_y = test_data[(i+m):(i+m+n)]\n",
    "        X.append(seq_x)\n",
    "        y.append(seq_y)\n",
    "        \n",
    "    array_X = np.array(X) # shape (N, m, 1)\n",
    "    array_y = np.array([list(a.ravel()) for a in np.array(y)]) # shape (N, n, 1) convert to (N, n)\n",
    "    return array_X, array_y"
   ]
  },
  {
   "cell_type": "code",
   "execution_count": 32,
   "metadata": {},
   "outputs": [
    {
     "name": "stdout",
     "output_type": "stream",
     "text": [
      "(295, 1) (40, 15, 1) (40, 7)\n"
     ]
    }
   ],
   "source": [
    "X_test, y_test = generate_test_sequence(test_set_extend, lookback_days, forcast_days)\n",
    "print(test_set_extend.shape, X_test.shape, y_test.shape)"
   ]
  },
  {
   "cell_type": "code",
   "execution_count": 33,
   "metadata": {},
   "outputs": [],
   "source": [
    "LSTM_prediction_scaled = model.predict(X_test)\n",
    "LSTM_prediction = sc.inverse_transform(LSTM_prediction_scaled)\n",
    "\n",
    "train_set = train_set.reshape((-1))\n",
    "test_set = test_set.reshape((-1))\n",
    "LSTM_prediction = LSTM_prediction.reshape((-1))"
   ]
  },
  {
   "cell_type": "code",
   "execution_count": 34,
   "metadata": {},
   "outputs": [
    {
     "data": {
      "text/html": [
       "<div>\n",
       "<style scoped>\n",
       "    .dataframe tbody tr th:only-of-type {\n",
       "        vertical-align: middle;\n",
       "    }\n",
       "\n",
       "    .dataframe tbody tr th {\n",
       "        vertical-align: top;\n",
       "    }\n",
       "\n",
       "    .dataframe thead th {\n",
       "        text-align: right;\n",
       "    }\n",
       "</style>\n",
       "<table border=\"1\" class=\"dataframe\">\n",
       "  <thead>\n",
       "    <tr style=\"text-align: right;\">\n",
       "      <th></th>\n",
       "      <th>Date</th>\n",
       "      <th>Adj Close</th>\n",
       "      <th>Scaled_Close</th>\n",
       "      <th>LSTM_Prediction</th>\n",
       "    </tr>\n",
       "  </thead>\n",
       "  <tbody>\n",
       "    <tr>\n",
       "      <th>4854</th>\n",
       "      <td>2019-04-22</td>\n",
       "      <td>201.342468</td>\n",
       "      <td>0.613740</td>\n",
       "      <td>200.179977</td>\n",
       "    </tr>\n",
       "    <tr>\n",
       "      <th>4855</th>\n",
       "      <td>2019-04-23</td>\n",
       "      <td>204.246475</td>\n",
       "      <td>0.622483</td>\n",
       "      <td>199.795197</td>\n",
       "    </tr>\n",
       "    <tr>\n",
       "      <th>4856</th>\n",
       "      <td>2019-04-24</td>\n",
       "      <td>203.931473</td>\n",
       "      <td>0.621535</td>\n",
       "      <td>200.244537</td>\n",
       "    </tr>\n",
       "    <tr>\n",
       "      <th>4857</th>\n",
       "      <td>2019-04-25</td>\n",
       "      <td>202.080780</td>\n",
       "      <td>0.615963</td>\n",
       "      <td>200.233948</td>\n",
       "    </tr>\n",
       "    <tr>\n",
       "      <th>4858</th>\n",
       "      <td>2019-04-26</td>\n",
       "      <td>201.116043</td>\n",
       "      <td>0.613058</td>\n",
       "      <td>201.373123</td>\n",
       "    </tr>\n",
       "  </tbody>\n",
       "</table>\n",
       "</div>"
      ],
      "text/plain": [
       "           Date   Adj Close  Scaled_Close  LSTM_Prediction\n",
       "4854 2019-04-22  201.342468      0.613740       200.179977\n",
       "4855 2019-04-23  204.246475      0.622483       199.795197\n",
       "4856 2019-04-24  203.931473      0.621535       200.244537\n",
       "4857 2019-04-25  202.080780      0.615963       200.233948\n",
       "4858 2019-04-26  201.116043      0.613058       201.373123"
      ]
     },
     "execution_count": 34,
     "metadata": {},
     "output_type": "execute_result"
    }
   ],
   "source": [
    "dataset_test['LSTM_Prediction'] = LSTM_prediction\n",
    "dataset_test.head()"
   ]
  },
  {
   "cell_type": "code",
   "execution_count": 35,
   "metadata": {},
   "outputs": [],
   "source": [
    "def plot_prediction_comparison(true_set, prediction_set):\n",
    "    plt.figure(figsize = (15,8))\n",
    "\n",
    "    for i in range(0, len(prediction_set), forcast_days):\n",
    "        indexs = [i+x for x in range(forcast_days)]\n",
    "        values = prediction_set[i:i+forcast_days]\n",
    "        plt.plot(indexs, values, color='r')\n",
    "\n",
    "    plt.plot(0, prediction_set[0], color='r', label='prediction') # just used to add label\n",
    "\n",
    "    plt.plot(true_set, color='b', label='True Close')\n",
    "    plt.legend(loc='best')\n",
    "    plt.show()"
   ]
  },
  {
   "cell_type": "code",
   "execution_count": 36,
   "metadata": {},
   "outputs": [
    {
     "data": {
      "image/png": "[encoded data removed]",
      "text/plain": [
       "<Figure size 1080x576 with 1 Axes>"
      ]
     },
     "metadata": {
      "needs_background": "light"
     },
     "output_type": "display_data"
    }
   ],
   "source": [
    "plot_prediction_comparison(dataset_test['Adj Close'].values, dataset_test['LSTM_Prediction'].values)"
   ]
  },
  {
   "cell_type": "markdown",
   "metadata": {},
   "source": [
    "## Moving Average"
   ]
  },
  {
   "cell_type": "code",
   "execution_count": 37,
   "metadata": {},
   "outputs": [],
   "source": [
    "dataset_test_extend['MA_Prediction'] = np.NaN\n",
    "\n",
    "def make_window(size, start):\n",
    "    # make index window for use of concat of real price and prediction price\n",
    "    return [start+k for k in range(size)]\n",
    "\n",
    "for index in range(window_size, len(dataset_test_extend), forcast_days):\n",
    "    for i in range(0,forcast_days):\n",
    "        if index+i >= len(dataset_test_extend):\n",
    "            break\n",
    "        # window for real price, eg [1, 2, 3, 4, 5, 6, 7, 8, 9]\n",
    "        window_real = make_window(window_size-i, index+i-window_size)\n",
    "        \n",
    "        # window for predicted price, eg [10]\n",
    "        window_MA = make_window(i, index)\n",
    "\n",
    "        price_window = pd.concat([ dataset_test_extend['Adj Close'].iloc[window_real], \n",
    "                                   dataset_test_extend['MA_Prediction'].iloc[window_MA] ])\n",
    "        next_mean_prediction = price_window.mean(axis=0)\n",
    "\n",
    "        dataset_test_extend.iat[index+i, dataset_test_extend.columns.get_loc('MA_Prediction')] = next_mean_prediction"
   ]
  },
  {
   "cell_type": "code",
   "execution_count": 38,
   "metadata": {},
   "outputs": [
    {
     "data": {
      "text/html": [
       "<div>\n",
       "<style scoped>\n",
       "    .dataframe tbody tr th:only-of-type {\n",
       "        vertical-align: middle;\n",
       "    }\n",
       "\n",
       "    .dataframe tbody tr th {\n",
       "        vertical-align: top;\n",
       "    }\n",
       "\n",
       "    .dataframe thead th {\n",
       "        text-align: right;\n",
       "    }\n",
       "</style>\n",
       "<table border=\"1\" class=\"dataframe\">\n",
       "  <thead>\n",
       "    <tr style=\"text-align: right;\">\n",
       "      <th></th>\n",
       "      <th>Date</th>\n",
       "      <th>Adj Close</th>\n",
       "      <th>Scaled_Close</th>\n",
       "      <th>LSTM_Prediction</th>\n",
       "      <th>MA_Prediction</th>\n",
       "    </tr>\n",
       "  </thead>\n",
       "  <tbody>\n",
       "    <tr>\n",
       "      <th>4854</th>\n",
       "      <td>2019-04-22</td>\n",
       "      <td>201.342468</td>\n",
       "      <td>0.613740</td>\n",
       "      <td>200.179977</td>\n",
       "      <td>194.701590</td>\n",
       "    </tr>\n",
       "    <tr>\n",
       "      <th>4855</th>\n",
       "      <td>2019-04-23</td>\n",
       "      <td>204.246475</td>\n",
       "      <td>0.622483</td>\n",
       "      <td>199.795197</td>\n",
       "      <td>195.215717</td>\n",
       "    </tr>\n",
       "    <tr>\n",
       "      <th>4856</th>\n",
       "      <td>2019-04-24</td>\n",
       "      <td>203.931473</td>\n",
       "      <td>0.621535</td>\n",
       "      <td>200.244537</td>\n",
       "      <td>195.679458</td>\n",
       "    </tr>\n",
       "    <tr>\n",
       "      <th>4857</th>\n",
       "      <td>2019-04-25</td>\n",
       "      <td>202.080780</td>\n",
       "      <td>0.615963</td>\n",
       "      <td>200.233948</td>\n",
       "      <td>195.991671</td>\n",
       "    </tr>\n",
       "    <tr>\n",
       "      <th>4858</th>\n",
       "      <td>2019-04-26</td>\n",
       "      <td>201.116043</td>\n",
       "      <td>0.613058</td>\n",
       "      <td>201.373123</td>\n",
       "      <td>196.237413</td>\n",
       "    </tr>\n",
       "  </tbody>\n",
       "</table>\n",
       "</div>"
      ],
      "text/plain": [
       "           Date   Adj Close  Scaled_Close  LSTM_Prediction  MA_Prediction\n",
       "4854 2019-04-22  201.342468      0.613740       200.179977     194.701590\n",
       "4855 2019-04-23  204.246475      0.622483       199.795197     195.215717\n",
       "4856 2019-04-24  203.931473      0.621535       200.244537     195.679458\n",
       "4857 2019-04-25  202.080780      0.615963       200.233948     195.991671\n",
       "4858 2019-04-26  201.116043      0.613058       201.373123     196.237413"
      ]
     },
     "execution_count": 38,
     "metadata": {},
     "output_type": "execute_result"
    }
   ],
   "source": [
    "dataset_test['MA_Prediction'] = dataset_test_extend[lookback_days:]['MA_Prediction'].values\n",
    "dataset_test.head()"
   ]
  },
  {
   "cell_type": "code",
   "execution_count": 39,
   "metadata": {},
   "outputs": [
    {
     "data": {
      "image/png": "[encoded data removed]",
      "text/plain": [
       "<Figure size 1080x576 with 1 Axes>"
      ]
     },
     "metadata": {
      "needs_background": "light"
     },
     "output_type": "display_data"
    }
   ],
   "source": [
    "plot_prediction_comparison(dataset_test['Adj Close'].values, dataset_test['MA_Prediction'].values)"
   ]
  },
  {
   "cell_type": "code",
   "execution_count": 40,
   "metadata": {},
   "outputs": [
    {
     "data": {
      "image/png": "[encoded data removed]",
      "text/plain": [
       "<Figure size 1080x576 with 1 Axes>"
      ]
     },
     "metadata": {
      "needs_background": "light"
     },
     "output_type": "display_data"
    }
   ],
   "source": [
    "ax = dataset_test.plot(x='Date', y=[\"Adj Close\", \"LSTM_Prediction\", \"MA_Prediction\"], \n",
    "                       title='AAPL', figsize=(15, 8), color=['blue', 'red', 'green'])\n",
    "\n",
    "ax.set_xlabel('Date')\n",
    "ax.set_ylabel('Price ($)')\n",
    "plt.show()"
   ]
  },
  {
   "cell_type": "markdown",
   "metadata": {},
   "source": [
    "## Evaludate the performance"
   ]
  },
  {
   "cell_type": "code",
   "execution_count": 41,
   "metadata": {},
   "outputs": [],
   "source": [
    "from sklearn.metrics import mean_squared_error, mean_absolute_error\n",
    "\n",
    "# metrics.mean_absolute_error(y_test, y_pred)\n",
    "\n",
    "def evaluate_prediction(y_true, y_pred):\n",
    "    \n",
    "    # mean absolute error\n",
    "    mae = mean_absolute_error(y_true, y_pred)\n",
    "    \n",
    "    #mean squared error\n",
    "    mse = mean_squared_error(y_true, y_pred)\n",
    "    \n",
    "    # root mean squared error\n",
    "    rmse = round(np.sqrt(mse), 2)\n",
    "    \n",
    "    # mean absolute percentage error\n",
    "    mape = round(np.mean(np.abs((y_true - y_pred) / y_true)) * 100, 2)\n",
    "           \n",
    "    return {'root_mean_squared_error': rmse, \n",
    "            'mean_absolute_percentage_error': mape}\n"
   ]
  },
  {
   "cell_type": "code",
   "execution_count": 42,
   "metadata": {},
   "outputs": [],
   "source": [
    "y_test = dataset_test['Adj Close']\n",
    "y_pred_lstm = dataset_test['LSTM_Prediction']\n",
    "y_pred_ma = dataset_test['MA_Prediction']"
   ]
  },
  {
   "cell_type": "code",
   "execution_count": 43,
   "metadata": {},
   "outputs": [
    {
     "data": {
      "text/plain": [
       "{'root_mean_squared_error': 13.51, 'mean_absolute_percentage_error': 3.9}"
      ]
     },
     "execution_count": 43,
     "metadata": {},
     "output_type": "execute_result"
    }
   ],
   "source": [
    "# evaluation for LSTM prediction\n",
    "evaluate_prediction(y_test, y_pred_lstm)"
   ]
  },
  {
   "cell_type": "code",
   "execution_count": 44,
   "metadata": {},
   "outputs": [
    {
     "data": {
      "text/plain": [
       "{'root_mean_squared_error': 15.03, 'mean_absolute_percentage_error': 4.7}"
      ]
     },
     "execution_count": 44,
     "metadata": {},
     "output_type": "execute_result"
    }
   ],
   "source": [
    "# evaluation for Moving Average prediction\n",
    "evaluate_prediction(y_test, y_pred_ma)"
   ]
  },
  {
   "cell_type": "markdown",
   "metadata": {},
   "source": [
    "## Forcast"
   ]
  },
  {
   "cell_type": "code",
   "execution_count": 45,
   "metadata": {},
   "outputs": [
    {
     "data": {
      "text/html": [
       "<div>\n",
       "<style scoped>\n",
       "    .dataframe tbody tr th:only-of-type {\n",
       "        vertical-align: middle;\n",
       "    }\n",
       "\n",
       "    .dataframe tbody tr th {\n",
       "        vertical-align: top;\n",
       "    }\n",
       "\n",
       "    .dataframe thead th {\n",
       "        text-align: right;\n",
       "    }\n",
       "</style>\n",
       "<table border=\"1\" class=\"dataframe\">\n",
       "  <thead>\n",
       "    <tr style=\"text-align: right;\">\n",
       "      <th></th>\n",
       "      <th>Date</th>\n",
       "      <th>Adj Close</th>\n",
       "      <th>Scaled_Close</th>\n",
       "    </tr>\n",
       "  </thead>\n",
       "  <tbody>\n",
       "    <tr>\n",
       "      <th>5129</th>\n",
       "      <td>2020-05-22</td>\n",
       "      <td>318.890015</td>\n",
       "      <td>0.967641</td>\n",
       "    </tr>\n",
       "    <tr>\n",
       "      <th>5130</th>\n",
       "      <td>2020-05-26</td>\n",
       "      <td>316.730011</td>\n",
       "      <td>0.961137</td>\n",
       "    </tr>\n",
       "    <tr>\n",
       "      <th>5131</th>\n",
       "      <td>2020-05-27</td>\n",
       "      <td>318.109985</td>\n",
       "      <td>0.965292</td>\n",
       "    </tr>\n",
       "    <tr>\n",
       "      <th>5132</th>\n",
       "      <td>2020-05-28</td>\n",
       "      <td>318.250000</td>\n",
       "      <td>0.965714</td>\n",
       "    </tr>\n",
       "    <tr>\n",
       "      <th>5133</th>\n",
       "      <td>2020-05-29</td>\n",
       "      <td>317.940002</td>\n",
       "      <td>0.964780</td>\n",
       "    </tr>\n",
       "  </tbody>\n",
       "</table>\n",
       "</div>"
      ],
      "text/plain": [
       "           Date   Adj Close  Scaled_Close\n",
       "5129 2020-05-22  318.890015      0.967641\n",
       "5130 2020-05-26  316.730011      0.961137\n",
       "5131 2020-05-27  318.109985      0.965292\n",
       "5132 2020-05-28  318.250000      0.965714\n",
       "5133 2020-05-29  317.940002      0.964780"
      ]
     },
     "execution_count": 45,
     "metadata": {},
     "output_type": "execute_result"
    }
   ],
   "source": [
    "df.tail()"
   ]
  },
  {
   "cell_type": "code",
   "execution_count": 46,
   "metadata": {},
   "outputs": [],
   "source": [
    "def predict_future_price(df, lookback_days, forcast_days, model, sc):\n",
    "    \"\"\"\n",
    "    Prediction of future stock price\n",
    "    \"\"\"\n",
    "    \n",
    "    # calculate forcast dates and indexs, used for plot\n",
    "    B_DAY = CustomBusinessDay(calendar=USFederalHolidayCalendar()) # business day\n",
    "    forcast_dates = [df['Date'].iloc[-1]+i*B_DAY for i in range(1,forcast_days+1)]\n",
    "    forcast_indexs = [df['Date'].index[-1]+i for i in range(1,forcast_days+1)]\n",
    "    \n",
    "    # input X for forcast\n",
    "    X_scaled = df[['Scaled_Close']][-lookback_days:].values\n",
    "    X_scaled = X_scaled.reshape((1, lookback_days, 1))\n",
    "    \n",
    "    # prediction the scaled price with model\n",
    "    forcast_price_scaled = model.predict(X_scaled)\n",
    "    \n",
    "    # transform back to the normal price\n",
    "    forcast_prices = sc.inverse_transform(forcast_price_scaled)\n",
    "    \n",
    "    # create the forcast_dataframe\n",
    "    forcast_dataframe = pd.DataFrame({\n",
    "        'index' : forcast_indexs,\n",
    "        'Date' : forcast_dates,\n",
    "        'Adj Close' : forcast_prices[0],\n",
    "        'Scaled_Close' : forcast_price_scaled[0]\n",
    "    })\n",
    "\n",
    "    forcast_dataframe = forcast_dataframe.set_index('index', drop=True)\n",
    "    return forcast_dataframe"
   ]
  },
  {
   "cell_type": "code",
   "execution_count": 47,
   "metadata": {},
   "outputs": [],
   "source": [
    "dataset_forcast = predict_future_price(df, lookback_days, forcast_days, model, sc)"
   ]
  },
  {
   "cell_type": "code",
   "execution_count": 48,
   "metadata": {},
   "outputs": [
    {
     "data": {
      "text/html": [
       "<div>\n",
       "<style scoped>\n",
       "    .dataframe tbody tr th:only-of-type {\n",
       "        vertical-align: middle;\n",
       "    }\n",
       "\n",
       "    .dataframe tbody tr th {\n",
       "        vertical-align: top;\n",
       "    }\n",
       "\n",
       "    .dataframe thead th {\n",
       "        text-align: right;\n",
       "    }\n",
       "</style>\n",
       "<table border=\"1\" class=\"dataframe\">\n",
       "  <thead>\n",
       "    <tr style=\"text-align: right;\">\n",
       "      <th></th>\n",
       "      <th>Date</th>\n",
       "      <th>Adj Close</th>\n",
       "      <th>Scaled_Close</th>\n",
       "    </tr>\n",
       "    <tr>\n",
       "      <th>index</th>\n",
       "      <th></th>\n",
       "      <th></th>\n",
       "      <th></th>\n",
       "    </tr>\n",
       "  </thead>\n",
       "  <tbody>\n",
       "    <tr>\n",
       "      <th>5134</th>\n",
       "      <td>2020-06-01</td>\n",
       "      <td>315.600494</td>\n",
       "      <td>0.957737</td>\n",
       "    </tr>\n",
       "    <tr>\n",
       "      <th>5135</th>\n",
       "      <td>2020-06-02</td>\n",
       "      <td>310.711731</td>\n",
       "      <td>0.943018</td>\n",
       "    </tr>\n",
       "    <tr>\n",
       "      <th>5136</th>\n",
       "      <td>2020-06-03</td>\n",
       "      <td>306.051392</td>\n",
       "      <td>0.928987</td>\n",
       "    </tr>\n",
       "    <tr>\n",
       "      <th>5137</th>\n",
       "      <td>2020-06-04</td>\n",
       "      <td>302.176636</td>\n",
       "      <td>0.917321</td>\n",
       "    </tr>\n",
       "    <tr>\n",
       "      <th>5138</th>\n",
       "      <td>2020-06-05</td>\n",
       "      <td>298.081848</td>\n",
       "      <td>0.904993</td>\n",
       "    </tr>\n",
       "    <tr>\n",
       "      <th>5139</th>\n",
       "      <td>2020-06-08</td>\n",
       "      <td>294.274811</td>\n",
       "      <td>0.893531</td>\n",
       "    </tr>\n",
       "    <tr>\n",
       "      <th>5140</th>\n",
       "      <td>2020-06-09</td>\n",
       "      <td>288.529633</td>\n",
       "      <td>0.876234</td>\n",
       "    </tr>\n",
       "  </tbody>\n",
       "</table>\n",
       "</div>"
      ],
      "text/plain": [
       "            Date   Adj Close  Scaled_Close\n",
       "index                                     \n",
       "5134  2020-06-01  315.600494      0.957737\n",
       "5135  2020-06-02  310.711731      0.943018\n",
       "5136  2020-06-03  306.051392      0.928987\n",
       "5137  2020-06-04  302.176636      0.917321\n",
       "5138  2020-06-05  298.081848      0.904993\n",
       "5139  2020-06-08  294.274811      0.893531\n",
       "5140  2020-06-09  288.529633      0.876234"
      ]
     },
     "execution_count": 48,
     "metadata": {},
     "output_type": "execute_result"
    }
   ],
   "source": [
    "dataset_forcast"
   ]
  },
  {
   "cell_type": "code",
   "execution_count": 49,
   "metadata": {},
   "outputs": [
    {
     "data": {
      "image/png": "[encoded data removed]",
      "text/plain": [
       "<Figure size 1080x576 with 1 Axes>"
      ]
     },
     "metadata": {
      "needs_background": "light"
     },
     "output_type": "display_data"
    }
   ],
   "source": [
    "fig = plt.figure(figsize = (15,8))\n",
    "\n",
    "for frame in [dataset_test, dataset_forcast]:\n",
    "    plt.plot(frame['Date'], frame['Adj Close'])\n",
    "\n",
    "plt.legend(['True Price', 'Forcast'], loc='upper left')\n",
    "plt.show()"
   ]
  },
  {
   "cell_type": "code",
   "execution_count": null,
   "metadata": {},
   "outputs": [],
   "source": []
  }
 ],
 "metadata": {
  "kernelspec": {
   "display_name": "Python ML",
   "language": "python",
   "name": "ml"
  },
  "language_info": {
   "codemirror_mode": {
    "name": "ipython",
    "version": 3
   },
   "file_extension": ".py",
   "mimetype": "text/x-python",
   "name": "python",
   "nbconvert_exporter": "python",
   "pygments_lexer": "ipython3",
   "version": "3.6.10"
  }
 },
 "nbformat": 4,
 "nbformat_minor": 4
}
