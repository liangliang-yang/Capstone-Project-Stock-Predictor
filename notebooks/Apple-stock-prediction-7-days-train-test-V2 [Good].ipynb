{
 "cells": [
  {
   "cell_type": "markdown",
   "metadata": {},
   "source": [
    "### (I) Load packages"
   ]
  },
  {
   "cell_type": "code",
   "execution_count": 1,
   "metadata": {},
   "outputs": [],
   "source": [
    "import warnings\n",
    "warnings.filterwarnings('ignore')"
   ]
  },
  {
   "cell_type": "code",
   "execution_count": 2,
   "metadata": {},
   "outputs": [],
   "source": [
    "import pandas as pd\n",
    "import numpy as np\n",
    "import yfinance as yf\n",
    "import datetime\n",
    "import math\n",
    "import matplotlib.pyplot as plt\n",
    "%matplotlib inline\n",
    "\n",
    "import plotly.graph_objs as go # this is used for interactivate plot\n",
    "import plotly.express as px"
   ]
  },
  {
   "cell_type": "code",
   "execution_count": 3,
   "metadata": {},
   "outputs": [
    {
     "name": "stderr",
     "output_type": "stream",
     "text": [
      "Using TensorFlow backend.\n"
     ]
    }
   ],
   "source": [
    "from sklearn.preprocessing import MinMaxScaler\n",
    "from sklearn.metrics import mean_squared_error\n",
    "\n",
    "from keras.models import Sequential\n",
    "from keras.layers import Dense, Activation\n",
    "from keras.layers import Dropout\n",
    "from keras.layers import LSTM\n",
    "\n",
    "import tensorflow as tf\n",
    "tf.compat.v1.logging.set_verbosity(tf.compat.v1.logging.ERROR) # ignore tf warning"
   ]
  },
  {
   "cell_type": "code",
   "execution_count": 4,
   "metadata": {},
   "outputs": [],
   "source": [
    "# Create the business day, which is used to convert the day index to stock trading days\n",
    "from pandas.tseries.holiday import USFederalHolidayCalendar\n",
    "from pandas.tseries.offsets import CustomBusinessDay\n",
    "B_DAY = CustomBusinessDay(calendar=USFederalHolidayCalendar()) # business day"
   ]
  },
  {
   "cell_type": "markdown",
   "metadata": {},
   "source": [
    "## (II) Data download and Exploration"
   ]
  },
  {
   "cell_type": "code",
   "execution_count": 5,
   "metadata": {},
   "outputs": [],
   "source": [
    "def download_stock_to_df(symbol, start, end):\n",
    "    \"\"\"\n",
    "    Get current stocks data from yahoo fiance and save to dataframe\n",
    "\n",
    "    Params:\n",
    "        symbol: stock to pull data\n",
    "        start: start date of pulled data\n",
    "        end: end date of pulled data\n",
    "\n",
    "    Return:\n",
    "        dataframe of stock within specified date range\n",
    "    \"\"\"\n",
    "    df_stock=yf.download(symbol,start,end,progress=False)\n",
    "    df_stock.reset_index(level=0, inplace=True)\n",
    "    return df_stock"
   ]
  },
  {
   "cell_type": "code",
   "execution_count": 6,
   "metadata": {},
   "outputs": [
    {
     "data": {
      "text/html": [
       "<div>\n",
       "<style scoped>\n",
       "    .dataframe tbody tr th:only-of-type {\n",
       "        vertical-align: middle;\n",
       "    }\n",
       "\n",
       "    .dataframe tbody tr th {\n",
       "        vertical-align: top;\n",
       "    }\n",
       "\n",
       "    .dataframe thead th {\n",
       "        text-align: right;\n",
       "    }\n",
       "</style>\n",
       "<table border=\"1\" class=\"dataframe\">\n",
       "  <thead>\n",
       "    <tr style=\"text-align: right;\">\n",
       "      <th></th>\n",
       "      <th>Date</th>\n",
       "      <th>Open</th>\n",
       "      <th>High</th>\n",
       "      <th>Low</th>\n",
       "      <th>Close</th>\n",
       "      <th>Adj Close</th>\n",
       "      <th>Volume</th>\n",
       "    </tr>\n",
       "  </thead>\n",
       "  <tbody>\n",
       "    <tr>\n",
       "      <th>0</th>\n",
       "      <td>2000-01-03</td>\n",
       "      <td>3.745536</td>\n",
       "      <td>4.017857</td>\n",
       "      <td>3.631696</td>\n",
       "      <td>3.997768</td>\n",
       "      <td>3.460857</td>\n",
       "      <td>133949200</td>\n",
       "    </tr>\n",
       "    <tr>\n",
       "      <th>1</th>\n",
       "      <td>2000-01-04</td>\n",
       "      <td>3.866071</td>\n",
       "      <td>3.950893</td>\n",
       "      <td>3.613839</td>\n",
       "      <td>3.660714</td>\n",
       "      <td>3.169071</td>\n",
       "      <td>128094400</td>\n",
       "    </tr>\n",
       "    <tr>\n",
       "      <th>2</th>\n",
       "      <td>2000-01-05</td>\n",
       "      <td>3.705357</td>\n",
       "      <td>3.948661</td>\n",
       "      <td>3.678571</td>\n",
       "      <td>3.714286</td>\n",
       "      <td>3.215448</td>\n",
       "      <td>194580400</td>\n",
       "    </tr>\n",
       "    <tr>\n",
       "      <th>3</th>\n",
       "      <td>2000-01-06</td>\n",
       "      <td>3.790179</td>\n",
       "      <td>3.821429</td>\n",
       "      <td>3.392857</td>\n",
       "      <td>3.392857</td>\n",
       "      <td>2.937188</td>\n",
       "      <td>191993200</td>\n",
       "    </tr>\n",
       "    <tr>\n",
       "      <th>4</th>\n",
       "      <td>2000-01-07</td>\n",
       "      <td>3.446429</td>\n",
       "      <td>3.607143</td>\n",
       "      <td>3.410714</td>\n",
       "      <td>3.553571</td>\n",
       "      <td>3.076317</td>\n",
       "      <td>115183600</td>\n",
       "    </tr>\n",
       "  </tbody>\n",
       "</table>\n",
       "</div>"
      ],
      "text/plain": [
       "        Date      Open      High       Low     Close  Adj Close     Volume\n",
       "0 2000-01-03  3.745536  4.017857  3.631696  3.997768   3.460857  133949200\n",
       "1 2000-01-04  3.866071  3.950893  3.613839  3.660714   3.169071  128094400\n",
       "2 2000-01-05  3.705357  3.948661  3.678571  3.714286   3.215448  194580400\n",
       "3 2000-01-06  3.790179  3.821429  3.392857  3.392857   2.937188  191993200\n",
       "4 2000-01-07  3.446429  3.607143  3.410714  3.553571   3.076317  115183600"
      ]
     },
     "execution_count": 6,
     "metadata": {},
     "output_type": "execute_result"
    }
   ],
   "source": [
    "apple_stock = download_stock_to_df('AAPL', '2000-01-01', '2020-05-31')\n",
    "apple_stock.head()"
   ]
  },
  {
   "cell_type": "code",
   "execution_count": 7,
   "metadata": {},
   "outputs": [
    {
     "name": "stdout",
     "output_type": "stream",
     "text": [
      "Total data points: 5134\n",
      "From 2000-01-03 00:00:00 to 2020-05-29 00:00:00\n"
     ]
    }
   ],
   "source": [
    "print('Total data points: {}'.format(len(apple_stock)))\n",
    "print('From {} to {}'.format(apple_stock['Date'].iloc[0], apple_stock['Date'].iloc[-1]))"
   ]
  },
  {
   "cell_type": "code",
   "execution_count": 8,
   "metadata": {},
   "outputs": [
    {
     "data": {
      "text/html": [
       "<div>\n",
       "<style scoped>\n",
       "    .dataframe tbody tr th:only-of-type {\n",
       "        vertical-align: middle;\n",
       "    }\n",
       "\n",
       "    .dataframe tbody tr th {\n",
       "        vertical-align: top;\n",
       "    }\n",
       "\n",
       "    .dataframe thead th {\n",
       "        text-align: right;\n",
       "    }\n",
       "</style>\n",
       "<table border=\"1\" class=\"dataframe\">\n",
       "  <thead>\n",
       "    <tr style=\"text-align: right;\">\n",
       "      <th></th>\n",
       "      <th>Open</th>\n",
       "      <th>High</th>\n",
       "      <th>Low</th>\n",
       "      <th>Close</th>\n",
       "      <th>Adj Close</th>\n",
       "      <th>Volume</th>\n",
       "    </tr>\n",
       "  </thead>\n",
       "  <tbody>\n",
       "    <tr>\n",
       "      <th>count</th>\n",
       "      <td>5134.000000</td>\n",
       "      <td>5134.000000</td>\n",
       "      <td>5134.000000</td>\n",
       "      <td>5134.000000</td>\n",
       "      <td>5134.000000</td>\n",
       "      <td>5.134000e+03</td>\n",
       "    </tr>\n",
       "    <tr>\n",
       "      <th>mean</th>\n",
       "      <td>64.154592</td>\n",
       "      <td>64.803741</td>\n",
       "      <td>63.514898</td>\n",
       "      <td>64.184123</td>\n",
       "      <td>60.260955</td>\n",
       "      <td>1.135283e+08</td>\n",
       "    </tr>\n",
       "    <tr>\n",
       "      <th>std</th>\n",
       "      <td>72.004205</td>\n",
       "      <td>72.762315</td>\n",
       "      <td>71.358150</td>\n",
       "      <td>72.106102</td>\n",
       "      <td>70.781017</td>\n",
       "      <td>9.831566e+07</td>\n",
       "    </tr>\n",
       "    <tr>\n",
       "      <th>min</th>\n",
       "      <td>0.927857</td>\n",
       "      <td>0.942143</td>\n",
       "      <td>0.908571</td>\n",
       "      <td>0.937143</td>\n",
       "      <td>0.811282</td>\n",
       "      <td>9.835000e+06</td>\n",
       "    </tr>\n",
       "    <tr>\n",
       "      <th>25%</th>\n",
       "      <td>5.160000</td>\n",
       "      <td>5.238929</td>\n",
       "      <td>5.068572</td>\n",
       "      <td>5.137500</td>\n",
       "      <td>4.447520</td>\n",
       "      <td>4.634312e+07</td>\n",
       "    </tr>\n",
       "    <tr>\n",
       "      <th>50%</th>\n",
       "      <td>32.162857</td>\n",
       "      <td>32.317856</td>\n",
       "      <td>31.890714</td>\n",
       "      <td>32.167143</td>\n",
       "      <td>27.847013</td>\n",
       "      <td>8.562260e+07</td>\n",
       "    </tr>\n",
       "    <tr>\n",
       "      <th>75%</th>\n",
       "      <td>104.972500</td>\n",
       "      <td>106.052500</td>\n",
       "      <td>104.485003</td>\n",
       "      <td>105.250002</td>\n",
       "      <td>97.635321</td>\n",
       "      <td>1.501342e+08</td>\n",
       "    </tr>\n",
       "    <tr>\n",
       "      <th>max</th>\n",
       "      <td>324.739990</td>\n",
       "      <td>327.850006</td>\n",
       "      <td>323.350006</td>\n",
       "      <td>327.200012</td>\n",
       "      <td>326.316681</td>\n",
       "      <td>1.855410e+09</td>\n",
       "    </tr>\n",
       "  </tbody>\n",
       "</table>\n",
       "</div>"
      ],
      "text/plain": [
       "              Open         High          Low        Close    Adj Close  \\\n",
       "count  5134.000000  5134.000000  5134.000000  5134.000000  5134.000000   \n",
       "mean     64.154592    64.803741    63.514898    64.184123    60.260955   \n",
       "std      72.004205    72.762315    71.358150    72.106102    70.781017   \n",
       "min       0.927857     0.942143     0.908571     0.937143     0.811282   \n",
       "25%       5.160000     5.238929     5.068572     5.137500     4.447520   \n",
       "50%      32.162857    32.317856    31.890714    32.167143    27.847013   \n",
       "75%     104.972500   106.052500   104.485003   105.250002    97.635321   \n",
       "max     324.739990   327.850006   323.350006   327.200012   326.316681   \n",
       "\n",
       "             Volume  \n",
       "count  5.134000e+03  \n",
       "mean   1.135283e+08  \n",
       "std    9.831566e+07  \n",
       "min    9.835000e+06  \n",
       "25%    4.634312e+07  \n",
       "50%    8.562260e+07  \n",
       "75%    1.501342e+08  \n",
       "max    1.855410e+09  "
      ]
     },
     "execution_count": 8,
     "metadata": {},
     "output_type": "execute_result"
    }
   ],
   "source": [
    "apple_stock.describe()"
   ]
  },
  {
   "cell_type": "markdown",
   "metadata": {},
   "source": [
    "## (III) Exploratory Visualization"
   ]
  },
  {
   "cell_type": "code",
   "execution_count": 9,
   "metadata": {},
   "outputs": [
    {
     "data": {
      "image/png": "[encoded data removed]",
      "text/plain": [
       "<Figure size 1080x576 with 1 Axes>"
      ]
     },
     "metadata": {
      "needs_background": "light"
     },
     "output_type": "display_data"
    }
   ],
   "source": [
    "ax = apple_stock.plot(x='Date', y='Adj Close', title='Adj Close price for AAPL', figsize=(15, 8), color='blue')\n",
    "ax.set_xlabel('Date')\n",
    "ax.set_ylabel('Adj Close ($)')\n",
    "ax.legend(['AAPL'])\n",
    "plt.show()"
   ]
  },
  {
   "cell_type": "markdown",
   "metadata": {},
   "source": [
    "There are four peaks occured after 2010: (1) 2012/07-2012/09; (2)2015/04; (3)2018/09; (4) 2020/02"
   ]
  },
  {
   "cell_type": "code",
   "execution_count": 10,
   "metadata": {},
   "outputs": [
    {
     "data": {
      "image/png": "[encoded data removed]",
      "text/plain": [
       "<Figure size 1080x576 with 1 Axes>"
      ]
     },
     "metadata": {
      "needs_background": "light"
     },
     "output_type": "display_data"
    }
   ],
   "source": [
    "ax = apple_stock.plot(x='Date', y='Volume', title='Trading Volume for AAPL', figsize=(15, 8), color='blue')\n",
    "ax.set_xlabel('Date')\n",
    "ax.set_ylabel('Trading Volume')\n",
    "ax.legend(['AAPL'])\n",
    "plt.show()"
   ]
  },
  {
   "cell_type": "code",
   "execution_count": 11,
   "metadata": {},
   "outputs": [
    {
     "data": {
      "text/html": [
       "<div>\n",
       "<style scoped>\n",
       "    .dataframe tbody tr th:only-of-type {\n",
       "        vertical-align: middle;\n",
       "    }\n",
       "\n",
       "    .dataframe tbody tr th {\n",
       "        vertical-align: top;\n",
       "    }\n",
       "\n",
       "    .dataframe thead th {\n",
       "        text-align: right;\n",
       "    }\n",
       "</style>\n",
       "<table border=\"1\" class=\"dataframe\">\n",
       "  <thead>\n",
       "    <tr style=\"text-align: right;\">\n",
       "      <th></th>\n",
       "      <th>Date</th>\n",
       "      <th>Open</th>\n",
       "      <th>High</th>\n",
       "      <th>Low</th>\n",
       "      <th>Close</th>\n",
       "      <th>Adj Close</th>\n",
       "      <th>Volume</th>\n",
       "    </tr>\n",
       "  </thead>\n",
       "  <tbody>\n",
       "    <tr>\n",
       "      <th>188</th>\n",
       "      <td>2000-09-29</td>\n",
       "      <td>2.013393</td>\n",
       "      <td>2.071429</td>\n",
       "      <td>1.8125</td>\n",
       "      <td>1.839286</td>\n",
       "      <td>1.592265</td>\n",
       "      <td>1855410200</td>\n",
       "    </tr>\n",
       "  </tbody>\n",
       "</table>\n",
       "</div>"
      ],
      "text/plain": [
       "          Date      Open      High     Low     Close  Adj Close      Volume\n",
       "188 2000-09-29  2.013393  2.071429  1.8125  1.839286   1.592265  1855410200"
      ]
     },
     "execution_count": 11,
     "metadata": {},
     "output_type": "execute_result"
    }
   ],
   "source": [
    "apple_stock[apple_stock['Volume'] == apple_stock['Volume'].max()]"
   ]
  },
  {
   "cell_type": "markdown",
   "metadata": {},
   "source": [
    "* **Apple's Worest Day Ever** On September 29th, 2000, AAPL saw a massive one-day drop of 51.89%. The stock's steep decline was due to a number of factors, which in hindsight combined to form a perfect storm of headwinds that proved too fierce for shareholders to deal with at the time [news link](https://www.dividend.com/how-to-invest/apples-worst-day-ever-aapl/#:~:text=September%2029%2C%202000%3A%20Apple%20Drops,deal%20with%20at%20the%20time.)"
   ]
  },
  {
   "cell_type": "markdown",
   "metadata": {},
   "source": [
    "## (IV) Data Preprocessing"
   ]
  },
  {
   "cell_type": "code",
   "execution_count": 12,
   "metadata": {},
   "outputs": [],
   "source": [
    "# keep only used column\n",
    "apple_stock.drop(columns=['Open', 'High', 'Low', 'Close', 'Volume'], inplace=True)"
   ]
  },
  {
   "cell_type": "code",
   "execution_count": 13,
   "metadata": {},
   "outputs": [],
   "source": [
    "df = apple_stock.copy(deep=True)"
   ]
  },
  {
   "cell_type": "markdown",
   "metadata": {},
   "source": [
    "#### Normalize the data"
   ]
  },
  {
   "cell_type": "code",
   "execution_count": 14,
   "metadata": {},
   "outputs": [],
   "source": [
    "sc = MinMaxScaler(feature_range=(0.01,0.99))\n",
    "df['Scaled_Close'] = sc.fit_transform(df[['Adj Close']])"
   ]
  },
  {
   "cell_type": "code",
   "execution_count": 15,
   "metadata": {},
   "outputs": [
    {
     "data": {
      "text/html": [
       "<div>\n",
       "<style scoped>\n",
       "    .dataframe tbody tr th:only-of-type {\n",
       "        vertical-align: middle;\n",
       "    }\n",
       "\n",
       "    .dataframe tbody tr th {\n",
       "        vertical-align: top;\n",
       "    }\n",
       "\n",
       "    .dataframe thead th {\n",
       "        text-align: right;\n",
       "    }\n",
       "</style>\n",
       "<table border=\"1\" class=\"dataframe\">\n",
       "  <thead>\n",
       "    <tr style=\"text-align: right;\">\n",
       "      <th></th>\n",
       "      <th>Date</th>\n",
       "      <th>Adj Close</th>\n",
       "      <th>Scaled_Close</th>\n",
       "    </tr>\n",
       "  </thead>\n",
       "  <tbody>\n",
       "    <tr>\n",
       "      <th>0</th>\n",
       "      <td>2000-01-03</td>\n",
       "      <td>3.460857</td>\n",
       "      <td>0.017977</td>\n",
       "    </tr>\n",
       "    <tr>\n",
       "      <th>1</th>\n",
       "      <td>2000-01-04</td>\n",
       "      <td>3.169071</td>\n",
       "      <td>0.017099</td>\n",
       "    </tr>\n",
       "    <tr>\n",
       "      <th>2</th>\n",
       "      <td>2000-01-05</td>\n",
       "      <td>3.215448</td>\n",
       "      <td>0.017238</td>\n",
       "    </tr>\n",
       "    <tr>\n",
       "      <th>3</th>\n",
       "      <td>2000-01-06</td>\n",
       "      <td>2.937188</td>\n",
       "      <td>0.016400</td>\n",
       "    </tr>\n",
       "    <tr>\n",
       "      <th>4</th>\n",
       "      <td>2000-01-07</td>\n",
       "      <td>3.076317</td>\n",
       "      <td>0.016819</td>\n",
       "    </tr>\n",
       "  </tbody>\n",
       "</table>\n",
       "</div>"
      ],
      "text/plain": [
       "        Date  Adj Close  Scaled_Close\n",
       "0 2000-01-03   3.460857      0.017977\n",
       "1 2000-01-04   3.169071      0.017099\n",
       "2 2000-01-05   3.215448      0.017238\n",
       "3 2000-01-06   2.937188      0.016400\n",
       "4 2000-01-07   3.076317      0.016819"
      ]
     },
     "execution_count": 15,
     "metadata": {},
     "output_type": "execute_result"
    }
   ],
   "source": [
    "df.head()"
   ]
  },
  {
   "cell_type": "markdown",
   "metadata": {},
   "source": [
    "#### Define the model training and test set"
   ]
  },
  {
   "cell_type": "code",
   "execution_count": 16,
   "metadata": {},
   "outputs": [],
   "source": [
    "# we will test/validate on 40 periods (if forcast is seven days, then 40x7=280 days)\n",
    "num_periods = 40\n",
    "forcast_days = 7\n",
    "lookback_days = 15\n",
    "window_size  = 15"
   ]
  },
  {
   "cell_type": "code",
   "execution_count": 17,
   "metadata": {},
   "outputs": [],
   "source": [
    "N = df.shape[0]\n",
    "N_test = num_periods*forcast_days\n",
    "N_train = N - N_test"
   ]
  },
  {
   "cell_type": "code",
   "execution_count": 18,
   "metadata": {},
   "outputs": [],
   "source": [
    "from sklearn.model_selection import train_test_split\n",
    "dataset_train , dataset_test = train_test_split(df, train_size=N_train, test_size=N_test, shuffle=False)"
   ]
  },
  {
   "cell_type": "code",
   "execution_count": 19,
   "metadata": {},
   "outputs": [
    {
     "name": "stdout",
     "output_type": "stream",
     "text": [
      "(4854, 3) (280, 3) (295, 3)\n"
     ]
    }
   ],
   "source": [
    "dataset_test_extend = dataset_train[-lookback_days:].append(dataset_test)\n",
    "print(dataset_train.shape, dataset_test.shape, dataset_test_extend.shape)"
   ]
  },
  {
   "cell_type": "code",
   "execution_count": 20,
   "metadata": {},
   "outputs": [],
   "source": [
    "train_set = dataset_train[['Scaled_Close']].values\n",
    "test_set = dataset_test[['Scaled_Close']].values"
   ]
  },
  {
   "cell_type": "code",
   "execution_count": 21,
   "metadata": {},
   "outputs": [
    {
     "name": "stdout",
     "output_type": "stream",
     "text": [
      "(4854, 1) (280, 1) (295, 1)\n"
     ]
    }
   ],
   "source": [
    "# extend the test set to add some previous information\n",
    "test_set_extend = dataset_test_extend[['Scaled_Close']].values\n",
    "print(train_set.shape, test_set.shape, test_set_extend.shape)"
   ]
  },
  {
   "cell_type": "code",
   "execution_count": 22,
   "metadata": {},
   "outputs": [
    {
     "data": {
      "text/html": [
       "<div>\n",
       "<style scoped>\n",
       "    .dataframe tbody tr th:only-of-type {\n",
       "        vertical-align: middle;\n",
       "    }\n",
       "\n",
       "    .dataframe tbody tr th {\n",
       "        vertical-align: top;\n",
       "    }\n",
       "\n",
       "    .dataframe thead th {\n",
       "        text-align: right;\n",
       "    }\n",
       "</style>\n",
       "<table border=\"1\" class=\"dataframe\">\n",
       "  <thead>\n",
       "    <tr style=\"text-align: right;\">\n",
       "      <th></th>\n",
       "      <th>Date</th>\n",
       "      <th>Adj Close</th>\n",
       "      <th>Scaled_Close</th>\n",
       "    </tr>\n",
       "  </thead>\n",
       "  <tbody>\n",
       "    <tr>\n",
       "      <th>4854</th>\n",
       "      <td>2019-04-22</td>\n",
       "      <td>201.342468</td>\n",
       "      <td>0.613740</td>\n",
       "    </tr>\n",
       "    <tr>\n",
       "      <th>4855</th>\n",
       "      <td>2019-04-23</td>\n",
       "      <td>204.246475</td>\n",
       "      <td>0.622483</td>\n",
       "    </tr>\n",
       "    <tr>\n",
       "      <th>4856</th>\n",
       "      <td>2019-04-24</td>\n",
       "      <td>203.931473</td>\n",
       "      <td>0.621535</td>\n",
       "    </tr>\n",
       "    <tr>\n",
       "      <th>4857</th>\n",
       "      <td>2019-04-25</td>\n",
       "      <td>202.080780</td>\n",
       "      <td>0.615963</td>\n",
       "    </tr>\n",
       "    <tr>\n",
       "      <th>4858</th>\n",
       "      <td>2019-04-26</td>\n",
       "      <td>201.116043</td>\n",
       "      <td>0.613058</td>\n",
       "    </tr>\n",
       "  </tbody>\n",
       "</table>\n",
       "</div>"
      ],
      "text/plain": [
       "           Date   Adj Close  Scaled_Close\n",
       "4854 2019-04-22  201.342468      0.613740\n",
       "4855 2019-04-23  204.246475      0.622483\n",
       "4856 2019-04-24  203.931473      0.621535\n",
       "4857 2019-04-25  202.080780      0.615963\n",
       "4858 2019-04-26  201.116043      0.613058"
      ]
     },
     "execution_count": 22,
     "metadata": {},
     "output_type": "execute_result"
    }
   ],
   "source": [
    "dataset_test.head()"
   ]
  },
  {
   "cell_type": "markdown",
   "metadata": {},
   "source": [
    "## LSTM Training"
   ]
  },
  {
   "cell_type": "markdown",
   "metadata": {},
   "source": [
    "#### Create sequence for training"
   ]
  },
  {
   "cell_type": "code",
   "execution_count": 23,
   "metadata": {},
   "outputs": [
    {
     "data": {
      "text/html": [
       "<div>\n",
       "<style scoped>\n",
       "    .dataframe tbody tr th:only-of-type {\n",
       "        vertical-align: middle;\n",
       "    }\n",
       "\n",
       "    .dataframe tbody tr th {\n",
       "        vertical-align: top;\n",
       "    }\n",
       "\n",
       "    .dataframe thead th {\n",
       "        text-align: right;\n",
       "    }\n",
       "</style>\n",
       "<table border=\"1\" class=\"dataframe\">\n",
       "  <thead>\n",
       "    <tr style=\"text-align: right;\">\n",
       "      <th></th>\n",
       "      <th>Date</th>\n",
       "      <th>Adj Close</th>\n",
       "      <th>Scaled_Close</th>\n",
       "    </tr>\n",
       "  </thead>\n",
       "  <tbody>\n",
       "    <tr>\n",
       "      <th>0</th>\n",
       "      <td>2000-01-03</td>\n",
       "      <td>3.460857</td>\n",
       "      <td>0.017977</td>\n",
       "    </tr>\n",
       "    <tr>\n",
       "      <th>1</th>\n",
       "      <td>2000-01-04</td>\n",
       "      <td>3.169071</td>\n",
       "      <td>0.017099</td>\n",
       "    </tr>\n",
       "    <tr>\n",
       "      <th>2</th>\n",
       "      <td>2000-01-05</td>\n",
       "      <td>3.215448</td>\n",
       "      <td>0.017238</td>\n",
       "    </tr>\n",
       "    <tr>\n",
       "      <th>3</th>\n",
       "      <td>2000-01-06</td>\n",
       "      <td>2.937188</td>\n",
       "      <td>0.016400</td>\n",
       "    </tr>\n",
       "    <tr>\n",
       "      <th>4</th>\n",
       "      <td>2000-01-07</td>\n",
       "      <td>3.076317</td>\n",
       "      <td>0.016819</td>\n",
       "    </tr>\n",
       "  </tbody>\n",
       "</table>\n",
       "</div>"
      ],
      "text/plain": [
       "        Date  Adj Close  Scaled_Close\n",
       "0 2000-01-03   3.460857      0.017977\n",
       "1 2000-01-04   3.169071      0.017099\n",
       "2 2000-01-05   3.215448      0.017238\n",
       "3 2000-01-06   2.937188      0.016400\n",
       "4 2000-01-07   3.076317      0.016819"
      ]
     },
     "execution_count": 23,
     "metadata": {},
     "output_type": "execute_result"
    }
   ],
   "source": [
    "dataset_train.head()"
   ]
  },
  {
   "cell_type": "code",
   "execution_count": 24,
   "metadata": {},
   "outputs": [],
   "source": [
    "# train sequence is continuous\n",
    "def generate_train_sequence(train_data, lookback_days, forcast_days):\n",
    "    \"\"\"\n",
    "    Generate sequence array for train data,\n",
    "    inclduing both X and y\n",
    "    \"\"\"\n",
    "    X = []\n",
    "    y = []\n",
    "    m = lookback_days\n",
    "    n =forcast_days\n",
    "    N = len(train_data)\n",
    "    \n",
    "    for i in range(0, N, 1):\n",
    "        # input sequence : x[i].....x[i+m]\n",
    "        # output sequence: x[i+m+1]....x[i+m+n] \n",
    "        # last index is (i+m+n)\n",
    "        end_index = i + m + n # find the end of this sequence\n",
    "        # check if we are out of index\n",
    "        if end_index > N-1:\n",
    "            break\n",
    "        seq_x = train_data[i:(i+m)]\n",
    "        seq_y = train_data[(i+m):(i+m+n)]\n",
    "        X.append(seq_x)\n",
    "        y.append(seq_y)\n",
    "        \n",
    "    array_X = np.array(X) # shape (N, m, 1)\n",
    "    array_y = np.array([list(a.ravel()) for a in np.array(y)]) # shape (N, n, 1) convert to (N, n)\n",
    "    return array_X, array_y"
   ]
  },
  {
   "cell_type": "code",
   "execution_count": 25,
   "metadata": {},
   "outputs": [
    {
     "name": "stdout",
     "output_type": "stream",
     "text": [
      "(4832, 15, 1) (4832, 7)\n"
     ]
    }
   ],
   "source": [
    "X_train, y_train = generate_train_sequence(train_set, lookback_days, forcast_days)\n",
    "print(X_train.shape, y_train.shape)"
   ]
  },
  {
   "cell_type": "code",
   "execution_count": 26,
   "metadata": {},
   "outputs": [
    {
     "name": "stdout",
     "output_type": "stream",
     "text": [
      "[[0.01797708]\n",
      " [0.0170986 ]\n",
      " [0.01723823]\n",
      " [0.01640047]\n",
      " [0.01681935]\n",
      " [0.01665645]\n",
      " [0.01619103]\n",
      " [0.01567325]\n",
      " [0.01656337]\n",
      " [0.01690661]\n",
      " [0.01723241]\n",
      " [0.01747675]\n",
      " [0.01812253]\n",
      " [0.0179189 ]\n",
      " [0.01744766]]\n",
      " \n",
      "[0.01800617 0.01781418 0.01779673 0.01701715 0.01721496 0.01688916\n",
      " 0.01675535]\n"
     ]
    }
   ],
   "source": [
    "print(X_train[0])\n",
    "print(' ')\n",
    "print(y_train[0])"
   ]
  },
  {
   "cell_type": "markdown",
   "metadata": {},
   "source": [
    "## LSTM model implementation"
   ]
  },
  {
   "cell_type": "code",
   "execution_count": 27,
   "metadata": {},
   "outputs": [],
   "source": [
    "model = Sequential()\n",
    "model.add(LSTM(units=30, activation='relu', input_shape=(lookback_days,1)))\n",
    "model.add(Dense(forcast_days))\n",
    "model.compile(optimizer='adam', loss='mean_squared_error')"
   ]
  },
  {
   "cell_type": "code",
   "execution_count": 28,
   "metadata": {},
   "outputs": [
    {
     "name": "stdout",
     "output_type": "stream",
     "text": [
      "Model: \"sequential_1\"\n",
      "_________________________________________________________________\n",
      "Layer (type)                 Output Shape              Param #   \n",
      "=================================================================\n",
      "lstm_1 (LSTM)                (None, 60)                14880     \n",
      "_________________________________________________________________\n",
      "dense_1 (Dense)              (None, 7)                 427       \n",
      "=================================================================\n",
      "Total params: 15,307\n",
      "Trainable params: 15,307\n",
      "Non-trainable params: 0\n",
      "_________________________________________________________________\n"
     ]
    }
   ],
   "source": [
    "model.summary()"
   ]
  },
  {
   "cell_type": "code",
   "execution_count": 29,
   "metadata": {},
   "outputs": [
    {
     "name": "stdout",
     "output_type": "stream",
     "text": [
      "Epoch 1/200\n",
      "4832/4832 [==============================] - ETA: 0s - loss: 0.009 - 2s 319us/step - loss: 0.0091\n",
      "Epoch 2/200\n",
      "4832/4832 [==============================] - 1s 245us/step - loss: 1.3153e-04\n",
      "Epoch 3/200\n",
      "4832/4832 [==============================] - 1s 233us/step - loss: 1.1865e-04\n",
      "Epoch 4/200\n",
      "4832/4832 [==============================] - 1s 238us/step - loss: 1.1182e-04\n",
      "Epoch 5/200\n",
      "4832/4832 [==============================] - 1s 249us/step - loss: 1.0656e-04\n",
      "Epoch 6/200\n",
      "4832/4832 [==============================] - 1s 222us/step - loss: 1.0442e-04\n",
      "Epoch 7/200\n",
      "4832/4832 [==============================] - 1s 227us/step - loss: 9.7836e-05\n",
      "Epoch 8/200\n",
      "4832/4832 [==============================] - 1s 237us/step - loss: 1.0533e-04\n",
      "Epoch 9/200\n",
      "4832/4832 [==============================] - 1s 234us/step - loss: 1.1211e-04\n",
      "Epoch 10/200\n",
      "4832/4832 [==============================] - 1s 258us/step - loss: 9.1928e-05\n",
      "Epoch 11/200\n",
      "4832/4832 [==============================] - 1s 258us/step - loss: 8.9248e-05\n",
      "Epoch 12/200\n",
      "4832/4832 [==============================] - 1s 230us/step - loss: 9.3956e-05\n",
      "Epoch 13/200\n",
      "4832/4832 [==============================] - 1s 229us/step - loss: 9.2272e-05\n",
      "Epoch 14/200\n",
      "4832/4832 [==============================] - 1s 235us/step - loss: 8.9333e-05\n",
      "Epoch 15/200\n",
      "4832/4832 [==============================] - 1s 220us/step - loss: 8.6196e-05\n",
      "Epoch 16/200\n",
      "4832/4832 [==============================] - 1s 249us/step - loss: 9.1895e-05\n",
      "Epoch 17/200\n",
      "4832/4832 [==============================] - 1s 295us/step - loss: 8.8870e-05\n",
      "Epoch 18/200\n",
      "4832/4832 [==============================] - 1s 263us/step - loss: 7.9641e-05\n",
      "Epoch 19/200\n",
      "4832/4832 [==============================] - 1s 287us/step - loss: 8.2688e-05\n",
      "Epoch 20/200\n",
      "4832/4832 [==============================] - 1s 225us/step - loss: 8.6394e-05\n",
      "Epoch 21/200\n",
      "4832/4832 [==============================] - 1s 217us/step - loss: 8.4233e-05\n",
      "Epoch 22/200\n",
      "4832/4832 [==============================] - 1s 236us/step - loss: 8.0656e-05\n",
      "Epoch 23/200\n",
      "4832/4832 [==============================] - 1s 221us/step - loss: 8.1711e-05\n",
      "Epoch 24/200\n",
      "4832/4832 [==============================] - 1s 220us/step - loss: 7.7297e-05\n",
      "Epoch 25/200\n",
      "4832/4832 [==============================] - 1s 238us/step - loss: 8.0997e-05\n",
      "Epoch 26/200\n",
      "4832/4832 [==============================] - 1s 221us/step - loss: 8.5144e-05\n",
      "Epoch 27/200\n",
      "4832/4832 [==============================] - 1s 232us/step - loss: 7.8037e-05\n",
      "Epoch 28/200\n",
      "4832/4832 [==============================] - 1s 276us/step - loss: 7.2724e-05\n",
      "Epoch 29/200\n",
      "4832/4832 [==============================] - 1s 221us/step - loss: 7.1616e-05\n",
      "Epoch 30/200\n",
      "4832/4832 [==============================] - 1s 220us/step - loss: 7.5126e-05\n",
      "Epoch 31/200\n",
      "4832/4832 [==============================] - 1s 243us/step - loss: 7.0570e-05\n",
      "Epoch 32/200\n",
      "4832/4832 [==============================] - 1s 249us/step - loss: 7.1021e-05\n",
      "Epoch 33/200\n",
      "4832/4832 [==============================] - 1s 237us/step - loss: 7.4496e-05\n",
      "Epoch 34/200\n",
      "4832/4832 [==============================] - 1s 268us/step - loss: 8.0158e-05\n",
      "Epoch 35/200\n",
      "4832/4832 [==============================] - 1s 228us/step - loss: 7.4622e-05\n",
      "Epoch 36/200\n",
      "4832/4832 [==============================] - 1s 230us/step - loss: 7.0517e-05\n",
      "Epoch 37/200\n",
      "4832/4832 [==============================] - 1s 252us/step - loss: 7.1718e-05\n",
      "Epoch 38/200\n",
      "4832/4832 [==============================] - 1s 237us/step - loss: 6.5815e-05\n",
      "Epoch 39/200\n",
      "4832/4832 [==============================] - 1s 226us/step - loss: 6.6880e-05\n",
      "Epoch 40/200\n",
      "4832/4832 [==============================] - 1s 247us/step - loss: 6.7013e-05\n",
      "Epoch 41/200\n",
      "4832/4832 [==============================] - 1s 233us/step - loss: 6.7579e-05\n",
      "Epoch 42/200\n",
      "4832/4832 [==============================] - 1s 229us/step - loss: 6.8459e-05\n",
      "Epoch 43/200\n",
      "4832/4832 [==============================] - 1s 251us/step - loss: 7.1922e-05\n",
      "Epoch 44/200\n",
      "4832/4832 [==============================] - 1s 236us/step - loss: 6.8492e-05\n",
      "Epoch 45/200\n",
      "4832/4832 [==============================] - 1s 228us/step - loss: 6.6490e-05\n",
      "Epoch 46/200\n",
      "4832/4832 [==============================] - 1s 247us/step - loss: 7.0878e-05\n",
      "Epoch 47/200\n",
      "4832/4832 [==============================] - 1s 223us/step - loss: 6.8108e-05\n",
      "Epoch 48/200\n",
      "4832/4832 [==============================] - 1s 254us/step - loss: 6.5875e-05\n",
      "Epoch 49/200\n",
      "4832/4832 [==============================] - 1s 266us/step - loss: 6.5521e-05\n",
      "Epoch 50/200\n",
      "4832/4832 [==============================] - 1s 231us/step - loss: 6.3370e-05\n",
      "Epoch 51/200\n",
      "4832/4832 [==============================] - 1s 283us/step - loss: 6.2823e-05\n",
      "Epoch 52/200\n",
      "4832/4832 [==============================] - 2s 312us/step - loss: 6.1311e-05\n",
      "Epoch 53/200\n",
      "4832/4832 [==============================] - 1s 266us/step - loss: 6.3738e-05\n",
      "Epoch 54/200\n",
      "4832/4832 [==============================] - 1s 306us/step - loss: 6.7034e-05 0s\n",
      "Epoch 55/200\n",
      "4832/4832 [==============================] - 1s 269us/step - loss: 6.3944e-05\n",
      "Epoch 56/200\n",
      "4832/4832 [==============================] - 1s 269us/step - loss: 6.5244e-05\n",
      "Epoch 57/200\n",
      "4832/4832 [==============================] - 1s 254us/step - loss: 6.4125e-05\n",
      "Epoch 58/200\n",
      "4832/4832 [==============================] - 1s 236us/step - loss: 6.4413e-05\n",
      "Epoch 59/200\n",
      "4832/4832 [==============================] - 1s 259us/step - loss: 6.5673e-05\n",
      "Epoch 60/200\n",
      "4832/4832 [==============================] - 1s 251us/step - loss: 6.2721e-05\n",
      "Epoch 61/200\n",
      "4832/4832 [==============================] - 1s 244us/step - loss: 5.9982e-05\n",
      "Epoch 62/200\n",
      "4832/4832 [==============================] - 1s 258us/step - loss: 6.0808e-05\n",
      "Epoch 63/200\n",
      "4832/4832 [==============================] - 1s 240us/step - loss: 6.3704e-05\n",
      "Epoch 64/200\n",
      "4832/4832 [==============================] - 1s 235us/step - loss: 6.0323e-05\n",
      "Epoch 65/200\n",
      "4832/4832 [==============================] - 1s 257us/step - loss: 6.1090e-05\n",
      "Epoch 66/200\n",
      "4832/4832 [==============================] - 1s 230us/step - loss: 6.2004e-05\n",
      "Epoch 67/200\n",
      "4832/4832 [==============================] - 1s 218us/step - loss: 6.0733e-05\n",
      "Epoch 68/200\n",
      "4832/4832 [==============================] - 1s 239us/step - loss: 5.9811e-05\n",
      "Epoch 69/200\n",
      "4832/4832 [==============================] - 1s 218us/step - loss: 6.0618e-05\n",
      "Epoch 70/200\n",
      "4832/4832 [==============================] - 1s 213us/step - loss: 6.0870e-05\n",
      "Epoch 71/200\n",
      "4832/4832 [==============================] - 1s 247us/step - loss: 6.1386e-05\n",
      "Epoch 72/200\n",
      "4832/4832 [==============================] - 1s 239us/step - loss: 6.0243e-05\n",
      "Epoch 73/200\n",
      "4832/4832 [==============================] - 1s 239us/step - loss: 6.3420e-05\n",
      "Epoch 74/200\n",
      "4832/4832 [==============================] - 1s 273us/step - loss: 6.1237e-05\n",
      "Epoch 75/200\n",
      "4832/4832 [==============================] - ETA: 0s - loss: 6.2413e-0 - 1s 217us/step - loss: 6.2207e-05\n",
      "Epoch 76/200\n",
      "4832/4832 [==============================] - 1s 217us/step - loss: 6.3142e-05\n",
      "Epoch 77/200\n",
      "4832/4832 [==============================] - 1s 239us/step - loss: 5.9828e-05\n",
      "Epoch 78/200\n",
      "4832/4832 [==============================] - 1s 227us/step - loss: 6.3584e-05\n",
      "Epoch 79/200\n",
      "4832/4832 [==============================] - 1s 220us/step - loss: 6.0363e-05\n",
      "Epoch 80/200\n",
      "4832/4832 [==============================] - 1s 245us/step - loss: 5.7977e-05\n",
      "Epoch 81/200\n",
      "4832/4832 [==============================] - 1s 235us/step - loss: 5.8056e-05\n",
      "Epoch 82/200\n",
      "4832/4832 [==============================] - 1s 243us/step - loss: 5.7644e-05\n",
      "Epoch 83/200\n",
      "4832/4832 [==============================] - 1s 262us/step - loss: 5.7923e-05\n",
      "Epoch 84/200\n",
      "4832/4832 [==============================] - 1s 228us/step - loss: 5.5115e-05\n",
      "Epoch 85/200\n",
      "4832/4832 [==============================] - 1s 228us/step - loss: 5.8510e-05\n",
      "Epoch 86/200\n",
      "4832/4832 [==============================] - 1s 234us/step - loss: 6.6938e-05\n",
      "Epoch 87/200\n",
      "4832/4832 [==============================] - 1s 221us/step - loss: 5.7849e-05\n",
      "Epoch 88/200\n",
      "4832/4832 [==============================] - 1s 252us/step - loss: 5.6811e-05\n",
      "Epoch 89/200\n",
      "4832/4832 [==============================] - 1s 236us/step - loss: 5.7437e-05\n",
      "Epoch 90/200\n"
     ]
    },
    {
     "name": "stdout",
     "output_type": "stream",
     "text": [
      "4832/4832 [==============================] - 1s 228us/step - loss: 6.0383e-05\n",
      "Epoch 91/200\n",
      "4832/4832 [==============================] - 1s 262us/step - loss: 5.9386e-05\n",
      "Epoch 92/200\n",
      "4832/4832 [==============================] - 1s 228us/step - loss: 5.6180e-05\n",
      "Epoch 93/200\n",
      "4832/4832 [==============================] - 1s 214us/step - loss: 5.6120e-05\n",
      "Epoch 94/200\n",
      "4832/4832 [==============================] - 1s 227us/step - loss: 5.6217e-05\n",
      "Epoch 95/200\n",
      "4832/4832 [==============================] - 1s 227us/step - loss: 5.6245e-05\n",
      "Epoch 96/200\n",
      "4832/4832 [==============================] - 1s 213us/step - loss: 5.6666e-05\n",
      "Epoch 97/200\n",
      "4832/4832 [==============================] - 1s 238us/step - loss: 5.7374e-05\n",
      "Epoch 98/200\n",
      "4832/4832 [==============================] - 1s 231us/step - loss: 5.8679e-05\n",
      "Epoch 99/200\n",
      "4832/4832 [==============================] - 1s 221us/step - loss: 5.6051e-05\n",
      "Epoch 100/200\n",
      "4832/4832 [==============================] - 1s 226us/step - loss: 5.7541e-05\n",
      "Epoch 101/200\n",
      "4832/4832 [==============================] - 1s 227us/step - loss: 5.5443e-05\n",
      "Epoch 102/200\n",
      "4832/4832 [==============================] - 1s 213us/step - loss: 5.9938e-05\n",
      "Epoch 103/200\n",
      "4832/4832 [==============================] - 1s 222us/step - loss: 5.5358e-05\n",
      "Epoch 104/200\n",
      "4832/4832 [==============================] - 1s 228us/step - loss: 5.6610e-05\n",
      "Epoch 105/200\n",
      "4832/4832 [==============================] - 1s 214us/step - loss: 5.6669e-05\n",
      "Epoch 106/200\n",
      "4832/4832 [==============================] - 1s 220us/step - loss: 5.4474e-05\n",
      "Epoch 107/200\n",
      "4832/4832 [==============================] - 1s 232us/step - loss: 5.6797e-05\n",
      "Epoch 108/200\n",
      "4832/4832 [==============================] - 1s 214us/step - loss: 5.5354e-05\n",
      "Epoch 109/200\n",
      "4832/4832 [==============================] - 1s 222us/step - loss: 5.8147e-05\n",
      "Epoch 110/200\n",
      "4832/4832 [==============================] - 1s 231us/step - loss: 5.7021e-05\n",
      "Epoch 111/200\n",
      "4832/4832 [==============================] - 1s 213us/step - loss: 5.4745e-05\n",
      "Epoch 112/200\n",
      "4832/4832 [==============================] - 1s 220us/step - loss: 5.5651e-05\n",
      "Epoch 113/200\n",
      "4832/4832 [==============================] - 1s 232us/step - loss: 5.4030e-05\n",
      "Epoch 114/200\n",
      "4832/4832 [==============================] - 1s 223us/step - loss: 5.3865e-05\n",
      "Epoch 115/200\n",
      "4832/4832 [==============================] - 1s 222us/step - loss: 5.5872e-05\n",
      "Epoch 116/200\n",
      "4832/4832 [==============================] - 1s 239us/step - loss: 5.2384e-05\n",
      "Epoch 117/200\n",
      "4832/4832 [==============================] - 1s 221us/step - loss: 5.5842e-05\n",
      "Epoch 118/200\n",
      "4832/4832 [==============================] - 1s 232us/step - loss: 5.4985e-05\n",
      "Epoch 119/200\n",
      "4832/4832 [==============================] - 1s 255us/step - loss: 5.8747e-05\n",
      "Epoch 120/200\n",
      "4832/4832 [==============================] - 1s 220us/step - loss: 5.4257e-05\n",
      "Epoch 121/200\n",
      "4832/4832 [==============================] - 1s 233us/step - loss: 5.5709e-05\n",
      "Epoch 122/200\n",
      "4832/4832 [==============================] - 1s 231us/step - loss: 5.3929e-05\n",
      "Epoch 123/200\n",
      "4832/4832 [==============================] - 1s 214us/step - loss: 5.6547e-05\n",
      "Epoch 124/200\n",
      "4832/4832 [==============================] - 1s 231us/step - loss: 5.3252e-05\n",
      "Epoch 125/200\n",
      "4832/4832 [==============================] - 1s 250us/step - loss: 5.4322e-05\n",
      "Epoch 126/200\n",
      "4832/4832 [==============================] - 1s 223us/step - loss: 5.4269e-05\n",
      "Epoch 127/200\n",
      "4832/4832 [==============================] - 1s 265us/step - loss: 5.3756e-05\n",
      "Epoch 128/200\n",
      "4832/4832 [==============================] - 1s 265us/step - loss: 5.7286e-05\n",
      "Epoch 129/200\n",
      "4832/4832 [==============================] - 1s 244us/step - loss: 5.5363e-05\n",
      "Epoch 130/200\n",
      "4832/4832 [==============================] - 1s 248us/step - loss: 5.5091e-05\n",
      "Epoch 131/200\n",
      "4832/4832 [==============================] - 1s 232us/step - loss: 5.5055e-05\n",
      "Epoch 132/200\n",
      "4832/4832 [==============================] - 1s 232us/step - loss: 5.5394e-05\n",
      "Epoch 133/200\n",
      "4832/4832 [==============================] - 1s 269us/step - loss: 5.3936e-05\n",
      "Epoch 134/200\n",
      "4832/4832 [==============================] - 1s 224us/step - loss: 5.6331e-05\n",
      "Epoch 135/200\n",
      "4832/4832 [==============================] - 1s 218us/step - loss: 5.8631e-05\n",
      "Epoch 136/200\n",
      "4832/4832 [==============================] - 1s 240us/step - loss: 5.4154e-05\n",
      "Epoch 137/200\n",
      "4832/4832 [==============================] - 1s 233us/step - loss: 5.4767e-05\n",
      "Epoch 138/200\n",
      "4832/4832 [==============================] - 1s 234us/step - loss: 5.7749e-05\n",
      "Epoch 139/200\n",
      "4832/4832 [==============================] - 1s 235us/step - loss: 5.4805e-05\n",
      "Epoch 140/200\n",
      "4832/4832 [==============================] - 1s 215us/step - loss: 5.4026e-05\n",
      "Epoch 141/200\n",
      "4832/4832 [==============================] - 1s 215us/step - loss: 5.3731e-05\n",
      "Epoch 142/200\n",
      "4832/4832 [==============================] - 1s 235us/step - loss: 5.2779e-05\n",
      "Epoch 143/200\n",
      "4832/4832 [==============================] - 1s 216us/step - loss: 5.5671e-05\n",
      "Epoch 144/200\n",
      "4832/4832 [==============================] - 1s 216us/step - loss: 5.4972e-05\n",
      "Epoch 145/200\n",
      "4832/4832 [==============================] - 1s 235us/step - loss: 5.6255e-05\n",
      "Epoch 146/200\n",
      "4832/4832 [==============================] - 1s 222us/step - loss: 5.4645e-05\n",
      "Epoch 147/200\n",
      "4832/4832 [==============================] - 1s 215us/step - loss: 5.6315e-05\n",
      "Epoch 148/200\n",
      "4832/4832 [==============================] - 1s 236us/step - loss: 5.4096e-05\n",
      "Epoch 149/200\n",
      "4832/4832 [==============================] - 1s 217us/step - loss: 5.4372e-05\n",
      "Epoch 150/200\n",
      "4832/4832 [==============================] - 1s 217us/step - loss: 5.3793e-05\n",
      "Epoch 151/200\n",
      "4832/4832 [==============================] - 1s 234us/step - loss: 5.3594e-05\n",
      "Epoch 152/200\n",
      "4832/4832 [==============================] - 1s 223us/step - loss: 5.4054e-05\n",
      "Epoch 153/200\n",
      "4832/4832 [==============================] - 1s 217us/step - loss: 5.3132e-05\n",
      "Epoch 154/200\n",
      "4832/4832 [==============================] - 1s 243us/step - loss: 5.4261e-05\n",
      "Epoch 155/200\n",
      "4832/4832 [==============================] - 1s 219us/step - loss: 5.3490e-05\n",
      "Epoch 156/200\n",
      "4832/4832 [==============================] - 1s 218us/step - loss: 5.4353e-05\n",
      "Epoch 157/200\n",
      "4832/4832 [==============================] - 1s 235us/step - loss: 5.4545e-05\n",
      "Epoch 158/200\n",
      "4832/4832 [==============================] - 1s 219us/step - loss: 5.3453e-05\n",
      "Epoch 159/200\n",
      "4832/4832 [==============================] - 1s 213us/step - loss: 5.3797e-05\n",
      "Epoch 160/200\n",
      "4832/4832 [==============================] - 1s 237us/step - loss: 5.3382e-05\n",
      "Epoch 161/200\n",
      "4832/4832 [==============================] - 1s 220us/step - loss: 5.4594e-05\n",
      "Epoch 162/200\n",
      "4832/4832 [==============================] - 1s 213us/step - loss: 5.3220e-05\n",
      "Epoch 163/200\n",
      "4832/4832 [==============================] - 1s 240us/step - loss: 5.2227e-05\n",
      "Epoch 164/200\n",
      "4832/4832 [==============================] - 1s 221us/step - loss: 5.4123e-05\n",
      "Epoch 165/200\n",
      "4832/4832 [==============================] - 1s 213us/step - loss: 5.3648e-05\n",
      "Epoch 166/200\n",
      "4832/4832 [==============================] - 1s 233us/step - loss: 5.2215e-05\n",
      "Epoch 167/200\n",
      "4832/4832 [==============================] - 1s 222us/step - loss: 5.2565e-05\n",
      "Epoch 168/200\n",
      "4832/4832 [==============================] - 1s 227us/step - loss: 5.2927e-05\n",
      "Epoch 169/200\n",
      "4832/4832 [==============================] - 1s 235us/step - loss: 5.2971e-05\n",
      "Epoch 170/200\n",
      "4832/4832 [==============================] - 1s 221us/step - loss: 5.5548e-05\n",
      "Epoch 171/200\n",
      "4832/4832 [==============================] - 1s 215us/step - loss: 5.3958e-05\n",
      "Epoch 172/200\n",
      "4832/4832 [==============================] - 1s 233us/step - loss: 5.2711e-05\n",
      "Epoch 173/200\n",
      "4832/4832 [==============================] - 1s 220us/step - loss: 5.3090e-05\n",
      "Epoch 174/200\n",
      "4832/4832 [==============================] - 1s 214us/step - loss: 5.3627e-05\n",
      "Epoch 175/200\n",
      "4832/4832 [==============================] - 1s 233us/step - loss: 5.3769e-05\n",
      "Epoch 176/200\n",
      "4832/4832 [==============================] - 1s 223us/step - loss: 5.2790e-05\n",
      "Epoch 177/200\n",
      "4832/4832 [==============================] - 1s 213us/step - loss: 5.3238e-05\n",
      "Epoch 178/200\n",
      "4832/4832 [==============================] - 1s 236us/step - loss: 5.3048e-05\n",
      "Epoch 179/200\n"
     ]
    },
    {
     "name": "stdout",
     "output_type": "stream",
     "text": [
      "4832/4832 [==============================] - 1s 232us/step - loss: 5.3667e-05\n",
      "Epoch 180/200\n",
      "4832/4832 [==============================] - 1s 215us/step - loss: 5.3298e-05\n",
      "Epoch 181/200\n",
      "4832/4832 [==============================] - 1s 230us/step - loss: 5.3098e-05\n",
      "Epoch 182/200\n",
      "4832/4832 [==============================] - 1s 226us/step - loss: 5.3831e-05\n",
      "Epoch 183/200\n",
      "4832/4832 [==============================] - 1s 220us/step - loss: 5.1823e-05\n",
      "Epoch 184/200\n",
      "4832/4832 [==============================] - 1s 230us/step - loss: 5.2435e-05\n",
      "Epoch 185/200\n",
      "4832/4832 [==============================] - 1s 220us/step - loss: 5.3701e-05\n",
      "Epoch 186/200\n",
      "4832/4832 [==============================] - 1s 213us/step - loss: 5.2514e-05\n",
      "Epoch 187/200\n",
      "4832/4832 [==============================] - 1s 234us/step - loss: 5.5821e-05\n",
      "Epoch 188/200\n",
      "4832/4832 [==============================] - 1s 228us/step - loss: 5.3092e-05\n",
      "Epoch 189/200\n",
      "4832/4832 [==============================] - 1s 217us/step - loss: 5.2988e-05\n",
      "Epoch 190/200\n",
      "4832/4832 [==============================] - 1s 228us/step - loss: 5.3469e-05\n",
      "Epoch 191/200\n",
      "4832/4832 [==============================] - 1s 238us/step - loss: 5.5748e-05\n",
      "Epoch 192/200\n",
      "4832/4832 [==============================] - 1s 213us/step - loss: 5.2670e-05\n",
      "Epoch 193/200\n",
      "4832/4832 [==============================] - 1s 230us/step - loss: 5.2001e-05\n",
      "Epoch 194/200\n",
      "4832/4832 [==============================] - 1s 227us/step - loss: 5.4597e-05\n",
      "Epoch 195/200\n",
      "4832/4832 [==============================] - 1s 214us/step - loss: 5.2843e-05\n",
      "Epoch 196/200\n",
      "4832/4832 [==============================] - 1s 230us/step - loss: 5.2180e-05\n",
      "Epoch 197/200\n",
      "4832/4832 [==============================] - 1s 226us/step - loss: 5.1576e-05\n",
      "Epoch 198/200\n",
      "4832/4832 [==============================] - 1s 213us/step - loss: 5.2683e-05\n",
      "Epoch 199/200\n",
      "4832/4832 [==============================] - 1s 229us/step - loss: 5.1944e-05\n",
      "Epoch 200/200\n",
      "4832/4832 [==============================] - 1s 233us/step - loss: 5.4792e-05\n"
     ]
    }
   ],
   "source": [
    "num_epochs = 300\n",
    "history  = model.fit(X_train,y_train,epochs=num_epochs,batch_size=32)"
   ]
  },
  {
   "cell_type": "markdown",
   "metadata": {},
   "source": [
    "#### Visualize the training data"
   ]
  },
  {
   "cell_type": "code",
   "execution_count": 49,
   "metadata": {},
   "outputs": [
    {
     "data": {
      "image/png": "[encoded data removed]",
      "text/plain": [
       "<Figure size 432x288 with 1 Axes>"
      ]
     },
     "metadata": {
      "needs_background": "light"
     },
     "output_type": "display_data"
    }
   ],
   "source": [
    "plt.figure()\n",
    "plt.plot(history.history['loss'][1:])\n",
    "plt.title('Model training loss')\n",
    "plt.ylabel('Loss')\n",
    "plt.xlabel('Epoch')\n",
    "# plt.legend(['Train'], loc='upper left')\n",
    "plt.show()"
   ]
  },
  {
   "cell_type": "markdown",
   "metadata": {},
   "source": [
    "## Prediction on the test set with LSTM"
   ]
  },
  {
   "cell_type": "code",
   "execution_count": 31,
   "metadata": {},
   "outputs": [],
   "source": [
    "# test sequence is not continuous, will be in 20 groups, each group contains 7 days\n",
    "def generate_test_sequence(test_data, lookback_days, forcast_days):\n",
    "    \"\"\"\n",
    "    Generate sequence array for test data,\n",
    "    inclduing only X\n",
    "    \"\"\"\n",
    "    X = []\n",
    "    y = []\n",
    "    m = lookback_days\n",
    "    n =forcast_days\n",
    "    N = len(test_data)\n",
    "    \n",
    "    for i in range(0, N, n): # here use 7, not 1, as we will use groups\n",
    "        # input sequence : x[i].....x[i+m]\n",
    "        # output sequence: x[i+m+1]....x[i+m+n] \n",
    "        # last index is (i+m+n)\n",
    "        end_index = i + m + n # find the end of this sequence\n",
    "        # check if we are out of index\n",
    "        if end_index > N:\n",
    "            break\n",
    "#         print(i, i+m, i+m+n)\n",
    "        seq_x = test_data[i:(i+m)]\n",
    "        seq_y = test_data[(i+m):(i+m+n)]\n",
    "        X.append(seq_x)\n",
    "        y.append(seq_y)\n",
    "        \n",
    "    array_X = np.array(X) # shape (N, m, 1)\n",
    "    array_y = np.array([list(a.ravel()) for a in np.array(y)]) # shape (N, n, 1) convert to (N, n)\n",
    "    return array_X, array_y"
   ]
  },
  {
   "cell_type": "code",
   "execution_count": 32,
   "metadata": {},
   "outputs": [
    {
     "name": "stdout",
     "output_type": "stream",
     "text": [
      "(295, 1) (40, 15, 1) (40, 7)\n"
     ]
    }
   ],
   "source": [
    "X_test, y_test = generate_test_sequence(test_set_extend, lookback_days, forcast_days)\n",
    "print(test_set_extend.shape, X_test.shape, y_test.shape)"
   ]
  },
  {
   "cell_type": "code",
   "execution_count": 33,
   "metadata": {},
   "outputs": [],
   "source": [
    "LSTM_prediction_scaled = model.predict(X_test)\n",
    "LSTM_prediction = sc.inverse_transform(LSTM_prediction_scaled)\n",
    "\n",
    "train_set = train_set.reshape((-1))\n",
    "test_set = test_set.reshape((-1))\n",
    "LSTM_prediction = LSTM_prediction.reshape((-1))"
   ]
  },
  {
   "cell_type": "code",
   "execution_count": 34,
   "metadata": {},
   "outputs": [
    {
     "data": {
      "text/html": [
       "<div>\n",
       "<style scoped>\n",
       "    .dataframe tbody tr th:only-of-type {\n",
       "        vertical-align: middle;\n",
       "    }\n",
       "\n",
       "    .dataframe tbody tr th {\n",
       "        vertical-align: top;\n",
       "    }\n",
       "\n",
       "    .dataframe thead th {\n",
       "        text-align: right;\n",
       "    }\n",
       "</style>\n",
       "<table border=\"1\" class=\"dataframe\">\n",
       "  <thead>\n",
       "    <tr style=\"text-align: right;\">\n",
       "      <th></th>\n",
       "      <th>Date</th>\n",
       "      <th>Adj Close</th>\n",
       "      <th>Scaled_Close</th>\n",
       "      <th>LSTM_Prediction</th>\n",
       "    </tr>\n",
       "  </thead>\n",
       "  <tbody>\n",
       "    <tr>\n",
       "      <th>4854</th>\n",
       "      <td>2019-04-22</td>\n",
       "      <td>201.342468</td>\n",
       "      <td>0.613740</td>\n",
       "      <td>202.363770</td>\n",
       "    </tr>\n",
       "    <tr>\n",
       "      <th>4855</th>\n",
       "      <td>2019-04-23</td>\n",
       "      <td>204.246475</td>\n",
       "      <td>0.622483</td>\n",
       "      <td>203.178772</td>\n",
       "    </tr>\n",
       "    <tr>\n",
       "      <th>4856</th>\n",
       "      <td>2019-04-24</td>\n",
       "      <td>203.931473</td>\n",
       "      <td>0.621535</td>\n",
       "      <td>203.673813</td>\n",
       "    </tr>\n",
       "    <tr>\n",
       "      <th>4857</th>\n",
       "      <td>2019-04-25</td>\n",
       "      <td>202.080780</td>\n",
       "      <td>0.615963</td>\n",
       "      <td>203.793411</td>\n",
       "    </tr>\n",
       "    <tr>\n",
       "      <th>4858</th>\n",
       "      <td>2019-04-26</td>\n",
       "      <td>201.116043</td>\n",
       "      <td>0.613058</td>\n",
       "      <td>204.626831</td>\n",
       "    </tr>\n",
       "  </tbody>\n",
       "</table>\n",
       "</div>"
      ],
      "text/plain": [
       "           Date   Adj Close  Scaled_Close  LSTM_Prediction\n",
       "4854 2019-04-22  201.342468      0.613740       202.363770\n",
       "4855 2019-04-23  204.246475      0.622483       203.178772\n",
       "4856 2019-04-24  203.931473      0.621535       203.673813\n",
       "4857 2019-04-25  202.080780      0.615963       203.793411\n",
       "4858 2019-04-26  201.116043      0.613058       204.626831"
      ]
     },
     "execution_count": 34,
     "metadata": {},
     "output_type": "execute_result"
    }
   ],
   "source": [
    "dataset_test['LSTM_Prediction'] = LSTM_prediction\n",
    "dataset_test.head()"
   ]
  },
  {
   "cell_type": "code",
   "execution_count": 35,
   "metadata": {},
   "outputs": [],
   "source": [
    "def plot_prediction_comparison(true_set, prediction_set):\n",
    "    plt.figure(figsize = (15,8))\n",
    "\n",
    "    for i in range(0, len(prediction_set), forcast_days):\n",
    "        indexs = [i+x for x in range(forcast_days)]\n",
    "        values = prediction_set[i:i+forcast_days]\n",
    "        plt.plot(indexs, values, color='r')\n",
    "\n",
    "    plt.plot(0, prediction_set[0], color='r', label='prediction') # just used to add label\n",
    "\n",
    "    plt.plot(true_set, color='b', label='True Close')\n",
    "    plt.legend(loc='best')\n",
    "    plt.show()"
   ]
  },
  {
   "cell_type": "code",
   "execution_count": 36,
   "metadata": {},
   "outputs": [
    {
     "data": {
      "image/png": "[encoded data removed]",
      "text/plain": [
       "<Figure size 1080x576 with 1 Axes>"
      ]
     },
     "metadata": {
      "needs_background": "light"
     },
     "output_type": "display_data"
    }
   ],
   "source": [
    "plot_prediction_comparison(dataset_test['Adj Close'].values, dataset_test['LSTM_Prediction'].values)"
   ]
  },
  {
   "cell_type": "markdown",
   "metadata": {},
   "source": [
    "## Moving Average"
   ]
  },
  {
   "cell_type": "code",
   "execution_count": 37,
   "metadata": {},
   "outputs": [],
   "source": [
    "dataset_test_extend['MA_Prediction'] = np.NaN\n",
    "\n",
    "def make_window(size, start):\n",
    "    # make index window for use of concat of real price and prediction price\n",
    "    return [start+k for k in range(size)]\n",
    "\n",
    "for index in range(window_size, len(dataset_test_extend), forcast_days):\n",
    "    for i in range(0,forcast_days):\n",
    "        if index+i >= len(dataset_test_extend):\n",
    "            break\n",
    "        # window for real price, eg [1, 2, 3, 4, 5, 6, 7, 8, 9]\n",
    "        window_real = make_window(window_size-i, index+i-window_size)\n",
    "        \n",
    "        # window for predicted price, eg [10]\n",
    "        window_MA = make_window(i, index)\n",
    "\n",
    "        price_window = pd.concat([ dataset_test_extend['Adj Close'].iloc[window_real], \n",
    "                                   dataset_test_extend['MA_Prediction'].iloc[window_MA] ])\n",
    "        next_mean_prediction = price_window.mean(axis=0)\n",
    "\n",
    "        dataset_test_extend.iat[index+i, dataset_test_extend.columns.get_loc('MA_Prediction')] = next_mean_prediction"
   ]
  },
  {
   "cell_type": "code",
   "execution_count": 38,
   "metadata": {},
   "outputs": [
    {
     "data": {
      "text/html": [
       "<div>\n",
       "<style scoped>\n",
       "    .dataframe tbody tr th:only-of-type {\n",
       "        vertical-align: middle;\n",
       "    }\n",
       "\n",
       "    .dataframe tbody tr th {\n",
       "        vertical-align: top;\n",
       "    }\n",
       "\n",
       "    .dataframe thead th {\n",
       "        text-align: right;\n",
       "    }\n",
       "</style>\n",
       "<table border=\"1\" class=\"dataframe\">\n",
       "  <thead>\n",
       "    <tr style=\"text-align: right;\">\n",
       "      <th></th>\n",
       "      <th>Date</th>\n",
       "      <th>Adj Close</th>\n",
       "      <th>Scaled_Close</th>\n",
       "      <th>LSTM_Prediction</th>\n",
       "      <th>MA_Prediction</th>\n",
       "    </tr>\n",
       "  </thead>\n",
       "  <tbody>\n",
       "    <tr>\n",
       "      <th>4854</th>\n",
       "      <td>2019-04-22</td>\n",
       "      <td>201.342468</td>\n",
       "      <td>0.613740</td>\n",
       "      <td>202.363770</td>\n",
       "      <td>194.701590</td>\n",
       "    </tr>\n",
       "    <tr>\n",
       "      <th>4855</th>\n",
       "      <td>2019-04-23</td>\n",
       "      <td>204.246475</td>\n",
       "      <td>0.622483</td>\n",
       "      <td>203.178772</td>\n",
       "      <td>195.215717</td>\n",
       "    </tr>\n",
       "    <tr>\n",
       "      <th>4856</th>\n",
       "      <td>2019-04-24</td>\n",
       "      <td>203.931473</td>\n",
       "      <td>0.621535</td>\n",
       "      <td>203.673813</td>\n",
       "      <td>195.679458</td>\n",
       "    </tr>\n",
       "    <tr>\n",
       "      <th>4857</th>\n",
       "      <td>2019-04-25</td>\n",
       "      <td>202.080780</td>\n",
       "      <td>0.615963</td>\n",
       "      <td>203.793411</td>\n",
       "      <td>195.991671</td>\n",
       "    </tr>\n",
       "    <tr>\n",
       "      <th>4858</th>\n",
       "      <td>2019-04-26</td>\n",
       "      <td>201.116043</td>\n",
       "      <td>0.613058</td>\n",
       "      <td>204.626831</td>\n",
       "      <td>196.237413</td>\n",
       "    </tr>\n",
       "  </tbody>\n",
       "</table>\n",
       "</div>"
      ],
      "text/plain": [
       "           Date   Adj Close  Scaled_Close  LSTM_Prediction  MA_Prediction\n",
       "4854 2019-04-22  201.342468      0.613740       202.363770     194.701590\n",
       "4855 2019-04-23  204.246475      0.622483       203.178772     195.215717\n",
       "4856 2019-04-24  203.931473      0.621535       203.673813     195.679458\n",
       "4857 2019-04-25  202.080780      0.615963       203.793411     195.991671\n",
       "4858 2019-04-26  201.116043      0.613058       204.626831     196.237413"
      ]
     },
     "execution_count": 38,
     "metadata": {},
     "output_type": "execute_result"
    }
   ],
   "source": [
    "dataset_test['MA_Prediction'] = dataset_test_extend[lookback_days:]['MA_Prediction'].values\n",
    "dataset_test.head()"
   ]
  },
  {
   "cell_type": "code",
   "execution_count": 39,
   "metadata": {},
   "outputs": [
    {
     "data": {
      "image/png": "[encoded data removed]",
      "text/plain": [
       "<Figure size 1080x576 with 1 Axes>"
      ]
     },
     "metadata": {
      "needs_background": "light"
     },
     "output_type": "display_data"
    }
   ],
   "source": [
    "plot_prediction_comparison(dataset_test['Adj Close'].values, dataset_test['MA_Prediction'].values)"
   ]
  },
  {
   "cell_type": "code",
   "execution_count": 60,
   "metadata": {},
   "outputs": [
    {
     "data": {
      "image/png": "[encoded data removed]",
      "text/plain": [
       "<Figure size 1080x576 with 1 Axes>"
      ]
     },
     "metadata": {
      "needs_background": "light"
     },
     "output_type": "display_data"
    }
   ],
   "source": [
    "ax = dataset_test.plot(x='Date', y=[\"Adj Close\", \"LSTM_Prediction\", \"MA_Prediction\"], \n",
    "                       title='AAPL', figsize=(15, 8), color=['blue', 'red', 'green'])\n",
    "\n",
    "ax.set_xlabel('Date')\n",
    "ax.set_ylabel('Price ($)')\n",
    "plt.show()"
   ]
  },
  {
   "cell_type": "markdown",
   "metadata": {},
   "source": [
    "### View the result with plotly"
   ]
  },
  {
   "cell_type": "code",
   "execution_count": 52,
   "metadata": {},
   "outputs": [
    {
     "data": {
      "application/vnd.plotly.v1+json": {
       "config": {
        "plotlyServerURL": "https://plot.ly"
       },
       "data": [
        {
         "mode": "lines",
         "name": "True Price",
         "type": "scatter",
         "x": [
          "2019-04-22T00:00:00",
          "2019-04-23T00:00:00",
          "2019-04-24T00:00:00",
          "2019-04-25T00:00:00",
          "2019-04-26T00:00:00",
          "2019-04-29T00:00:00",
          "2019-04-30T00:00:00",
          "2019-05-01T00:00:00",
          "2019-05-02T00:00:00",
          "2019-05-03T00:00:00",
          "2019-05-06T00:00:00",
          "2019-05-07T00:00:00",
          "2019-05-08T00:00:00",
          "2019-05-09T00:00:00",
          "2019-05-10T00:00:00",
          "2019-05-13T00:00:00",
          "2019-05-14T00:00:00",
          "2019-05-15T00:00:00",
          "2019-05-16T00:00:00",
          "2019-05-17T00:00:00",
          "2019-05-20T00:00:00",
          "2019-05-21T00:00:00",
          "2019-05-22T00:00:00",
          "2019-05-23T00:00:00",
          "2019-05-24T00:00:00",
          "2019-05-28T00:00:00",
          "2019-05-29T00:00:00",
          "2019-05-30T00:00:00",
          "2019-05-31T00:00:00",
          "2019-06-03T00:00:00",
          "2019-06-04T00:00:00",
          "2019-06-05T00:00:00",
          "2019-06-06T00:00:00",
          "2019-06-07T00:00:00",
          "2019-06-10T00:00:00",
          "2019-06-11T00:00:00",
          "2019-06-12T00:00:00",
          "2019-06-13T00:00:00",
          "2019-06-14T00:00:00",
          "2019-06-17T00:00:00",
          "2019-06-18T00:00:00",
          "2019-06-19T00:00:00",
          "2019-06-20T00:00:00",
          "2019-06-21T00:00:00",
          "2019-06-24T00:00:00",
          "2019-06-25T00:00:00",
          "2019-06-26T00:00:00",
          "2019-06-27T00:00:00",
          "2019-06-28T00:00:00",
          "2019-07-01T00:00:00",
          "2019-07-02T00:00:00",
          "2019-07-03T00:00:00",
          "2019-07-05T00:00:00",
          "2019-07-08T00:00:00",
          "2019-07-09T00:00:00",
          "2019-07-10T00:00:00",
          "2019-07-11T00:00:00",
          "2019-07-12T00:00:00",
          "2019-07-15T00:00:00",
          "2019-07-16T00:00:00",
          "2019-07-17T00:00:00",
          "2019-07-18T00:00:00",
          "2019-07-19T00:00:00",
          "2019-07-22T00:00:00",
          "2019-07-23T00:00:00",
          "2019-07-24T00:00:00",
          "2019-07-25T00:00:00",
          "2019-07-26T00:00:00",
          "2019-07-29T00:00:00",
          "2019-07-30T00:00:00",
          "2019-07-31T00:00:00",
          "2019-08-01T00:00:00",
          "2019-08-02T00:00:00",
          "2019-08-05T00:00:00",
          "2019-08-06T00:00:00",
          "2019-08-07T00:00:00",
          "2019-08-08T00:00:00",
          "2019-08-09T00:00:00",
          "2019-08-12T00:00:00",
          "2019-08-13T00:00:00",
          "2019-08-14T00:00:00",
          "2019-08-15T00:00:00",
          "2019-08-16T00:00:00",
          "2019-08-19T00:00:00",
          "2019-08-20T00:00:00",
          "2019-08-21T00:00:00",
          "2019-08-22T00:00:00",
          "2019-08-23T00:00:00",
          "2019-08-26T00:00:00",
          "2019-08-27T00:00:00",
          "2019-08-28T00:00:00",
          "2019-08-29T00:00:00",
          "2019-08-30T00:00:00",
          "2019-09-03T00:00:00",
          "2019-09-04T00:00:00",
          "2019-09-05T00:00:00",
          "2019-09-06T00:00:00",
          "2019-09-09T00:00:00",
          "2019-09-10T00:00:00",
          "2019-09-11T00:00:00",
          "2019-09-12T00:00:00",
          "2019-09-13T00:00:00",
          "2019-09-16T00:00:00",
          "2019-09-17T00:00:00",
          "2019-09-18T00:00:00",
          "2019-09-19T00:00:00",
          "2019-09-20T00:00:00",
          "2019-09-23T00:00:00",
          "2019-09-24T00:00:00",
          "2019-09-25T00:00:00",
          "2019-09-26T00:00:00",
          "2019-09-27T00:00:00",
          "2019-09-30T00:00:00",
          "2019-10-01T00:00:00",
          "2019-10-02T00:00:00",
          "2019-10-03T00:00:00",
          "2019-10-04T00:00:00",
          "2019-10-07T00:00:00",
          "2019-10-08T00:00:00",
          "2019-10-09T00:00:00",
          "2019-10-10T00:00:00",
          "2019-10-11T00:00:00",
          "2019-10-14T00:00:00",
          "2019-10-15T00:00:00",
          "2019-10-16T00:00:00",
          "2019-10-17T00:00:00",
          "2019-10-18T00:00:00",
          "2019-10-21T00:00:00",
          "2019-10-22T00:00:00",
          "2019-10-23T00:00:00",
          "2019-10-24T00:00:00",
          "2019-10-25T00:00:00",
          "2019-10-28T00:00:00",
          "2019-10-29T00:00:00",
          "2019-10-30T00:00:00",
          "2019-10-31T00:00:00",
          "2019-11-01T00:00:00",
          "2019-11-04T00:00:00",
          "2019-11-05T00:00:00",
          "2019-11-06T00:00:00",
          "2019-11-07T00:00:00",
          "2019-11-08T00:00:00",
          "2019-11-11T00:00:00",
          "2019-11-12T00:00:00",
          "2019-11-13T00:00:00",
          "2019-11-14T00:00:00",
          "2019-11-15T00:00:00",
          "2019-11-18T00:00:00",
          "2019-11-19T00:00:00",
          "2019-11-20T00:00:00",
          "2019-11-21T00:00:00",
          "2019-11-22T00:00:00",
          "2019-11-25T00:00:00",
          "2019-11-26T00:00:00",
          "2019-11-27T00:00:00",
          "2019-11-29T00:00:00",
          "2019-12-02T00:00:00",
          "2019-12-03T00:00:00",
          "2019-12-04T00:00:00",
          "2019-12-05T00:00:00",
          "2019-12-06T00:00:00",
          "2019-12-09T00:00:00",
          "2019-12-10T00:00:00",
          "2019-12-11T00:00:00",
          "2019-12-12T00:00:00",
          "2019-12-13T00:00:00",
          "2019-12-16T00:00:00",
          "2019-12-17T00:00:00",
          "2019-12-18T00:00:00",
          "2019-12-19T00:00:00",
          "2019-12-20T00:00:00",
          "2019-12-23T00:00:00",
          "2019-12-24T00:00:00",
          "2019-12-26T00:00:00",
          "2019-12-27T00:00:00",
          "2019-12-30T00:00:00",
          "2019-12-31T00:00:00",
          "2020-01-02T00:00:00",
          "2020-01-03T00:00:00",
          "2020-01-06T00:00:00",
          "2020-01-07T00:00:00",
          "2020-01-08T00:00:00",
          "2020-01-09T00:00:00",
          "2020-01-10T00:00:00",
          "2020-01-13T00:00:00",
          "2020-01-14T00:00:00",
          "2020-01-15T00:00:00",
          "2020-01-16T00:00:00",
          "2020-01-17T00:00:00",
          "2020-01-21T00:00:00",
          "2020-01-22T00:00:00",
          "2020-01-23T00:00:00",
          "2020-01-24T00:00:00",
          "2020-01-27T00:00:00",
          "2020-01-28T00:00:00",
          "2020-01-29T00:00:00",
          "2020-01-30T00:00:00",
          "2020-01-31T00:00:00",
          "2020-02-03T00:00:00",
          "2020-02-04T00:00:00",
          "2020-02-05T00:00:00",
          "2020-02-06T00:00:00",
          "2020-02-07T00:00:00",
          "2020-02-10T00:00:00",
          "2020-02-11T00:00:00",
          "2020-02-12T00:00:00",
          "2020-02-13T00:00:00",
          "2020-02-14T00:00:00",
          "2020-02-18T00:00:00",
          "2020-02-19T00:00:00",
          "2020-02-20T00:00:00",
          "2020-02-21T00:00:00",
          "2020-02-24T00:00:00",
          "2020-02-25T00:00:00",
          "2020-02-26T00:00:00",
          "2020-02-27T00:00:00",
          "2020-02-28T00:00:00",
          "2020-03-02T00:00:00",
          "2020-03-03T00:00:00",
          "2020-03-04T00:00:00",
          "2020-03-05T00:00:00",
          "2020-03-06T00:00:00",
          "2020-03-09T00:00:00",
          "2020-03-10T00:00:00",
          "2020-03-11T00:00:00",
          "2020-03-12T00:00:00",
          "2020-03-13T00:00:00",
          "2020-03-16T00:00:00",
          "2020-03-17T00:00:00",
          "2020-03-18T00:00:00",
          "2020-03-19T00:00:00",
          "2020-03-20T00:00:00",
          "2020-03-23T00:00:00",
          "2020-03-24T00:00:00",
          "2020-03-25T00:00:00",
          "2020-03-26T00:00:00",
          "2020-03-27T00:00:00",
          "2020-03-30T00:00:00",
          "2020-03-31T00:00:00",
          "2020-04-01T00:00:00",
          "2020-04-02T00:00:00",
          "2020-04-03T00:00:00",
          "2020-04-06T00:00:00",
          "2020-04-07T00:00:00",
          "2020-04-08T00:00:00",
          "2020-04-09T00:00:00",
          "2020-04-13T00:00:00",
          "2020-04-14T00:00:00",
          "2020-04-15T00:00:00",
          "2020-04-16T00:00:00",
          "2020-04-17T00:00:00",
          "2020-04-20T00:00:00",
          "2020-04-21T00:00:00",
          "2020-04-22T00:00:00",
          "2020-04-23T00:00:00",
          "2020-04-24T00:00:00",
          "2020-04-27T00:00:00",
          "2020-04-28T00:00:00",
          "2020-04-29T00:00:00",
          "2020-04-30T00:00:00",
          "2020-05-01T00:00:00",
          "2020-05-04T00:00:00",
          "2020-05-05T00:00:00",
          "2020-05-06T00:00:00",
          "2020-05-07T00:00:00",
          "2020-05-08T00:00:00",
          "2020-05-11T00:00:00",
          "2020-05-12T00:00:00",
          "2020-05-13T00:00:00",
          "2020-05-14T00:00:00",
          "2020-05-15T00:00:00",
          "2020-05-18T00:00:00",
          "2020-05-19T00:00:00",
          "2020-05-20T00:00:00",
          "2020-05-21T00:00:00",
          "2020-05-22T00:00:00",
          "2020-05-26T00:00:00",
          "2020-05-27T00:00:00",
          "2020-05-28T00:00:00",
          "2020-05-29T00:00:00"
         ],
         "y": [
          201.34246826171875,
          204.24647521972656,
          203.9314727783203,
          202.08078002929688,
          201.1160430908203,
          201.4212188720703,
          197.54261779785156,
          207.23912048339844,
          205.8904571533203,
          208.449951171875,
          205.2309112548828,
          199.69850158691406,
          199.73785400390625,
          197.59182739257812,
          194.85450744628906,
          183.52967834472656,
          186.43499755859375,
          188.6683349609375,
          187.8382568359375,
          186.77099609375,
          180.93069458007812,
          184.39930725097656,
          180.62432861328125,
          177.5411376953125,
          176.85928344726562,
          176.1280059814453,
          175.28802490234375,
          176.1971893310547,
          173.00527954101562,
          171.25613403320312,
          177.52137756347656,
          180.38714599609375,
          183.0355682373047,
          187.90740966796875,
          190.3087615966797,
          192.512451171875,
          191.8997802734375,
          191.8602294921875,
          190.4668731689453,
          191.6033172607422,
          196.10952758789062,
          195.536376953125,
          197.1076202392578,
          196.4356231689453,
          196.2379913330078,
          193.2635040283203,
          197.44361877441406,
          197.3843231201172,
          195.5857696533203,
          199.17298889160156,
          200.33905029296875,
          201.99923706054688,
          201.82135009765625,
          197.6610107421875,
          198.86663818359375,
          200.83316040039062,
          199.37062072753906,
          200.90234375,
          202.78981018066406,
          202.0881805419922,
          200.9517364501953,
          203.2344970703125,
          200.20069885253906,
          204.77610778808594,
          206.37698364257812,
          206.20901489257812,
          204.57847595214844,
          205.28997802734375,
          207.2070770263672,
          206.31768798828125,
          210.5274658203125,
          205.97181701660156,
          201.6138458251953,
          191.05978393554688,
          194.67662048339844,
          196.69256591796875,
          201.03079223632812,
          199.3742218017578,
          198.86831665039062,
          207.2900848388672,
          201.1200714111328,
          200.11819458007812,
          204.8399200439453,
          208.6589813232422,
          208.6688995361328,
          210.93057250976562,
          210.7520294189453,
          201.01097106933594,
          204.8300018310547,
          202.51873779296875,
          203.8777313232422,
          207.32974243164062,
          207.06192016601562,
          204.0463409423828,
          207.50831604003906,
          211.56541442871094,
          211.5455780029297,
          212.44827270507812,
          214.95791625976562,
          221.79254150390625,
          221.2965545654297,
          216.991455078125,
          218.1322021484375,
          218.92578125,
          220.97914123535156,
          219.18370056152344,
          215.97962951660156,
          216.96168518066406,
          215.93003845214844,
          219.25311279296875,
          218.12228393554688,
          217.06089782714844,
          222.1694793701172,
          222.7845001220703,
          217.19976806640625,
          219.0447998046875,
          225.18504333496094,
          225.23463439941406,
          222.5960235595703,
          225.20489501953125,
          228.2402801513672,
          234.3110809326172,
          233.97381591796875,
          233.42825317382812,
          232.48587036132812,
          233.38856506347656,
          234.50949096679688,
          238.57650756835938,
          238.03094482421875,
          241.2250518798828,
          241.621826171875,
          244.59771728515625,
          247.04786682128906,
          241.3341522216797,
          241.3043975830078,
          246.76019287109375,
          253.76344299316406,
          255.429931640625,
          255.06292724609375,
          255.17201232910156,
          258.11700439453125,
          258.8234558105469,
          260.8730163574219,
          260.63421630859375,
          263.13153076171875,
          261.310791015625,
          264.4150085449219,
          265.74822998046875,
          264.94232177734375,
          261.8580322265625,
          260.6839904785156,
          260.45513916015625,
          265.02191162109375,
          262.9524230957031,
          266.4844665527344,
          265.8974609375,
          262.8230895996094,
          258.136962890625,
          260.41534423828125,
          264.23590087890625,
          269.3399353027344,
          265.5691223144531,
          267.1212463378906,
          269.399658203125,
          270.0861511230469,
          273.7574768066406,
          278.443603515625,
          278.9908752441406,
          278.3242492675781,
          278.6028137207031,
          278.0257568359375,
          282.56268310546875,
          282.831298828125,
          288.4427795410156,
          288.33331298828125,
          290.04461669921875,
          292.163818359375,
          298.8299560546875,
          295.9247131347656,
          298.28271484375,
          296.8798828125,
          301.6555480957031,
          308.06298828125,
          308.7593994140625,
          315.3558654785156,
          311.0975341796875,
          309.7643127441406,
          313.6445617675781,
          317.116943359375,
          314.9678649902344,
          316.0921630859375,
          317.6144104003906,
          316.69903564453125,
          307.38641357421875,
          316.0821838378906,
          322.6985168457031,
          322.23089599609375,
          307.943603515625,
          307.097900390625,
          317.2362976074219,
          319.82318115234375,
          323.5641174316406,
          319.166015625,
          320.6819152832031,
          318.74713134765625,
          326.3166809082031,
          323.9929504394531,
          324.07275390625,
          318.1387939453125,
          322.746337890625,
          319.4352722167969,
          312.2048645019531,
          297.375,
          287.3022766113281,
          291.85992431640625,
          272.7815856933594,
          272.62200927734375,
          298.0032958984375,
          288.5389404296875,
          301.9226989746094,
          292.12921142578125,
          288.2497253417969,
          265.4514465332031,
          284.5696716308594,
          274.6864318847656,
          247.5598602294922,
          277.2195739746094,
          241.55612182617188,
          252.1773681640625,
          246.0040740966797,
          244.11917114257812,
          228.6211395263672,
          223.76426696777344,
          246.21351623535156,
          244.857177734375,
          257.7423095703125,
          247.07118225097656,
          254.12210083007812,
          253.60350036621094,
          240.25962829589844,
          244.26876831054688,
          240.75827026367188,
          261.76141357421875,
          258.7296142578125,
          265.3517150878906,
          267.2665100097656,
          272.5123291015625,
          286.2750549316406,
          283.6621398925781,
          285.9160461425781,
          282.0365295410156,
          276.182373046875,
          267.6454772949219,
          275.3546142578125,
          274.2875061035156,
          282.2060852050781,
          282.4055480957031,
          277.8279113769531,
          286.9532470703125,
          293.0068359375,
          288.28961181640625,
          292.3685607910156,
          296.7566833496094,
          299.8183898925781,
          302.91998291015625,
          310.1300048828125,
          315.010009765625,
          311.4100036621094,
          307.6499938964844,
          309.5400085449219,
          307.7099914550781,
          314.9599914550781,
          313.1400146484375,
          319.2300109863281,
          316.8500061035156,
          318.8900146484375,
          316.7300109863281,
          318.1099853515625,
          318.25,
          317.94000244140625
         ]
        },
        {
         "mode": "lines",
         "name": "LSTM_Prediction",
         "type": "scatter",
         "x": [
          "2019-04-22T00:00:00",
          "2019-04-23T00:00:00",
          "2019-04-24T00:00:00",
          "2019-04-25T00:00:00",
          "2019-04-26T00:00:00",
          "2019-04-29T00:00:00",
          "2019-04-30T00:00:00",
          "2019-05-01T00:00:00",
          "2019-05-02T00:00:00",
          "2019-05-03T00:00:00",
          "2019-05-06T00:00:00",
          "2019-05-07T00:00:00",
          "2019-05-08T00:00:00",
          "2019-05-09T00:00:00",
          "2019-05-10T00:00:00",
          "2019-05-13T00:00:00",
          "2019-05-14T00:00:00",
          "2019-05-15T00:00:00",
          "2019-05-16T00:00:00",
          "2019-05-17T00:00:00",
          "2019-05-20T00:00:00",
          "2019-05-21T00:00:00",
          "2019-05-22T00:00:00",
          "2019-05-23T00:00:00",
          "2019-05-24T00:00:00",
          "2019-05-28T00:00:00",
          "2019-05-29T00:00:00",
          "2019-05-30T00:00:00",
          "2019-05-31T00:00:00",
          "2019-06-03T00:00:00",
          "2019-06-04T00:00:00",
          "2019-06-05T00:00:00",
          "2019-06-06T00:00:00",
          "2019-06-07T00:00:00",
          "2019-06-10T00:00:00",
          "2019-06-11T00:00:00",
          "2019-06-12T00:00:00",
          "2019-06-13T00:00:00",
          "2019-06-14T00:00:00",
          "2019-06-17T00:00:00",
          "2019-06-18T00:00:00",
          "2019-06-19T00:00:00",
          "2019-06-20T00:00:00",
          "2019-06-21T00:00:00",
          "2019-06-24T00:00:00",
          "2019-06-25T00:00:00",
          "2019-06-26T00:00:00",
          "2019-06-27T00:00:00",
          "2019-06-28T00:00:00",
          "2019-07-01T00:00:00",
          "2019-07-02T00:00:00",
          "2019-07-03T00:00:00",
          "2019-07-05T00:00:00",
          "2019-07-08T00:00:00",
          "2019-07-09T00:00:00",
          "2019-07-10T00:00:00",
          "2019-07-11T00:00:00",
          "2019-07-12T00:00:00",
          "2019-07-15T00:00:00",
          "2019-07-16T00:00:00",
          "2019-07-17T00:00:00",
          "2019-07-18T00:00:00",
          "2019-07-19T00:00:00",
          "2019-07-22T00:00:00",
          "2019-07-23T00:00:00",
          "2019-07-24T00:00:00",
          "2019-07-25T00:00:00",
          "2019-07-26T00:00:00",
          "2019-07-29T00:00:00",
          "2019-07-30T00:00:00",
          "2019-07-31T00:00:00",
          "2019-08-01T00:00:00",
          "2019-08-02T00:00:00",
          "2019-08-05T00:00:00",
          "2019-08-06T00:00:00",
          "2019-08-07T00:00:00",
          "2019-08-08T00:00:00",
          "2019-08-09T00:00:00",
          "2019-08-12T00:00:00",
          "2019-08-13T00:00:00",
          "2019-08-14T00:00:00",
          "2019-08-15T00:00:00",
          "2019-08-16T00:00:00",
          "2019-08-19T00:00:00",
          "2019-08-20T00:00:00",
          "2019-08-21T00:00:00",
          "2019-08-22T00:00:00",
          "2019-08-23T00:00:00",
          "2019-08-26T00:00:00",
          "2019-08-27T00:00:00",
          "2019-08-28T00:00:00",
          "2019-08-29T00:00:00",
          "2019-08-30T00:00:00",
          "2019-09-03T00:00:00",
          "2019-09-04T00:00:00",
          "2019-09-05T00:00:00",
          "2019-09-06T00:00:00",
          "2019-09-09T00:00:00",
          "2019-09-10T00:00:00",
          "2019-09-11T00:00:00",
          "2019-09-12T00:00:00",
          "2019-09-13T00:00:00",
          "2019-09-16T00:00:00",
          "2019-09-17T00:00:00",
          "2019-09-18T00:00:00",
          "2019-09-19T00:00:00",
          "2019-09-20T00:00:00",
          "2019-09-23T00:00:00",
          "2019-09-24T00:00:00",
          "2019-09-25T00:00:00",
          "2019-09-26T00:00:00",
          "2019-09-27T00:00:00",
          "2019-09-30T00:00:00",
          "2019-10-01T00:00:00",
          "2019-10-02T00:00:00",
          "2019-10-03T00:00:00",
          "2019-10-04T00:00:00",
          "2019-10-07T00:00:00",
          "2019-10-08T00:00:00",
          "2019-10-09T00:00:00",
          "2019-10-10T00:00:00",
          "2019-10-11T00:00:00",
          "2019-10-14T00:00:00",
          "2019-10-15T00:00:00",
          "2019-10-16T00:00:00",
          "2019-10-17T00:00:00",
          "2019-10-18T00:00:00",
          "2019-10-21T00:00:00",
          "2019-10-22T00:00:00",
          "2019-10-23T00:00:00",
          "2019-10-24T00:00:00",
          "2019-10-25T00:00:00",
          "2019-10-28T00:00:00",
          "2019-10-29T00:00:00",
          "2019-10-30T00:00:00",
          "2019-10-31T00:00:00",
          "2019-11-01T00:00:00",
          "2019-11-04T00:00:00",
          "2019-11-05T00:00:00",
          "2019-11-06T00:00:00",
          "2019-11-07T00:00:00",
          "2019-11-08T00:00:00",
          "2019-11-11T00:00:00",
          "2019-11-12T00:00:00",
          "2019-11-13T00:00:00",
          "2019-11-14T00:00:00",
          "2019-11-15T00:00:00",
          "2019-11-18T00:00:00",
          "2019-11-19T00:00:00",
          "2019-11-20T00:00:00",
          "2019-11-21T00:00:00",
          "2019-11-22T00:00:00",
          "2019-11-25T00:00:00",
          "2019-11-26T00:00:00",
          "2019-11-27T00:00:00",
          "2019-11-29T00:00:00",
          "2019-12-02T00:00:00",
          "2019-12-03T00:00:00",
          "2019-12-04T00:00:00",
          "2019-12-05T00:00:00",
          "2019-12-06T00:00:00",
          "2019-12-09T00:00:00",
          "2019-12-10T00:00:00",
          "2019-12-11T00:00:00",
          "2019-12-12T00:00:00",
          "2019-12-13T00:00:00",
          "2019-12-16T00:00:00",
          "2019-12-17T00:00:00",
          "2019-12-18T00:00:00",
          "2019-12-19T00:00:00",
          "2019-12-20T00:00:00",
          "2019-12-23T00:00:00",
          "2019-12-24T00:00:00",
          "2019-12-26T00:00:00",
          "2019-12-27T00:00:00",
          "2019-12-30T00:00:00",
          "2019-12-31T00:00:00",
          "2020-01-02T00:00:00",
          "2020-01-03T00:00:00",
          "2020-01-06T00:00:00",
          "2020-01-07T00:00:00",
          "2020-01-08T00:00:00",
          "2020-01-09T00:00:00",
          "2020-01-10T00:00:00",
          "2020-01-13T00:00:00",
          "2020-01-14T00:00:00",
          "2020-01-15T00:00:00",
          "2020-01-16T00:00:00",
          "2020-01-17T00:00:00",
          "2020-01-21T00:00:00",
          "2020-01-22T00:00:00",
          "2020-01-23T00:00:00",
          "2020-01-24T00:00:00",
          "2020-01-27T00:00:00",
          "2020-01-28T00:00:00",
          "2020-01-29T00:00:00",
          "2020-01-30T00:00:00",
          "2020-01-31T00:00:00",
          "2020-02-03T00:00:00",
          "2020-02-04T00:00:00",
          "2020-02-05T00:00:00",
          "2020-02-06T00:00:00",
          "2020-02-07T00:00:00",
          "2020-02-10T00:00:00",
          "2020-02-11T00:00:00",
          "2020-02-12T00:00:00",
          "2020-02-13T00:00:00",
          "2020-02-14T00:00:00",
          "2020-02-18T00:00:00",
          "2020-02-19T00:00:00",
          "2020-02-20T00:00:00",
          "2020-02-21T00:00:00",
          "2020-02-24T00:00:00",
          "2020-02-25T00:00:00",
          "2020-02-26T00:00:00",
          "2020-02-27T00:00:00",
          "2020-02-28T00:00:00",
          "2020-03-02T00:00:00",
          "2020-03-03T00:00:00",
          "2020-03-04T00:00:00",
          "2020-03-05T00:00:00",
          "2020-03-06T00:00:00",
          "2020-03-09T00:00:00",
          "2020-03-10T00:00:00",
          "2020-03-11T00:00:00",
          "2020-03-12T00:00:00",
          "2020-03-13T00:00:00",
          "2020-03-16T00:00:00",
          "2020-03-17T00:00:00",
          "2020-03-18T00:00:00",
          "2020-03-19T00:00:00",
          "2020-03-20T00:00:00",
          "2020-03-23T00:00:00",
          "2020-03-24T00:00:00",
          "2020-03-25T00:00:00",
          "2020-03-26T00:00:00",
          "2020-03-27T00:00:00",
          "2020-03-30T00:00:00",
          "2020-03-31T00:00:00",
          "2020-04-01T00:00:00",
          "2020-04-02T00:00:00",
          "2020-04-03T00:00:00",
          "2020-04-06T00:00:00",
          "2020-04-07T00:00:00",
          "2020-04-08T00:00:00",
          "2020-04-09T00:00:00",
          "2020-04-13T00:00:00",
          "2020-04-14T00:00:00",
          "2020-04-15T00:00:00",
          "2020-04-16T00:00:00",
          "2020-04-17T00:00:00",
          "2020-04-20T00:00:00",
          "2020-04-21T00:00:00",
          "2020-04-22T00:00:00",
          "2020-04-23T00:00:00",
          "2020-04-24T00:00:00",
          "2020-04-27T00:00:00",
          "2020-04-28T00:00:00",
          "2020-04-29T00:00:00",
          "2020-04-30T00:00:00",
          "2020-05-01T00:00:00",
          "2020-05-04T00:00:00",
          "2020-05-05T00:00:00",
          "2020-05-06T00:00:00",
          "2020-05-07T00:00:00",
          "2020-05-08T00:00:00",
          "2020-05-11T00:00:00",
          "2020-05-12T00:00:00",
          "2020-05-13T00:00:00",
          "2020-05-14T00:00:00",
          "2020-05-15T00:00:00",
          "2020-05-18T00:00:00",
          "2020-05-19T00:00:00",
          "2020-05-20T00:00:00",
          "2020-05-21T00:00:00",
          "2020-05-22T00:00:00",
          "2020-05-26T00:00:00",
          "2020-05-27T00:00:00",
          "2020-05-28T00:00:00",
          "2020-05-29T00:00:00"
         ],
         "y": [
          202.36376953125,
          203.17877197265625,
          203.67381286621094,
          203.7934112548828,
          204.6268310546875,
          205.9988250732422,
          205.41567993164062,
          198.81744384765625,
          199.63275146484375,
          199.9028778076172,
          200.05482482910156,
          200.46807861328125,
          201.18862915039062,
          200.68711853027344,
          198.74595642089844,
          199.4390106201172,
          199.58348083496094,
          199.63429260253906,
          199.92677307128906,
          200.4935760498047,
          199.7816925048828,
          181.49270629882812,
          181.98838806152344,
          182.3202667236328,
          182.3381805419922,
          182.63832092285156,
          183.09780883789062,
          182.42686462402344,
          176.95936584472656,
          177.5023956298828,
          177.66859436035156,
          177.5913848876953,
          178.09266662597656,
          178.76844787597656,
          177.77786254882812,
          192.0225372314453,
          192.76318359375,
          193.3202667236328,
          193.23544311523438,
          194.21873474121094,
          195.80142211914062,
          194.8107147216797,
          197.15419006347656,
          197.9810333251953,
          198.50596618652344,
          198.59829711914062,
          199.4566192626953,
          200.7626953125,
          200.2107391357422,
          197.056884765625,
          197.88583374023438,
          198.30128479003906,
          198.4706573486328,
          199.1579132080078,
          200.1765594482422,
          199.71820068359375,
          202.46511840820312,
          203.25962829589844,
          203.50096130371094,
          203.53012084960938,
          204.13482666015625,
          205.17698669433594,
          204.36624145507812,
          201.47000122070312,
          202.3170623779297,
          202.59776306152344,
          202.70753479003906,
          203.23873901367188,
          204.0870361328125,
          203.51454162597656,
          207.6222686767578,
          208.47158813476562,
          208.59385681152344,
          208.53073120117188,
          209.0571746826172,
          209.85520935058594,
          208.99993896484375,
          201.97406005859375,
          202.39498901367188,
          202.60336303710938,
          202.33506774902344,
          202.86524963378906,
          203.87249755859375,
          202.6156005859375,
          210.02923583984375,
          210.7166748046875,
          210.7649383544922,
          210.3478240966797,
          210.91244506835938,
          211.8765106201172,
          210.36788940429688,
          205.3422393798828,
          205.99244689941406,
          206.13771057128906,
          206.0780792236328,
          206.47830200195312,
          207.2569580078125,
          206.3550262451172,
          213.78607177734375,
          214.5962677001953,
          214.5606689453125,
          214.18743896484375,
          214.67514038085938,
          215.38031005859375,
          214.03988647460938,
          222.85447692871094,
          223.72471618652344,
          223.70909118652344,
          223.6214141845703,
          224.10911560058594,
          225.01470947265625,
          224.09939575195312,
          218.1016845703125,
          218.76351928710938,
          218.62217712402344,
          218.2801971435547,
          218.52239990234375,
          218.92807006835938,
          217.71572875976562,
          223.42364501953125,
          224.122802734375,
          223.7984161376953,
          223.22933959960938,
          223.35162353515625,
          223.5130615234375,
          222.0116729736328,
          235.30592346191406,
          236.1664276123047,
          235.75718688964844,
          235.49002075195312,
          235.64260864257812,
          236.07228088378906,
          234.90377807617188,
          248.97451782226562,
          249.83518981933594,
          249.17955017089844,
          248.75953674316406,
          248.94583129882812,
          249.3836669921875,
          248.03240966796875,
          257.05462646484375,
          257.7078552246094,
          256.7644958496094,
          256.1406555175781,
          256.1105041503906,
          256.0242614746094,
          254.58448791503906,
          266.5621032714844,
          266.6948547363281,
          265.2452087402344,
          264.2646179199219,
          264.1827087402344,
          263.4378662109375,
          261.6752014160156,
          263.2265625,
          262.8114013671875,
          261.21417236328125,
          259.92620849609375,
          259.9753112792969,
          258.4566345214844,
          256.7519226074219,
          270.3422546386719,
          269.7587585449219,
          267.8912353515625,
          266.0979919433594,
          266.2384338378906,
          264.65985107421875,
          262.1314392089844,
          280.2086181640625,
          280.02447509765625,
          277.994873046875,
          276.583984375,
          276.61767578125,
          275.0650634765625,
          273.1645812988281,
          289.4341125488281,
          288.906982421875,
          286.5174560546875,
          285.09686279296875,
          285.1413269042969,
          283.0902404785156,
          281.5173645019531,
          304.74810791015625,
          303.7023620605469,
          300.7157897949219,
          299.1758728027344,
          299.1468505859375,
          296.5606994628906,
          294.9888000488281,
          319.3282470703125,
          317.58624267578125,
          313.7421875,
          311.88787841796875,
          311.98455810546875,
          308.1888732910156,
          306.9229431152344,
          323.1628112792969,
          320.1417541503906,
          315.6397399902344,
          312.4665832519531,
          313.0499572753906,
          307.6778869628906,
          305.4305419921875,
          317.1623229980469,
          313.7359924316406,
          308.93707275390625,
          305.09906005859375,
          305.7759094238281,
          298.9298095703125,
          296.5941467285156,
          324.0302734375,
          319.8226623535156,
          314.56903076171875,
          310.3328552246094,
          311.02606201171875,
          303.7618408203125,
          300.71307373046875,
          270.71136474609375,
          264.8052673339844,
          260.74981689453125,
          255.56309509277344,
          256.3695373535156,
          248.59689331054688,
          243.93772888183594,
          286.96099853515625,
          282.68084716796875,
          278.9095764160156,
          273.5921325683594,
          274.1995544433594,
          268.0003356933594,
          262.0711364746094,
          241.9752960205078,
          239.0080108642578,
          237.01478576660156,
          233.60418701171875,
          234.1367645263672,
          229.83724975585938,
          226.37855529785156,
          255.0196533203125,
          254.14466857910156,
          252.30677795410156,
          249.21754455566406,
          249.4969940185547,
          247.08990478515625,
          242.8407440185547,
          267.9552307128906,
          268.105224609375,
          267.13348388671875,
          265.7606201171875,
          265.94390869140625,
          265.8030090332031,
          263.4156799316406,
          278.3514099121094,
          278.45025634765625,
          276.4986572265625,
          276.00335693359375,
          275.5961608886719,
          274.06158447265625,
          273.3897705078125,
          290.2490539550781,
          289.5496520996094,
          287.3815612792969,
          285.8025817871094,
          285.94451904296875,
          284.3746032714844,
          282.27099609375,
          313.9020080566406,
          313.39862060546875,
          310.4043884277344,
          309.03326416015625,
          309.010498046875,
          307.06072998046875,
          305.4742126464844,
          313.2030334472656,
          311.2395324707031,
          307.41278076171875,
          305.456298828125,
          305.6583557128906,
          301.3743591308594,
          300.3605651855469
         ]
        },
        {
         "mode": "lines",
         "name": "MA_Prediction",
         "type": "scatter",
         "x": [
          "2019-04-22T00:00:00",
          "2019-04-23T00:00:00",
          "2019-04-24T00:00:00",
          "2019-04-25T00:00:00",
          "2019-04-26T00:00:00",
          "2019-04-29T00:00:00",
          "2019-04-30T00:00:00",
          "2019-05-01T00:00:00",
          "2019-05-02T00:00:00",
          "2019-05-03T00:00:00",
          "2019-05-06T00:00:00",
          "2019-05-07T00:00:00",
          "2019-05-08T00:00:00",
          "2019-05-09T00:00:00",
          "2019-05-10T00:00:00",
          "2019-05-13T00:00:00",
          "2019-05-14T00:00:00",
          "2019-05-15T00:00:00",
          "2019-05-16T00:00:00",
          "2019-05-17T00:00:00",
          "2019-05-20T00:00:00",
          "2019-05-21T00:00:00",
          "2019-05-22T00:00:00",
          "2019-05-23T00:00:00",
          "2019-05-24T00:00:00",
          "2019-05-28T00:00:00",
          "2019-05-29T00:00:00",
          "2019-05-30T00:00:00",
          "2019-05-31T00:00:00",
          "2019-06-03T00:00:00",
          "2019-06-04T00:00:00",
          "2019-06-05T00:00:00",
          "2019-06-06T00:00:00",
          "2019-06-07T00:00:00",
          "2019-06-10T00:00:00",
          "2019-06-11T00:00:00",
          "2019-06-12T00:00:00",
          "2019-06-13T00:00:00",
          "2019-06-14T00:00:00",
          "2019-06-17T00:00:00",
          "2019-06-18T00:00:00",
          "2019-06-19T00:00:00",
          "2019-06-20T00:00:00",
          "2019-06-21T00:00:00",
          "2019-06-24T00:00:00",
          "2019-06-25T00:00:00",
          "2019-06-26T00:00:00",
          "2019-06-27T00:00:00",
          "2019-06-28T00:00:00",
          "2019-07-01T00:00:00",
          "2019-07-02T00:00:00",
          "2019-07-03T00:00:00",
          "2019-07-05T00:00:00",
          "2019-07-08T00:00:00",
          "2019-07-09T00:00:00",
          "2019-07-10T00:00:00",
          "2019-07-11T00:00:00",
          "2019-07-12T00:00:00",
          "2019-07-15T00:00:00",
          "2019-07-16T00:00:00",
          "2019-07-17T00:00:00",
          "2019-07-18T00:00:00",
          "2019-07-19T00:00:00",
          "2019-07-22T00:00:00",
          "2019-07-23T00:00:00",
          "2019-07-24T00:00:00",
          "2019-07-25T00:00:00",
          "2019-07-26T00:00:00",
          "2019-07-29T00:00:00",
          "2019-07-30T00:00:00",
          "2019-07-31T00:00:00",
          "2019-08-01T00:00:00",
          "2019-08-02T00:00:00",
          "2019-08-05T00:00:00",
          "2019-08-06T00:00:00",
          "2019-08-07T00:00:00",
          "2019-08-08T00:00:00",
          "2019-08-09T00:00:00",
          "2019-08-12T00:00:00",
          "2019-08-13T00:00:00",
          "2019-08-14T00:00:00",
          "2019-08-15T00:00:00",
          "2019-08-16T00:00:00",
          "2019-08-19T00:00:00",
          "2019-08-20T00:00:00",
          "2019-08-21T00:00:00",
          "2019-08-22T00:00:00",
          "2019-08-23T00:00:00",
          "2019-08-26T00:00:00",
          "2019-08-27T00:00:00",
          "2019-08-28T00:00:00",
          "2019-08-29T00:00:00",
          "2019-08-30T00:00:00",
          "2019-09-03T00:00:00",
          "2019-09-04T00:00:00",
          "2019-09-05T00:00:00",
          "2019-09-06T00:00:00",
          "2019-09-09T00:00:00",
          "2019-09-10T00:00:00",
          "2019-09-11T00:00:00",
          "2019-09-12T00:00:00",
          "2019-09-13T00:00:00",
          "2019-09-16T00:00:00",
          "2019-09-17T00:00:00",
          "2019-09-18T00:00:00",
          "2019-09-19T00:00:00",
          "2019-09-20T00:00:00",
          "2019-09-23T00:00:00",
          "2019-09-24T00:00:00",
          "2019-09-25T00:00:00",
          "2019-09-26T00:00:00",
          "2019-09-27T00:00:00",
          "2019-09-30T00:00:00",
          "2019-10-01T00:00:00",
          "2019-10-02T00:00:00",
          "2019-10-03T00:00:00",
          "2019-10-04T00:00:00",
          "2019-10-07T00:00:00",
          "2019-10-08T00:00:00",
          "2019-10-09T00:00:00",
          "2019-10-10T00:00:00",
          "2019-10-11T00:00:00",
          "2019-10-14T00:00:00",
          "2019-10-15T00:00:00",
          "2019-10-16T00:00:00",
          "2019-10-17T00:00:00",
          "2019-10-18T00:00:00",
          "2019-10-21T00:00:00",
          "2019-10-22T00:00:00",
          "2019-10-23T00:00:00",
          "2019-10-24T00:00:00",
          "2019-10-25T00:00:00",
          "2019-10-28T00:00:00",
          "2019-10-29T00:00:00",
          "2019-10-30T00:00:00",
          "2019-10-31T00:00:00",
          "2019-11-01T00:00:00",
          "2019-11-04T00:00:00",
          "2019-11-05T00:00:00",
          "2019-11-06T00:00:00",
          "2019-11-07T00:00:00",
          "2019-11-08T00:00:00",
          "2019-11-11T00:00:00",
          "2019-11-12T00:00:00",
          "2019-11-13T00:00:00",
          "2019-11-14T00:00:00",
          "2019-11-15T00:00:00",
          "2019-11-18T00:00:00",
          "2019-11-19T00:00:00",
          "2019-11-20T00:00:00",
          "2019-11-21T00:00:00",
          "2019-11-22T00:00:00",
          "2019-11-25T00:00:00",
          "2019-11-26T00:00:00",
          "2019-11-27T00:00:00",
          "2019-11-29T00:00:00",
          "2019-12-02T00:00:00",
          "2019-12-03T00:00:00",
          "2019-12-04T00:00:00",
          "2019-12-05T00:00:00",
          "2019-12-06T00:00:00",
          "2019-12-09T00:00:00",
          "2019-12-10T00:00:00",
          "2019-12-11T00:00:00",
          "2019-12-12T00:00:00",
          "2019-12-13T00:00:00",
          "2019-12-16T00:00:00",
          "2019-12-17T00:00:00",
          "2019-12-18T00:00:00",
          "2019-12-19T00:00:00",
          "2019-12-20T00:00:00",
          "2019-12-23T00:00:00",
          "2019-12-24T00:00:00",
          "2019-12-26T00:00:00",
          "2019-12-27T00:00:00",
          "2019-12-30T00:00:00",
          "2019-12-31T00:00:00",
          "2020-01-02T00:00:00",
          "2020-01-03T00:00:00",
          "2020-01-06T00:00:00",
          "2020-01-07T00:00:00",
          "2020-01-08T00:00:00",
          "2020-01-09T00:00:00",
          "2020-01-10T00:00:00",
          "2020-01-13T00:00:00",
          "2020-01-14T00:00:00",
          "2020-01-15T00:00:00",
          "2020-01-16T00:00:00",
          "2020-01-17T00:00:00",
          "2020-01-21T00:00:00",
          "2020-01-22T00:00:00",
          "2020-01-23T00:00:00",
          "2020-01-24T00:00:00",
          "2020-01-27T00:00:00",
          "2020-01-28T00:00:00",
          "2020-01-29T00:00:00",
          "2020-01-30T00:00:00",
          "2020-01-31T00:00:00",
          "2020-02-03T00:00:00",
          "2020-02-04T00:00:00",
          "2020-02-05T00:00:00",
          "2020-02-06T00:00:00",
          "2020-02-07T00:00:00",
          "2020-02-10T00:00:00",
          "2020-02-11T00:00:00",
          "2020-02-12T00:00:00",
          "2020-02-13T00:00:00",
          "2020-02-14T00:00:00",
          "2020-02-18T00:00:00",
          "2020-02-19T00:00:00",
          "2020-02-20T00:00:00",
          "2020-02-21T00:00:00",
          "2020-02-24T00:00:00",
          "2020-02-25T00:00:00",
          "2020-02-26T00:00:00",
          "2020-02-27T00:00:00",
          "2020-02-28T00:00:00",
          "2020-03-02T00:00:00",
          "2020-03-03T00:00:00",
          "2020-03-04T00:00:00",
          "2020-03-05T00:00:00",
          "2020-03-06T00:00:00",
          "2020-03-09T00:00:00",
          "2020-03-10T00:00:00",
          "2020-03-11T00:00:00",
          "2020-03-12T00:00:00",
          "2020-03-13T00:00:00",
          "2020-03-16T00:00:00",
          "2020-03-17T00:00:00",
          "2020-03-18T00:00:00",
          "2020-03-19T00:00:00",
          "2020-03-20T00:00:00",
          "2020-03-23T00:00:00",
          "2020-03-24T00:00:00",
          "2020-03-25T00:00:00",
          "2020-03-26T00:00:00",
          "2020-03-27T00:00:00",
          "2020-03-30T00:00:00",
          "2020-03-31T00:00:00",
          "2020-04-01T00:00:00",
          "2020-04-02T00:00:00",
          "2020-04-03T00:00:00",
          "2020-04-06T00:00:00",
          "2020-04-07T00:00:00",
          "2020-04-08T00:00:00",
          "2020-04-09T00:00:00",
          "2020-04-13T00:00:00",
          "2020-04-14T00:00:00",
          "2020-04-15T00:00:00",
          "2020-04-16T00:00:00",
          "2020-04-17T00:00:00",
          "2020-04-20T00:00:00",
          "2020-04-21T00:00:00",
          "2020-04-22T00:00:00",
          "2020-04-23T00:00:00",
          "2020-04-24T00:00:00",
          "2020-04-27T00:00:00",
          "2020-04-28T00:00:00",
          "2020-04-29T00:00:00",
          "2020-04-30T00:00:00",
          "2020-05-01T00:00:00",
          "2020-05-04T00:00:00",
          "2020-05-05T00:00:00",
          "2020-05-06T00:00:00",
          "2020-05-07T00:00:00",
          "2020-05-08T00:00:00",
          "2020-05-11T00:00:00",
          "2020-05-12T00:00:00",
          "2020-05-13T00:00:00",
          "2020-05-14T00:00:00",
          "2020-05-15T00:00:00",
          "2020-05-18T00:00:00",
          "2020-05-19T00:00:00",
          "2020-05-20T00:00:00",
          "2020-05-21T00:00:00",
          "2020-05-22T00:00:00",
          "2020-05-26T00:00:00",
          "2020-05-27T00:00:00",
          "2020-05-28T00:00:00",
          "2020-05-29T00:00:00"
         ],
         "y": [
          194.70158996582032,
          195.21571695963542,
          195.67945823838974,
          195.99167134783707,
          196.23741330488036,
          196.4772266576927,
          196.64705548077066,
          199.34015604654948,
          199.53677720811632,
          199.67300384295427,
          199.92791003176842,
          200.2050600071936,
          200.47706095591536,
          200.7658820281066,
          202.41350708007812,
          202.52888041178386,
          202.60797455512153,
          202.4987411774812,
          202.40322573742526,
          202.42472211796715,
          202.51196738644362,
          195.36058044433594,
          195.2151112874349,
          194.41351067437066,
          193.64838090910735,
          192.66160955825617,
          191.8236561118144,
          191.29866641347442,
          183.577104695638,
          182.64278984917533,
          181.82867534270108,
          181.71527514256604,
          181.40062698149754,
          180.91611311620153,
          180.45463686821915,
          179.4259765625,
          179.3256620279948,
          178.98741901312937,
          178.8782917064526,
          178.96743530719525,
          179.10797876452386,
          179.3066436167291,
          185.973828125,
          186.62560404459637,
          187.53362567816842,
          188.61879178783278,
          189.35861940278986,
          189.95671762990293,
          190.41812758940944,
          194.25038452148436,
          194.513159383138,
          194.64653993055555,
          194.82965724103008,
          195.02761909095292,
          195.33166881908676,
          195.5802255896431,
          197.97921752929688,
          198.14207356770834,
          198.21103712293836,
          198.32939805320456,
          198.46882516788435,
          198.8158465771886,
          198.9073284307069,
          200.38780619303387,
          200.70794196234812,
          200.81027216706454,
          200.84168695867092,
          200.7645169518792,
          200.6940614088274,
          200.89626478660335,
          203.4084248860677,
          203.58010918511283,
          203.86074174895109,
          204.0579682822145,
          204.1425121556512,
          204.2794675965618,
          204.5013163396529,
          202.83526102701822,
          203.01089850531682,
          202.89321788646555,
          202.66096683605804,
          202.4244302989567,
          202.2808272554106,
          202.08021720394842,
          201.87735799153646,
          201.58133599175346,
          200.9849273365162,
          200.6524680245105,
          200.58837617113153,
          201.22361565350383,
          201.66008199817753,
          204.2593017578125,
          204.47453572591147,
          204.81455665418838,
          205.21097265444158,
          205.07236517547986,
          205.33585142643634,
          205.68369521619354,
          207.51690063476562,
          207.44076192220052,
          207.3588860812717,
          207.12077365270542,
          206.8786899349561,
          207.2698711926641,
          207.43252915010473,
          213.2305938720703,
          213.85411804199217,
          214.2890764160156,
          214.77088683268227,
          215.48585655870224,
          216.01769259327978,
          216.31451113758436,
          217.86768086751303,
          218.22897474500868,
          218.44704531069155,
          218.22401223114392,
          218.01917607552485,
          218.08769080868484,
          218.08472338603465,
          219.84564921061198,
          219.77008307562934,
          219.8091752432364,
          220.06447829167874,
          220.27133116574637,
          220.56075067998623,
          220.64792653912073,
          226.15386047363282,
          226.76005798339844,
          227.0660965576172,
          227.351536319987,
          228.0283208702257,
          228.6272222745949,
          228.8567008705705,
          235.2825459798177,
          236.12831414116755,
          236.85654208260996,
          237.43095954469283,
          237.63895145216455,
          237.88329382111093,
          238.18029653092978,
          244.52166849772135,
          245.26387539333766,
          245.98083435510705,
          246.47445614089023,
          247.037356895335,
          247.42484389636513,
          247.81171174466448,
          254.8786631266276,
          255.40071621365016,
          256.3384871464482,
          257.34075978401086,
          258.0461309115387,
          258.3316434394303,
          258.525090892684,
          261.60927225748696,
          262.03842291937934,
          262.2998508210359,
          262.5316104884018,
          262.6421834304671,
          262.7760479052587,
          262.7523490481613,
          263.56068115234376,
          263.50372599283855,
          263.3540923936632,
          263.2482104347512,
          263.34088898196376,
          263.5180155488603,
          263.7222073081072,
          267.57691446940106,
          267.88521389431423,
          267.9785970504196,
          268.11733945794754,
          268.4702894485034,
          269.1591778856953,
          269.7421001288563,
          276.6553975423177,
          277.1430950249566,
          277.9146932056568,
          278.63425633017454,
          279.2498962053112,
          279.8608125441288,
          280.2677015932947,
          288.65966796875,
          289.30425415039065,
          290.0362544759115,
          290.798483859592,
          291.6499989945023,
          292.25582005377123,
          292.8841214688143,
          303.0610778808594,
          304.0429288736979,
          304.97614968532986,
          305.83030510706016,
          306.296995043885,
          306.98848050449294,
          307.56886488187587,
          313.1331827799479,
          313.8983584255642,
          314.2873831018518,
          314.6559153477044,
          314.6092520056504,
          314.84336652738125,
          315.1819701129306,
          316.3813028971354,
          316.33226019965275,
          316.42321988028067,
          316.44529033323687,
          316.3673489954266,
          316.3452365521529,
          316.94249141734855,
          319.63047281901044,
          319.42593655056424,
          319.2389392541956,
          319.991961636767,
          320.8515657198431,
          321.0925835940045,
          321.17721042344857,
          308.49623413085936,
          307.7849153645833,
          306.92511537000865,
          306.1369809714988,
          304.7916676423852,
          303.5115821225807,
          302.1408373370028,
          293.0128173828125,
          291.03058268229165,
          289.13693671332464,
          287.5990748607494,
          286.9473465181327,
          286.92368451191965,
          286.5946018582872,
          271.6539733886719,
          271.5894376627604,
          269.82851378038197,
          268.5811520037616,
          266.358382205705,
          264.6403269243666,
          263.06636702987123,
          251.35226440429688,
          249.1377705891927,
          247.43452650282117,
          247.4261709210431,
          245.43994405080537,
          245.6988655324476,
          245.2669653570066,
          247.41625162760417,
          247.63605699327258,
          248.90371815773292,
          250.5796815703969,
          250.87075925939993,
          251.2716646944016,
          250.84028836934087,
          264.84706624348956,
          265.562063937717,
          266.3593015091508,
          268.0992797233676,
          269.6879804842223,
          271.61662783225904,
          272.27364211612837,
          277.7255391438802,
          278.5504607476129,
          279.302724130136,
          279.75541713204086,
          279.3207746120676,
          279.03135026003355,
          278.5723705345306,
          287.07685546875,
          287.803154296875,
          289.14699943033855,
          290.06649177517363,
          291.11842415328414,
          291.71258008316454,
          292.3330488823286,
          303.310888671875,
          304.4013981119791,
          305.1610355902777,
          306.28579717520256,
          307.21361293414833,
          307.9107415731176,
          308.4502316851536
         ]
        }
       ],
       "layout": {
        "template": {
         "data": {
          "bar": [
           {
            "error_x": {
             "color": "#2a3f5f"
            },
            "error_y": {
             "color": "#2a3f5f"
            },
            "marker": {
             "line": {
              "color": "#E5ECF6",
              "width": 0.5
             }
            },
            "type": "bar"
           }
          ],
          "barpolar": [
           {
            "marker": {
             "line": {
              "color": "#E5ECF6",
              "width": 0.5
             }
            },
            "type": "barpolar"
           }
          ],
          "carpet": [
           {
            "aaxis": {
             "endlinecolor": "#2a3f5f",
             "gridcolor": "white",
             "linecolor": "white",
             "minorgridcolor": "white",
             "startlinecolor": "#2a3f5f"
            },
            "baxis": {
             "endlinecolor": "#2a3f5f",
             "gridcolor": "white",
             "linecolor": "white",
             "minorgridcolor": "white",
             "startlinecolor": "#2a3f5f"
            },
            "type": "carpet"
           }
          ],
          "choropleth": [
           {
            "colorbar": {
             "outlinewidth": 0,
             "ticks": ""
            },
            "type": "choropleth"
           }
          ],
          "contour": [
           {
            "colorbar": {
             "outlinewidth": 0,
             "ticks": ""
            },
            "colorscale": [
             [
              0,
              "#0d0887"
             ],
             [
              0.1111111111111111,
              "#46039f"
             ],
             [
              0.2222222222222222,
              "#7201a8"
             ],
             [
              0.3333333333333333,
              "#9c179e"
             ],
             [
              0.4444444444444444,
              "#bd3786"
             ],
             [
              0.5555555555555556,
              "#d8576b"
             ],
             [
              0.6666666666666666,
              "#ed7953"
             ],
             [
              0.7777777777777778,
              "#fb9f3a"
             ],
             [
              0.8888888888888888,
              "#fdca26"
             ],
             [
              1,
              "#f0f921"
             ]
            ],
            "type": "contour"
           }
          ],
          "contourcarpet": [
           {
            "colorbar": {
             "outlinewidth": 0,
             "ticks": ""
            },
            "type": "contourcarpet"
           }
          ],
          "heatmap": [
           {
            "colorbar": {
             "outlinewidth": 0,
             "ticks": ""
            },
            "colorscale": [
             [
              0,
              "#0d0887"
             ],
             [
              0.1111111111111111,
              "#46039f"
             ],
             [
              0.2222222222222222,
              "#7201a8"
             ],
             [
              0.3333333333333333,
              "#9c179e"
             ],
             [
              0.4444444444444444,
              "#bd3786"
             ],
             [
              0.5555555555555556,
              "#d8576b"
             ],
             [
              0.6666666666666666,
              "#ed7953"
             ],
             [
              0.7777777777777778,
              "#fb9f3a"
             ],
             [
              0.8888888888888888,
              "#fdca26"
             ],
             [
              1,
              "#f0f921"
             ]
            ],
            "type": "heatmap"
           }
          ],
          "heatmapgl": [
           {
            "colorbar": {
             "outlinewidth": 0,
             "ticks": ""
            },
            "colorscale": [
             [
              0,
              "#0d0887"
             ],
             [
              0.1111111111111111,
              "#46039f"
             ],
             [
              0.2222222222222222,
              "#7201a8"
             ],
             [
              0.3333333333333333,
              "#9c179e"
             ],
             [
              0.4444444444444444,
              "#bd3786"
             ],
             [
              0.5555555555555556,
              "#d8576b"
             ],
             [
              0.6666666666666666,
              "#ed7953"
             ],
             [
              0.7777777777777778,
              "#fb9f3a"
             ],
             [
              0.8888888888888888,
              "#fdca26"
             ],
             [
              1,
              "#f0f921"
             ]
            ],
            "type": "heatmapgl"
           }
          ],
          "histogram": [
           {
            "marker": {
             "colorbar": {
              "outlinewidth": 0,
              "ticks": ""
             }
            },
            "type": "histogram"
           }
          ],
          "histogram2d": [
           {
            "colorbar": {
             "outlinewidth": 0,
             "ticks": ""
            },
            "colorscale": [
             [
              0,
              "#0d0887"
             ],
             [
              0.1111111111111111,
              "#46039f"
             ],
             [
              0.2222222222222222,
              "#7201a8"
             ],
             [
              0.3333333333333333,
              "#9c179e"
             ],
             [
              0.4444444444444444,
              "#bd3786"
             ],
             [
              0.5555555555555556,
              "#d8576b"
             ],
             [
              0.6666666666666666,
              "#ed7953"
             ],
             [
              0.7777777777777778,
              "#fb9f3a"
             ],
             [
              0.8888888888888888,
              "#fdca26"
             ],
             [
              1,
              "#f0f921"
             ]
            ],
            "type": "histogram2d"
           }
          ],
          "histogram2dcontour": [
           {
            "colorbar": {
             "outlinewidth": 0,
             "ticks": ""
            },
            "colorscale": [
             [
              0,
              "#0d0887"
             ],
             [
              0.1111111111111111,
              "#46039f"
             ],
             [
              0.2222222222222222,
              "#7201a8"
             ],
             [
              0.3333333333333333,
              "#9c179e"
             ],
             [
              0.4444444444444444,
              "#bd3786"
             ],
             [
              0.5555555555555556,
              "#d8576b"
             ],
             [
              0.6666666666666666,
              "#ed7953"
             ],
             [
              0.7777777777777778,
              "#fb9f3a"
             ],
             [
              0.8888888888888888,
              "#fdca26"
             ],
             [
              1,
              "#f0f921"
             ]
            ],
            "type": "histogram2dcontour"
           }
          ],
          "mesh3d": [
           {
            "colorbar": {
             "outlinewidth": 0,
             "ticks": ""
            },
            "type": "mesh3d"
           }
          ],
          "parcoords": [
           {
            "line": {
             "colorbar": {
              "outlinewidth": 0,
              "ticks": ""
             }
            },
            "type": "parcoords"
           }
          ],
          "pie": [
           {
            "automargin": true,
            "type": "pie"
           }
          ],
          "scatter": [
           {
            "marker": {
             "colorbar": {
              "outlinewidth": 0,
              "ticks": ""
             }
            },
            "type": "scatter"
           }
          ],
          "scatter3d": [
           {
            "line": {
             "colorbar": {
              "outlinewidth": 0,
              "ticks": ""
             }
            },
            "marker": {
             "colorbar": {
              "outlinewidth": 0,
              "ticks": ""
             }
            },
            "type": "scatter3d"
           }
          ],
          "scattercarpet": [
           {
            "marker": {
             "colorbar": {
              "outlinewidth": 0,
              "ticks": ""
             }
            },
            "type": "scattercarpet"
           }
          ],
          "scattergeo": [
           {
            "marker": {
             "colorbar": {
              "outlinewidth": 0,
              "ticks": ""
             }
            },
            "type": "scattergeo"
           }
          ],
          "scattergl": [
           {
            "marker": {
             "colorbar": {
              "outlinewidth": 0,
              "ticks": ""
             }
            },
            "type": "scattergl"
           }
          ],
          "scattermapbox": [
           {
            "marker": {
             "colorbar": {
              "outlinewidth": 0,
              "ticks": ""
             }
            },
            "type": "scattermapbox"
           }
          ],
          "scatterpolar": [
           {
            "marker": {
             "colorbar": {
              "outlinewidth": 0,
              "ticks": ""
             }
            },
            "type": "scatterpolar"
           }
          ],
          "scatterpolargl": [
           {
            "marker": {
             "colorbar": {
              "outlinewidth": 0,
              "ticks": ""
             }
            },
            "type": "scatterpolargl"
           }
          ],
          "scatterternary": [
           {
            "marker": {
             "colorbar": {
              "outlinewidth": 0,
              "ticks": ""
             }
            },
            "type": "scatterternary"
           }
          ],
          "surface": [
           {
            "colorbar": {
             "outlinewidth": 0,
             "ticks": ""
            },
            "colorscale": [
             [
              0,
              "#0d0887"
             ],
             [
              0.1111111111111111,
              "#46039f"
             ],
             [
              0.2222222222222222,
              "#7201a8"
             ],
             [
              0.3333333333333333,
              "#9c179e"
             ],
             [
              0.4444444444444444,
              "#bd3786"
             ],
             [
              0.5555555555555556,
              "#d8576b"
             ],
             [
              0.6666666666666666,
              "#ed7953"
             ],
             [
              0.7777777777777778,
              "#fb9f3a"
             ],
             [
              0.8888888888888888,
              "#fdca26"
             ],
             [
              1,
              "#f0f921"
             ]
            ],
            "type": "surface"
           }
          ],
          "table": [
           {
            "cells": {
             "fill": {
              "color": "#EBF0F8"
             },
             "line": {
              "color": "white"
             }
            },
            "header": {
             "fill": {
              "color": "#C8D4E3"
             },
             "line": {
              "color": "white"
             }
            },
            "type": "table"
           }
          ]
         },
         "layout": {
          "annotationdefaults": {
           "arrowcolor": "#2a3f5f",
           "arrowhead": 0,
           "arrowwidth": 1
          },
          "coloraxis": {
           "colorbar": {
            "outlinewidth": 0,
            "ticks": ""
           }
          },
          "colorscale": {
           "diverging": [
            [
             0,
             "#8e0152"
            ],
            [
             0.1,
             "#c51b7d"
            ],
            [
             0.2,
             "#de77ae"
            ],
            [
             0.3,
             "#f1b6da"
            ],
            [
             0.4,
             "#fde0ef"
            ],
            [
             0.5,
             "#f7f7f7"
            ],
            [
             0.6,
             "#e6f5d0"
            ],
            [
             0.7,
             "#b8e186"
            ],
            [
             0.8,
             "#7fbc41"
            ],
            [
             0.9,
             "#4d9221"
            ],
            [
             1,
             "#276419"
            ]
           ],
           "sequential": [
            [
             0,
             "#0d0887"
            ],
            [
             0.1111111111111111,
             "#46039f"
            ],
            [
             0.2222222222222222,
             "#7201a8"
            ],
            [
             0.3333333333333333,
             "#9c179e"
            ],
            [
             0.4444444444444444,
             "#bd3786"
            ],
            [
             0.5555555555555556,
             "#d8576b"
            ],
            [
             0.6666666666666666,
             "#ed7953"
            ],
            [
             0.7777777777777778,
             "#fb9f3a"
            ],
            [
             0.8888888888888888,
             "#fdca26"
            ],
            [
             1,
             "#f0f921"
            ]
           ],
           "sequentialminus": [
            [
             0,
             "#0d0887"
            ],
            [
             0.1111111111111111,
             "#46039f"
            ],
            [
             0.2222222222222222,
             "#7201a8"
            ],
            [
             0.3333333333333333,
             "#9c179e"
            ],
            [
             0.4444444444444444,
             "#bd3786"
            ],
            [
             0.5555555555555556,
             "#d8576b"
            ],
            [
             0.6666666666666666,
             "#ed7953"
            ],
            [
             0.7777777777777778,
             "#fb9f3a"
            ],
            [
             0.8888888888888888,
             "#fdca26"
            ],
            [
             1,
             "#f0f921"
            ]
           ]
          },
          "colorway": [
           "#636efa",
           "#EF553B",
           "#00cc96",
           "#ab63fa",
           "#FFA15A",
           "#19d3f3",
           "#FF6692",
           "#B6E880",
           "#FF97FF",
           "#FECB52"
          ],
          "font": {
           "color": "#2a3f5f"
          },
          "geo": {
           "bgcolor": "white",
           "lakecolor": "white",
           "landcolor": "#E5ECF6",
           "showlakes": true,
           "showland": true,
           "subunitcolor": "white"
          },
          "hoverlabel": {
           "align": "left"
          },
          "hovermode": "closest",
          "mapbox": {
           "style": "light"
          },
          "paper_bgcolor": "white",
          "plot_bgcolor": "#E5ECF6",
          "polar": {
           "angularaxis": {
            "gridcolor": "white",
            "linecolor": "white",
            "ticks": ""
           },
           "bgcolor": "#E5ECF6",
           "radialaxis": {
            "gridcolor": "white",
            "linecolor": "white",
            "ticks": ""
           }
          },
          "scene": {
           "xaxis": {
            "backgroundcolor": "#E5ECF6",
            "gridcolor": "white",
            "gridwidth": 2,
            "linecolor": "white",
            "showbackground": true,
            "ticks": "",
            "zerolinecolor": "white"
           },
           "yaxis": {
            "backgroundcolor": "#E5ECF6",
            "gridcolor": "white",
            "gridwidth": 2,
            "linecolor": "white",
            "showbackground": true,
            "ticks": "",
            "zerolinecolor": "white"
           },
           "zaxis": {
            "backgroundcolor": "#E5ECF6",
            "gridcolor": "white",
            "gridwidth": 2,
            "linecolor": "white",
            "showbackground": true,
            "ticks": "",
            "zerolinecolor": "white"
           }
          },
          "shapedefaults": {
           "line": {
            "color": "#2a3f5f"
           }
          },
          "ternary": {
           "aaxis": {
            "gridcolor": "white",
            "linecolor": "white",
            "ticks": ""
           },
           "baxis": {
            "gridcolor": "white",
            "linecolor": "white",
            "ticks": ""
           },
           "bgcolor": "#E5ECF6",
           "caxis": {
            "gridcolor": "white",
            "linecolor": "white",
            "ticks": ""
           }
          },
          "title": {
           "x": 0.05
          },
          "xaxis": {
           "automargin": true,
           "gridcolor": "white",
           "linecolor": "white",
           "ticks": "",
           "title": {
            "standoff": 15
           },
           "zerolinecolor": "white",
           "zerolinewidth": 2
          },
          "yaxis": {
           "automargin": true,
           "gridcolor": "white",
           "linecolor": "white",
           "ticks": "",
           "title": {
            "standoff": 15
           },
           "zerolinecolor": "white",
           "zerolinewidth": 2
          }
         }
        },
        "title": {
         "text": "AAPL Stock"
        },
        "xaxis": {
         "range": [
          "2019-04-22T00:00:00",
          "2020-07-13T00:00:00"
         ],
         "title": {
          "text": "Date"
         }
        },
        "yaxis": {
         "title": {
          "text": "Adj Close ($)"
         }
        }
       }
      },
      "text/html": [
       "<div>\n",
       "        \n",
       "        \n",
       "            <div id=\"fb619870-4f45-46ac-92bd-2953a700c81b\" class=\"plotly-graph-div\" style=\"height:525px; width:100%;\"></div>\n",
       "            <script type=\"text/javascript\">\n",
       "                require([\"plotly\"], function(Plotly) {\n",
       "                    window.PLOTLYENV=window.PLOTLYENV || {};\n",
       "                    \n",
       "                if (document.getElementById(\"fb619870-4f45-46ac-92bd-2953a700c81b\")) {\n",
       "                    Plotly.newPlot(\n",
       "                        'fb619870-4f45-46ac-92bd-2953a700c81b',\n",
       "                        [{\"mode\": \"lines\", \"name\": \"True Price\", \"type\": \"scatter\", \"x\": [\"2019-04-22T00:00:00\", \"2019-04-23T00:00:00\", \"2019-04-24T00:00:00\", \"2019-04-25T00:00:00\", \"2019-04-26T00:00:00\", \"2019-04-29T00:00:00\", \"2019-04-30T00:00:00\", \"2019-05-01T00:00:00\", \"2019-05-02T00:00:00\", \"2019-05-03T00:00:00\", \"2019-05-06T00:00:00\", \"2019-05-07T00:00:00\", \"2019-05-08T00:00:00\", \"2019-05-09T00:00:00\", \"2019-05-10T00:00:00\", \"2019-05-13T00:00:00\", \"2019-05-14T00:00:00\", \"2019-05-15T00:00:00\", \"2019-05-16T00:00:00\", \"2019-05-17T00:00:00\", \"2019-05-20T00:00:00\", \"2019-05-21T00:00:00\", \"2019-05-22T00:00:00\", \"2019-05-23T00:00:00\", \"2019-05-24T00:00:00\", \"2019-05-28T00:00:00\", \"2019-05-29T00:00:00\", \"2019-05-30T00:00:00\", \"2019-05-31T00:00:00\", \"2019-06-03T00:00:00\", \"2019-06-04T00:00:00\", \"2019-06-05T00:00:00\", \"2019-06-06T00:00:00\", \"2019-06-07T00:00:00\", \"2019-06-10T00:00:00\", \"2019-06-11T00:00:00\", \"2019-06-12T00:00:00\", \"2019-06-13T00:00:00\", \"2019-06-14T00:00:00\", \"2019-06-17T00:00:00\", \"2019-06-18T00:00:00\", \"2019-06-19T00:00:00\", \"2019-06-20T00:00:00\", \"2019-06-21T00:00:00\", \"2019-06-24T00:00:00\", \"2019-06-25T00:00:00\", \"2019-06-26T00:00:00\", \"2019-06-27T00:00:00\", \"2019-06-28T00:00:00\", \"2019-07-01T00:00:00\", \"2019-07-02T00:00:00\", \"2019-07-03T00:00:00\", \"2019-07-05T00:00:00\", \"2019-07-08T00:00:00\", \"2019-07-09T00:00:00\", \"2019-07-10T00:00:00\", \"2019-07-11T00:00:00\", \"2019-07-12T00:00:00\", \"2019-07-15T00:00:00\", \"2019-07-16T00:00:00\", \"2019-07-17T00:00:00\", \"2019-07-18T00:00:00\", \"2019-07-19T00:00:00\", \"2019-07-22T00:00:00\", \"2019-07-23T00:00:00\", \"2019-07-24T00:00:00\", \"2019-07-25T00:00:00\", \"2019-07-26T00:00:00\", \"2019-07-29T00:00:00\", \"2019-07-30T00:00:00\", \"2019-07-31T00:00:00\", \"2019-08-01T00:00:00\", \"2019-08-02T00:00:00\", \"2019-08-05T00:00:00\", \"2019-08-06T00:00:00\", \"2019-08-07T00:00:00\", \"2019-08-08T00:00:00\", \"2019-08-09T00:00:00\", \"2019-08-12T00:00:00\", \"2019-08-13T00:00:00\", \"2019-08-14T00:00:00\", \"2019-08-15T00:00:00\", \"2019-08-16T00:00:00\", \"2019-08-19T00:00:00\", \"2019-08-20T00:00:00\", \"2019-08-21T00:00:00\", \"2019-08-22T00:00:00\", \"2019-08-23T00:00:00\", \"2019-08-26T00:00:00\", \"2019-08-27T00:00:00\", \"2019-08-28T00:00:00\", \"2019-08-29T00:00:00\", \"2019-08-30T00:00:00\", \"2019-09-03T00:00:00\", \"2019-09-04T00:00:00\", \"2019-09-05T00:00:00\", \"2019-09-06T00:00:00\", \"2019-09-09T00:00:00\", \"2019-09-10T00:00:00\", \"2019-09-11T00:00:00\", \"2019-09-12T00:00:00\", \"2019-09-13T00:00:00\", \"2019-09-16T00:00:00\", \"2019-09-17T00:00:00\", \"2019-09-18T00:00:00\", \"2019-09-19T00:00:00\", \"2019-09-20T00:00:00\", \"2019-09-23T00:00:00\", \"2019-09-24T00:00:00\", \"2019-09-25T00:00:00\", \"2019-09-26T00:00:00\", \"2019-09-27T00:00:00\", \"2019-09-30T00:00:00\", \"2019-10-01T00:00:00\", \"2019-10-02T00:00:00\", \"2019-10-03T00:00:00\", \"2019-10-04T00:00:00\", \"2019-10-07T00:00:00\", \"2019-10-08T00:00:00\", \"2019-10-09T00:00:00\", \"2019-10-10T00:00:00\", \"2019-10-11T00:00:00\", \"2019-10-14T00:00:00\", \"2019-10-15T00:00:00\", \"2019-10-16T00:00:00\", \"2019-10-17T00:00:00\", \"2019-10-18T00:00:00\", \"2019-10-21T00:00:00\", \"2019-10-22T00:00:00\", \"2019-10-23T00:00:00\", \"2019-10-24T00:00:00\", \"2019-10-25T00:00:00\", \"2019-10-28T00:00:00\", \"2019-10-29T00:00:00\", \"2019-10-30T00:00:00\", \"2019-10-31T00:00:00\", \"2019-11-01T00:00:00\", \"2019-11-04T00:00:00\", \"2019-11-05T00:00:00\", \"2019-11-06T00:00:00\", \"2019-11-07T00:00:00\", \"2019-11-08T00:00:00\", \"2019-11-11T00:00:00\", \"2019-11-12T00:00:00\", \"2019-11-13T00:00:00\", \"2019-11-14T00:00:00\", \"2019-11-15T00:00:00\", \"2019-11-18T00:00:00\", \"2019-11-19T00:00:00\", \"2019-11-20T00:00:00\", \"2019-11-21T00:00:00\", \"2019-11-22T00:00:00\", \"2019-11-25T00:00:00\", \"2019-11-26T00:00:00\", \"2019-11-27T00:00:00\", \"2019-11-29T00:00:00\", \"2019-12-02T00:00:00\", \"2019-12-03T00:00:00\", \"2019-12-04T00:00:00\", \"2019-12-05T00:00:00\", \"2019-12-06T00:00:00\", \"2019-12-09T00:00:00\", \"2019-12-10T00:00:00\", \"2019-12-11T00:00:00\", \"2019-12-12T00:00:00\", \"2019-12-13T00:00:00\", \"2019-12-16T00:00:00\", \"2019-12-17T00:00:00\", \"2019-12-18T00:00:00\", \"2019-12-19T00:00:00\", \"2019-12-20T00:00:00\", \"2019-12-23T00:00:00\", \"2019-12-24T00:00:00\", \"2019-12-26T00:00:00\", \"2019-12-27T00:00:00\", \"2019-12-30T00:00:00\", \"2019-12-31T00:00:00\", \"2020-01-02T00:00:00\", \"2020-01-03T00:00:00\", \"2020-01-06T00:00:00\", \"2020-01-07T00:00:00\", \"2020-01-08T00:00:00\", \"2020-01-09T00:00:00\", \"2020-01-10T00:00:00\", \"2020-01-13T00:00:00\", \"2020-01-14T00:00:00\", \"2020-01-15T00:00:00\", \"2020-01-16T00:00:00\", \"2020-01-17T00:00:00\", \"2020-01-21T00:00:00\", \"2020-01-22T00:00:00\", \"2020-01-23T00:00:00\", \"2020-01-24T00:00:00\", \"2020-01-27T00:00:00\", \"2020-01-28T00:00:00\", \"2020-01-29T00:00:00\", \"2020-01-30T00:00:00\", \"2020-01-31T00:00:00\", \"2020-02-03T00:00:00\", \"2020-02-04T00:00:00\", \"2020-02-05T00:00:00\", \"2020-02-06T00:00:00\", \"2020-02-07T00:00:00\", \"2020-02-10T00:00:00\", \"2020-02-11T00:00:00\", \"2020-02-12T00:00:00\", \"2020-02-13T00:00:00\", \"2020-02-14T00:00:00\", \"2020-02-18T00:00:00\", \"2020-02-19T00:00:00\", \"2020-02-20T00:00:00\", \"2020-02-21T00:00:00\", \"2020-02-24T00:00:00\", \"2020-02-25T00:00:00\", \"2020-02-26T00:00:00\", \"2020-02-27T00:00:00\", \"2020-02-28T00:00:00\", \"2020-03-02T00:00:00\", \"2020-03-03T00:00:00\", \"2020-03-04T00:00:00\", \"2020-03-05T00:00:00\", \"2020-03-06T00:00:00\", \"2020-03-09T00:00:00\", \"2020-03-10T00:00:00\", \"2020-03-11T00:00:00\", \"2020-03-12T00:00:00\", \"2020-03-13T00:00:00\", \"2020-03-16T00:00:00\", \"2020-03-17T00:00:00\", \"2020-03-18T00:00:00\", \"2020-03-19T00:00:00\", \"2020-03-20T00:00:00\", \"2020-03-23T00:00:00\", \"2020-03-24T00:00:00\", \"2020-03-25T00:00:00\", \"2020-03-26T00:00:00\", \"2020-03-27T00:00:00\", \"2020-03-30T00:00:00\", \"2020-03-31T00:00:00\", \"2020-04-01T00:00:00\", \"2020-04-02T00:00:00\", \"2020-04-03T00:00:00\", \"2020-04-06T00:00:00\", \"2020-04-07T00:00:00\", \"2020-04-08T00:00:00\", \"2020-04-09T00:00:00\", \"2020-04-13T00:00:00\", \"2020-04-14T00:00:00\", \"2020-04-15T00:00:00\", \"2020-04-16T00:00:00\", \"2020-04-17T00:00:00\", \"2020-04-20T00:00:00\", \"2020-04-21T00:00:00\", \"2020-04-22T00:00:00\", \"2020-04-23T00:00:00\", \"2020-04-24T00:00:00\", \"2020-04-27T00:00:00\", \"2020-04-28T00:00:00\", \"2020-04-29T00:00:00\", \"2020-04-30T00:00:00\", \"2020-05-01T00:00:00\", \"2020-05-04T00:00:00\", \"2020-05-05T00:00:00\", \"2020-05-06T00:00:00\", \"2020-05-07T00:00:00\", \"2020-05-08T00:00:00\", \"2020-05-11T00:00:00\", \"2020-05-12T00:00:00\", \"2020-05-13T00:00:00\", \"2020-05-14T00:00:00\", \"2020-05-15T00:00:00\", \"2020-05-18T00:00:00\", \"2020-05-19T00:00:00\", \"2020-05-20T00:00:00\", \"2020-05-21T00:00:00\", \"2020-05-22T00:00:00\", \"2020-05-26T00:00:00\", \"2020-05-27T00:00:00\", \"2020-05-28T00:00:00\", \"2020-05-29T00:00:00\"], \"y\": [201.34246826171875, 204.24647521972656, 203.9314727783203, 202.08078002929688, 201.1160430908203, 201.4212188720703, 197.54261779785156, 207.23912048339844, 205.8904571533203, 208.449951171875, 205.2309112548828, 199.69850158691406, 199.73785400390625, 197.59182739257812, 194.85450744628906, 183.52967834472656, 186.43499755859375, 188.6683349609375, 187.8382568359375, 186.77099609375, 180.93069458007812, 184.39930725097656, 180.62432861328125, 177.5411376953125, 176.85928344726562, 176.1280059814453, 175.28802490234375, 176.1971893310547, 173.00527954101562, 171.25613403320312, 177.52137756347656, 180.38714599609375, 183.0355682373047, 187.90740966796875, 190.3087615966797, 192.512451171875, 191.8997802734375, 191.8602294921875, 190.4668731689453, 191.6033172607422, 196.10952758789062, 195.536376953125, 197.1076202392578, 196.4356231689453, 196.2379913330078, 193.2635040283203, 197.44361877441406, 197.3843231201172, 195.5857696533203, 199.17298889160156, 200.33905029296875, 201.99923706054688, 201.82135009765625, 197.6610107421875, 198.86663818359375, 200.83316040039062, 199.37062072753906, 200.90234375, 202.78981018066406, 202.0881805419922, 200.9517364501953, 203.2344970703125, 200.20069885253906, 204.77610778808594, 206.37698364257812, 206.20901489257812, 204.57847595214844, 205.28997802734375, 207.2070770263672, 206.31768798828125, 210.5274658203125, 205.97181701660156, 201.6138458251953, 191.05978393554688, 194.67662048339844, 196.69256591796875, 201.03079223632812, 199.3742218017578, 198.86831665039062, 207.2900848388672, 201.1200714111328, 200.11819458007812, 204.8399200439453, 208.6589813232422, 208.6688995361328, 210.93057250976562, 210.7520294189453, 201.01097106933594, 204.8300018310547, 202.51873779296875, 203.8777313232422, 207.32974243164062, 207.06192016601562, 204.0463409423828, 207.50831604003906, 211.56541442871094, 211.5455780029297, 212.44827270507812, 214.95791625976562, 221.79254150390625, 221.2965545654297, 216.991455078125, 218.1322021484375, 218.92578125, 220.97914123535156, 219.18370056152344, 215.97962951660156, 216.96168518066406, 215.93003845214844, 219.25311279296875, 218.12228393554688, 217.06089782714844, 222.1694793701172, 222.7845001220703, 217.19976806640625, 219.0447998046875, 225.18504333496094, 225.23463439941406, 222.5960235595703, 225.20489501953125, 228.2402801513672, 234.3110809326172, 233.97381591796875, 233.42825317382812, 232.48587036132812, 233.38856506347656, 234.50949096679688, 238.57650756835938, 238.03094482421875, 241.2250518798828, 241.621826171875, 244.59771728515625, 247.04786682128906, 241.3341522216797, 241.3043975830078, 246.76019287109375, 253.76344299316406, 255.429931640625, 255.06292724609375, 255.17201232910156, 258.11700439453125, 258.8234558105469, 260.8730163574219, 260.63421630859375, 263.13153076171875, 261.310791015625, 264.4150085449219, 265.74822998046875, 264.94232177734375, 261.8580322265625, 260.6839904785156, 260.45513916015625, 265.02191162109375, 262.9524230957031, 266.4844665527344, 265.8974609375, 262.8230895996094, 258.136962890625, 260.41534423828125, 264.23590087890625, 269.3399353027344, 265.5691223144531, 267.1212463378906, 269.399658203125, 270.0861511230469, 273.7574768066406, 278.443603515625, 278.9908752441406, 278.3242492675781, 278.6028137207031, 278.0257568359375, 282.56268310546875, 282.831298828125, 288.4427795410156, 288.33331298828125, 290.04461669921875, 292.163818359375, 298.8299560546875, 295.9247131347656, 298.28271484375, 296.8798828125, 301.6555480957031, 308.06298828125, 308.7593994140625, 315.3558654785156, 311.0975341796875, 309.7643127441406, 313.6445617675781, 317.116943359375, 314.9678649902344, 316.0921630859375, 317.6144104003906, 316.69903564453125, 307.38641357421875, 316.0821838378906, 322.6985168457031, 322.23089599609375, 307.943603515625, 307.097900390625, 317.2362976074219, 319.82318115234375, 323.5641174316406, 319.166015625, 320.6819152832031, 318.74713134765625, 326.3166809082031, 323.9929504394531, 324.07275390625, 318.1387939453125, 322.746337890625, 319.4352722167969, 312.2048645019531, 297.375, 287.3022766113281, 291.85992431640625, 272.7815856933594, 272.62200927734375, 298.0032958984375, 288.5389404296875, 301.9226989746094, 292.12921142578125, 288.2497253417969, 265.4514465332031, 284.5696716308594, 274.6864318847656, 247.5598602294922, 277.2195739746094, 241.55612182617188, 252.1773681640625, 246.0040740966797, 244.11917114257812, 228.6211395263672, 223.76426696777344, 246.21351623535156, 244.857177734375, 257.7423095703125, 247.07118225097656, 254.12210083007812, 253.60350036621094, 240.25962829589844, 244.26876831054688, 240.75827026367188, 261.76141357421875, 258.7296142578125, 265.3517150878906, 267.2665100097656, 272.5123291015625, 286.2750549316406, 283.6621398925781, 285.9160461425781, 282.0365295410156, 276.182373046875, 267.6454772949219, 275.3546142578125, 274.2875061035156, 282.2060852050781, 282.4055480957031, 277.8279113769531, 286.9532470703125, 293.0068359375, 288.28961181640625, 292.3685607910156, 296.7566833496094, 299.8183898925781, 302.91998291015625, 310.1300048828125, 315.010009765625, 311.4100036621094, 307.6499938964844, 309.5400085449219, 307.7099914550781, 314.9599914550781, 313.1400146484375, 319.2300109863281, 316.8500061035156, 318.8900146484375, 316.7300109863281, 318.1099853515625, 318.25, 317.94000244140625]}, {\"mode\": \"lines\", \"name\": \"LSTM_Prediction\", \"type\": \"scatter\", \"x\": [\"2019-04-22T00:00:00\", \"2019-04-23T00:00:00\", \"2019-04-24T00:00:00\", \"2019-04-25T00:00:00\", \"2019-04-26T00:00:00\", \"2019-04-29T00:00:00\", \"2019-04-30T00:00:00\", \"2019-05-01T00:00:00\", \"2019-05-02T00:00:00\", \"2019-05-03T00:00:00\", \"2019-05-06T00:00:00\", \"2019-05-07T00:00:00\", \"2019-05-08T00:00:00\", \"2019-05-09T00:00:00\", \"2019-05-10T00:00:00\", \"2019-05-13T00:00:00\", \"2019-05-14T00:00:00\", \"2019-05-15T00:00:00\", \"2019-05-16T00:00:00\", \"2019-05-17T00:00:00\", \"2019-05-20T00:00:00\", \"2019-05-21T00:00:00\", \"2019-05-22T00:00:00\", \"2019-05-23T00:00:00\", \"2019-05-24T00:00:00\", \"2019-05-28T00:00:00\", \"2019-05-29T00:00:00\", \"2019-05-30T00:00:00\", \"2019-05-31T00:00:00\", \"2019-06-03T00:00:00\", \"2019-06-04T00:00:00\", \"2019-06-05T00:00:00\", \"2019-06-06T00:00:00\", \"2019-06-07T00:00:00\", \"2019-06-10T00:00:00\", \"2019-06-11T00:00:00\", \"2019-06-12T00:00:00\", \"2019-06-13T00:00:00\", \"2019-06-14T00:00:00\", \"2019-06-17T00:00:00\", \"2019-06-18T00:00:00\", \"2019-06-19T00:00:00\", \"2019-06-20T00:00:00\", \"2019-06-21T00:00:00\", \"2019-06-24T00:00:00\", \"2019-06-25T00:00:00\", \"2019-06-26T00:00:00\", \"2019-06-27T00:00:00\", \"2019-06-28T00:00:00\", \"2019-07-01T00:00:00\", \"2019-07-02T00:00:00\", \"2019-07-03T00:00:00\", \"2019-07-05T00:00:00\", \"2019-07-08T00:00:00\", \"2019-07-09T00:00:00\", \"2019-07-10T00:00:00\", \"2019-07-11T00:00:00\", \"2019-07-12T00:00:00\", \"2019-07-15T00:00:00\", \"2019-07-16T00:00:00\", \"2019-07-17T00:00:00\", \"2019-07-18T00:00:00\", \"2019-07-19T00:00:00\", \"2019-07-22T00:00:00\", \"2019-07-23T00:00:00\", \"2019-07-24T00:00:00\", \"2019-07-25T00:00:00\", \"2019-07-26T00:00:00\", \"2019-07-29T00:00:00\", \"2019-07-30T00:00:00\", \"2019-07-31T00:00:00\", \"2019-08-01T00:00:00\", \"2019-08-02T00:00:00\", \"2019-08-05T00:00:00\", \"2019-08-06T00:00:00\", \"2019-08-07T00:00:00\", \"2019-08-08T00:00:00\", \"2019-08-09T00:00:00\", \"2019-08-12T00:00:00\", \"2019-08-13T00:00:00\", \"2019-08-14T00:00:00\", \"2019-08-15T00:00:00\", \"2019-08-16T00:00:00\", \"2019-08-19T00:00:00\", \"2019-08-20T00:00:00\", \"2019-08-21T00:00:00\", \"2019-08-22T00:00:00\", \"2019-08-23T00:00:00\", \"2019-08-26T00:00:00\", \"2019-08-27T00:00:00\", \"2019-08-28T00:00:00\", \"2019-08-29T00:00:00\", \"2019-08-30T00:00:00\", \"2019-09-03T00:00:00\", \"2019-09-04T00:00:00\", \"2019-09-05T00:00:00\", \"2019-09-06T00:00:00\", \"2019-09-09T00:00:00\", \"2019-09-10T00:00:00\", \"2019-09-11T00:00:00\", \"2019-09-12T00:00:00\", \"2019-09-13T00:00:00\", \"2019-09-16T00:00:00\", \"2019-09-17T00:00:00\", \"2019-09-18T00:00:00\", \"2019-09-19T00:00:00\", \"2019-09-20T00:00:00\", \"2019-09-23T00:00:00\", \"2019-09-24T00:00:00\", \"2019-09-25T00:00:00\", \"2019-09-26T00:00:00\", \"2019-09-27T00:00:00\", \"2019-09-30T00:00:00\", \"2019-10-01T00:00:00\", \"2019-10-02T00:00:00\", \"2019-10-03T00:00:00\", \"2019-10-04T00:00:00\", \"2019-10-07T00:00:00\", \"2019-10-08T00:00:00\", \"2019-10-09T00:00:00\", \"2019-10-10T00:00:00\", \"2019-10-11T00:00:00\", \"2019-10-14T00:00:00\", \"2019-10-15T00:00:00\", \"2019-10-16T00:00:00\", \"2019-10-17T00:00:00\", \"2019-10-18T00:00:00\", \"2019-10-21T00:00:00\", \"2019-10-22T00:00:00\", \"2019-10-23T00:00:00\", \"2019-10-24T00:00:00\", \"2019-10-25T00:00:00\", \"2019-10-28T00:00:00\", \"2019-10-29T00:00:00\", \"2019-10-30T00:00:00\", \"2019-10-31T00:00:00\", \"2019-11-01T00:00:00\", \"2019-11-04T00:00:00\", \"2019-11-05T00:00:00\", \"2019-11-06T00:00:00\", \"2019-11-07T00:00:00\", \"2019-11-08T00:00:00\", \"2019-11-11T00:00:00\", \"2019-11-12T00:00:00\", \"2019-11-13T00:00:00\", \"2019-11-14T00:00:00\", \"2019-11-15T00:00:00\", \"2019-11-18T00:00:00\", \"2019-11-19T00:00:00\", \"2019-11-20T00:00:00\", \"2019-11-21T00:00:00\", \"2019-11-22T00:00:00\", \"2019-11-25T00:00:00\", \"2019-11-26T00:00:00\", \"2019-11-27T00:00:00\", \"2019-11-29T00:00:00\", \"2019-12-02T00:00:00\", \"2019-12-03T00:00:00\", \"2019-12-04T00:00:00\", \"2019-12-05T00:00:00\", \"2019-12-06T00:00:00\", \"2019-12-09T00:00:00\", \"2019-12-10T00:00:00\", \"2019-12-11T00:00:00\", \"2019-12-12T00:00:00\", \"2019-12-13T00:00:00\", \"2019-12-16T00:00:00\", \"2019-12-17T00:00:00\", \"2019-12-18T00:00:00\", \"2019-12-19T00:00:00\", \"2019-12-20T00:00:00\", \"2019-12-23T00:00:00\", \"2019-12-24T00:00:00\", \"2019-12-26T00:00:00\", \"2019-12-27T00:00:00\", \"2019-12-30T00:00:00\", \"2019-12-31T00:00:00\", \"2020-01-02T00:00:00\", \"2020-01-03T00:00:00\", \"2020-01-06T00:00:00\", \"2020-01-07T00:00:00\", \"2020-01-08T00:00:00\", \"2020-01-09T00:00:00\", \"2020-01-10T00:00:00\", \"2020-01-13T00:00:00\", \"2020-01-14T00:00:00\", \"2020-01-15T00:00:00\", \"2020-01-16T00:00:00\", \"2020-01-17T00:00:00\", \"2020-01-21T00:00:00\", \"2020-01-22T00:00:00\", \"2020-01-23T00:00:00\", \"2020-01-24T00:00:00\", \"2020-01-27T00:00:00\", \"2020-01-28T00:00:00\", \"2020-01-29T00:00:00\", \"2020-01-30T00:00:00\", \"2020-01-31T00:00:00\", \"2020-02-03T00:00:00\", \"2020-02-04T00:00:00\", \"2020-02-05T00:00:00\", \"2020-02-06T00:00:00\", \"2020-02-07T00:00:00\", \"2020-02-10T00:00:00\", \"2020-02-11T00:00:00\", \"2020-02-12T00:00:00\", \"2020-02-13T00:00:00\", \"2020-02-14T00:00:00\", \"2020-02-18T00:00:00\", \"2020-02-19T00:00:00\", \"2020-02-20T00:00:00\", \"2020-02-21T00:00:00\", \"2020-02-24T00:00:00\", \"2020-02-25T00:00:00\", \"2020-02-26T00:00:00\", \"2020-02-27T00:00:00\", \"2020-02-28T00:00:00\", \"2020-03-02T00:00:00\", \"2020-03-03T00:00:00\", \"2020-03-04T00:00:00\", \"2020-03-05T00:00:00\", \"2020-03-06T00:00:00\", \"2020-03-09T00:00:00\", \"2020-03-10T00:00:00\", \"2020-03-11T00:00:00\", \"2020-03-12T00:00:00\", \"2020-03-13T00:00:00\", \"2020-03-16T00:00:00\", \"2020-03-17T00:00:00\", \"2020-03-18T00:00:00\", \"2020-03-19T00:00:00\", \"2020-03-20T00:00:00\", \"2020-03-23T00:00:00\", \"2020-03-24T00:00:00\", \"2020-03-25T00:00:00\", \"2020-03-26T00:00:00\", \"2020-03-27T00:00:00\", \"2020-03-30T00:00:00\", \"2020-03-31T00:00:00\", \"2020-04-01T00:00:00\", \"2020-04-02T00:00:00\", \"2020-04-03T00:00:00\", \"2020-04-06T00:00:00\", \"2020-04-07T00:00:00\", \"2020-04-08T00:00:00\", \"2020-04-09T00:00:00\", \"2020-04-13T00:00:00\", \"2020-04-14T00:00:00\", \"2020-04-15T00:00:00\", \"2020-04-16T00:00:00\", \"2020-04-17T00:00:00\", \"2020-04-20T00:00:00\", \"2020-04-21T00:00:00\", \"2020-04-22T00:00:00\", \"2020-04-23T00:00:00\", \"2020-04-24T00:00:00\", \"2020-04-27T00:00:00\", \"2020-04-28T00:00:00\", \"2020-04-29T00:00:00\", \"2020-04-30T00:00:00\", \"2020-05-01T00:00:00\", \"2020-05-04T00:00:00\", \"2020-05-05T00:00:00\", \"2020-05-06T00:00:00\", \"2020-05-07T00:00:00\", \"2020-05-08T00:00:00\", \"2020-05-11T00:00:00\", \"2020-05-12T00:00:00\", \"2020-05-13T00:00:00\", \"2020-05-14T00:00:00\", \"2020-05-15T00:00:00\", \"2020-05-18T00:00:00\", \"2020-05-19T00:00:00\", \"2020-05-20T00:00:00\", \"2020-05-21T00:00:00\", \"2020-05-22T00:00:00\", \"2020-05-26T00:00:00\", \"2020-05-27T00:00:00\", \"2020-05-28T00:00:00\", \"2020-05-29T00:00:00\"], \"y\": [202.36376953125, 203.17877197265625, 203.67381286621094, 203.7934112548828, 204.6268310546875, 205.9988250732422, 205.41567993164062, 198.81744384765625, 199.63275146484375, 199.9028778076172, 200.05482482910156, 200.46807861328125, 201.18862915039062, 200.68711853027344, 198.74595642089844, 199.4390106201172, 199.58348083496094, 199.63429260253906, 199.92677307128906, 200.4935760498047, 199.7816925048828, 181.49270629882812, 181.98838806152344, 182.3202667236328, 182.3381805419922, 182.63832092285156, 183.09780883789062, 182.42686462402344, 176.95936584472656, 177.5023956298828, 177.66859436035156, 177.5913848876953, 178.09266662597656, 178.76844787597656, 177.77786254882812, 192.0225372314453, 192.76318359375, 193.3202667236328, 193.23544311523438, 194.21873474121094, 195.80142211914062, 194.8107147216797, 197.15419006347656, 197.9810333251953, 198.50596618652344, 198.59829711914062, 199.4566192626953, 200.7626953125, 200.2107391357422, 197.056884765625, 197.88583374023438, 198.30128479003906, 198.4706573486328, 199.1579132080078, 200.1765594482422, 199.71820068359375, 202.46511840820312, 203.25962829589844, 203.50096130371094, 203.53012084960938, 204.13482666015625, 205.17698669433594, 204.36624145507812, 201.47000122070312, 202.3170623779297, 202.59776306152344, 202.70753479003906, 203.23873901367188, 204.0870361328125, 203.51454162597656, 207.6222686767578, 208.47158813476562, 208.59385681152344, 208.53073120117188, 209.0571746826172, 209.85520935058594, 208.99993896484375, 201.97406005859375, 202.39498901367188, 202.60336303710938, 202.33506774902344, 202.86524963378906, 203.87249755859375, 202.6156005859375, 210.02923583984375, 210.7166748046875, 210.7649383544922, 210.3478240966797, 210.91244506835938, 211.8765106201172, 210.36788940429688, 205.3422393798828, 205.99244689941406, 206.13771057128906, 206.0780792236328, 206.47830200195312, 207.2569580078125, 206.3550262451172, 213.78607177734375, 214.5962677001953, 214.5606689453125, 214.18743896484375, 214.67514038085938, 215.38031005859375, 214.03988647460938, 222.85447692871094, 223.72471618652344, 223.70909118652344, 223.6214141845703, 224.10911560058594, 225.01470947265625, 224.09939575195312, 218.1016845703125, 218.76351928710938, 218.62217712402344, 218.2801971435547, 218.52239990234375, 218.92807006835938, 217.71572875976562, 223.42364501953125, 224.122802734375, 223.7984161376953, 223.22933959960938, 223.35162353515625, 223.5130615234375, 222.0116729736328, 235.30592346191406, 236.1664276123047, 235.75718688964844, 235.49002075195312, 235.64260864257812, 236.07228088378906, 234.90377807617188, 248.97451782226562, 249.83518981933594, 249.17955017089844, 248.75953674316406, 248.94583129882812, 249.3836669921875, 248.03240966796875, 257.05462646484375, 257.7078552246094, 256.7644958496094, 256.1406555175781, 256.1105041503906, 256.0242614746094, 254.58448791503906, 266.5621032714844, 266.6948547363281, 265.2452087402344, 264.2646179199219, 264.1827087402344, 263.4378662109375, 261.6752014160156, 263.2265625, 262.8114013671875, 261.21417236328125, 259.92620849609375, 259.9753112792969, 258.4566345214844, 256.7519226074219, 270.3422546386719, 269.7587585449219, 267.8912353515625, 266.0979919433594, 266.2384338378906, 264.65985107421875, 262.1314392089844, 280.2086181640625, 280.02447509765625, 277.994873046875, 276.583984375, 276.61767578125, 275.0650634765625, 273.1645812988281, 289.4341125488281, 288.906982421875, 286.5174560546875, 285.09686279296875, 285.1413269042969, 283.0902404785156, 281.5173645019531, 304.74810791015625, 303.7023620605469, 300.7157897949219, 299.1758728027344, 299.1468505859375, 296.5606994628906, 294.9888000488281, 319.3282470703125, 317.58624267578125, 313.7421875, 311.88787841796875, 311.98455810546875, 308.1888732910156, 306.9229431152344, 323.1628112792969, 320.1417541503906, 315.6397399902344, 312.4665832519531, 313.0499572753906, 307.6778869628906, 305.4305419921875, 317.1623229980469, 313.7359924316406, 308.93707275390625, 305.09906005859375, 305.7759094238281, 298.9298095703125, 296.5941467285156, 324.0302734375, 319.8226623535156, 314.56903076171875, 310.3328552246094, 311.02606201171875, 303.7618408203125, 300.71307373046875, 270.71136474609375, 264.8052673339844, 260.74981689453125, 255.56309509277344, 256.3695373535156, 248.59689331054688, 243.93772888183594, 286.96099853515625, 282.68084716796875, 278.9095764160156, 273.5921325683594, 274.1995544433594, 268.0003356933594, 262.0711364746094, 241.9752960205078, 239.0080108642578, 237.01478576660156, 233.60418701171875, 234.1367645263672, 229.83724975585938, 226.37855529785156, 255.0196533203125, 254.14466857910156, 252.30677795410156, 249.21754455566406, 249.4969940185547, 247.08990478515625, 242.8407440185547, 267.9552307128906, 268.105224609375, 267.13348388671875, 265.7606201171875, 265.94390869140625, 265.8030090332031, 263.4156799316406, 278.3514099121094, 278.45025634765625, 276.4986572265625, 276.00335693359375, 275.5961608886719, 274.06158447265625, 273.3897705078125, 290.2490539550781, 289.5496520996094, 287.3815612792969, 285.8025817871094, 285.94451904296875, 284.3746032714844, 282.27099609375, 313.9020080566406, 313.39862060546875, 310.4043884277344, 309.03326416015625, 309.010498046875, 307.06072998046875, 305.4742126464844, 313.2030334472656, 311.2395324707031, 307.41278076171875, 305.456298828125, 305.6583557128906, 301.3743591308594, 300.3605651855469]}, {\"mode\": \"lines\", \"name\": \"MA_Prediction\", \"type\": \"scatter\", \"x\": [\"2019-04-22T00:00:00\", \"2019-04-23T00:00:00\", \"2019-04-24T00:00:00\", \"2019-04-25T00:00:00\", \"2019-04-26T00:00:00\", \"2019-04-29T00:00:00\", \"2019-04-30T00:00:00\", \"2019-05-01T00:00:00\", \"2019-05-02T00:00:00\", \"2019-05-03T00:00:00\", \"2019-05-06T00:00:00\", \"2019-05-07T00:00:00\", \"2019-05-08T00:00:00\", \"2019-05-09T00:00:00\", \"2019-05-10T00:00:00\", \"2019-05-13T00:00:00\", \"2019-05-14T00:00:00\", \"2019-05-15T00:00:00\", \"2019-05-16T00:00:00\", \"2019-05-17T00:00:00\", \"2019-05-20T00:00:00\", \"2019-05-21T00:00:00\", \"2019-05-22T00:00:00\", \"2019-05-23T00:00:00\", \"2019-05-24T00:00:00\", \"2019-05-28T00:00:00\", \"2019-05-29T00:00:00\", \"2019-05-30T00:00:00\", \"2019-05-31T00:00:00\", \"2019-06-03T00:00:00\", \"2019-06-04T00:00:00\", \"2019-06-05T00:00:00\", \"2019-06-06T00:00:00\", \"2019-06-07T00:00:00\", \"2019-06-10T00:00:00\", \"2019-06-11T00:00:00\", \"2019-06-12T00:00:00\", \"2019-06-13T00:00:00\", \"2019-06-14T00:00:00\", \"2019-06-17T00:00:00\", \"2019-06-18T00:00:00\", \"2019-06-19T00:00:00\", \"2019-06-20T00:00:00\", \"2019-06-21T00:00:00\", \"2019-06-24T00:00:00\", \"2019-06-25T00:00:00\", \"2019-06-26T00:00:00\", \"2019-06-27T00:00:00\", \"2019-06-28T00:00:00\", \"2019-07-01T00:00:00\", \"2019-07-02T00:00:00\", \"2019-07-03T00:00:00\", \"2019-07-05T00:00:00\", \"2019-07-08T00:00:00\", \"2019-07-09T00:00:00\", \"2019-07-10T00:00:00\", \"2019-07-11T00:00:00\", \"2019-07-12T00:00:00\", \"2019-07-15T00:00:00\", \"2019-07-16T00:00:00\", \"2019-07-17T00:00:00\", \"2019-07-18T00:00:00\", \"2019-07-19T00:00:00\", \"2019-07-22T00:00:00\", \"2019-07-23T00:00:00\", \"2019-07-24T00:00:00\", \"2019-07-25T00:00:00\", \"2019-07-26T00:00:00\", \"2019-07-29T00:00:00\", \"2019-07-30T00:00:00\", \"2019-07-31T00:00:00\", \"2019-08-01T00:00:00\", \"2019-08-02T00:00:00\", \"2019-08-05T00:00:00\", \"2019-08-06T00:00:00\", \"2019-08-07T00:00:00\", \"2019-08-08T00:00:00\", \"2019-08-09T00:00:00\", \"2019-08-12T00:00:00\", \"2019-08-13T00:00:00\", \"2019-08-14T00:00:00\", \"2019-08-15T00:00:00\", \"2019-08-16T00:00:00\", \"2019-08-19T00:00:00\", \"2019-08-20T00:00:00\", \"2019-08-21T00:00:00\", \"2019-08-22T00:00:00\", \"2019-08-23T00:00:00\", \"2019-08-26T00:00:00\", \"2019-08-27T00:00:00\", \"2019-08-28T00:00:00\", \"2019-08-29T00:00:00\", \"2019-08-30T00:00:00\", \"2019-09-03T00:00:00\", \"2019-09-04T00:00:00\", \"2019-09-05T00:00:00\", \"2019-09-06T00:00:00\", \"2019-09-09T00:00:00\", \"2019-09-10T00:00:00\", \"2019-09-11T00:00:00\", \"2019-09-12T00:00:00\", \"2019-09-13T00:00:00\", \"2019-09-16T00:00:00\", \"2019-09-17T00:00:00\", \"2019-09-18T00:00:00\", \"2019-09-19T00:00:00\", \"2019-09-20T00:00:00\", \"2019-09-23T00:00:00\", \"2019-09-24T00:00:00\", \"2019-09-25T00:00:00\", \"2019-09-26T00:00:00\", \"2019-09-27T00:00:00\", \"2019-09-30T00:00:00\", \"2019-10-01T00:00:00\", \"2019-10-02T00:00:00\", \"2019-10-03T00:00:00\", \"2019-10-04T00:00:00\", \"2019-10-07T00:00:00\", \"2019-10-08T00:00:00\", \"2019-10-09T00:00:00\", \"2019-10-10T00:00:00\", \"2019-10-11T00:00:00\", \"2019-10-14T00:00:00\", \"2019-10-15T00:00:00\", \"2019-10-16T00:00:00\", \"2019-10-17T00:00:00\", \"2019-10-18T00:00:00\", \"2019-10-21T00:00:00\", \"2019-10-22T00:00:00\", \"2019-10-23T00:00:00\", \"2019-10-24T00:00:00\", \"2019-10-25T00:00:00\", \"2019-10-28T00:00:00\", \"2019-10-29T00:00:00\", \"2019-10-30T00:00:00\", \"2019-10-31T00:00:00\", \"2019-11-01T00:00:00\", \"2019-11-04T00:00:00\", \"2019-11-05T00:00:00\", \"2019-11-06T00:00:00\", \"2019-11-07T00:00:00\", \"2019-11-08T00:00:00\", \"2019-11-11T00:00:00\", \"2019-11-12T00:00:00\", \"2019-11-13T00:00:00\", \"2019-11-14T00:00:00\", \"2019-11-15T00:00:00\", \"2019-11-18T00:00:00\", \"2019-11-19T00:00:00\", \"2019-11-20T00:00:00\", \"2019-11-21T00:00:00\", \"2019-11-22T00:00:00\", \"2019-11-25T00:00:00\", \"2019-11-26T00:00:00\", \"2019-11-27T00:00:00\", \"2019-11-29T00:00:00\", \"2019-12-02T00:00:00\", \"2019-12-03T00:00:00\", \"2019-12-04T00:00:00\", \"2019-12-05T00:00:00\", \"2019-12-06T00:00:00\", \"2019-12-09T00:00:00\", \"2019-12-10T00:00:00\", \"2019-12-11T00:00:00\", \"2019-12-12T00:00:00\", \"2019-12-13T00:00:00\", \"2019-12-16T00:00:00\", \"2019-12-17T00:00:00\", \"2019-12-18T00:00:00\", \"2019-12-19T00:00:00\", \"2019-12-20T00:00:00\", \"2019-12-23T00:00:00\", \"2019-12-24T00:00:00\", \"2019-12-26T00:00:00\", \"2019-12-27T00:00:00\", \"2019-12-30T00:00:00\", \"2019-12-31T00:00:00\", \"2020-01-02T00:00:00\", \"2020-01-03T00:00:00\", \"2020-01-06T00:00:00\", \"2020-01-07T00:00:00\", \"2020-01-08T00:00:00\", \"2020-01-09T00:00:00\", \"2020-01-10T00:00:00\", \"2020-01-13T00:00:00\", \"2020-01-14T00:00:00\", \"2020-01-15T00:00:00\", \"2020-01-16T00:00:00\", \"2020-01-17T00:00:00\", \"2020-01-21T00:00:00\", \"2020-01-22T00:00:00\", \"2020-01-23T00:00:00\", \"2020-01-24T00:00:00\", \"2020-01-27T00:00:00\", \"2020-01-28T00:00:00\", \"2020-01-29T00:00:00\", \"2020-01-30T00:00:00\", \"2020-01-31T00:00:00\", \"2020-02-03T00:00:00\", \"2020-02-04T00:00:00\", \"2020-02-05T00:00:00\", \"2020-02-06T00:00:00\", \"2020-02-07T00:00:00\", \"2020-02-10T00:00:00\", \"2020-02-11T00:00:00\", \"2020-02-12T00:00:00\", \"2020-02-13T00:00:00\", \"2020-02-14T00:00:00\", \"2020-02-18T00:00:00\", \"2020-02-19T00:00:00\", \"2020-02-20T00:00:00\", \"2020-02-21T00:00:00\", \"2020-02-24T00:00:00\", \"2020-02-25T00:00:00\", \"2020-02-26T00:00:00\", \"2020-02-27T00:00:00\", \"2020-02-28T00:00:00\", \"2020-03-02T00:00:00\", \"2020-03-03T00:00:00\", \"2020-03-04T00:00:00\", \"2020-03-05T00:00:00\", \"2020-03-06T00:00:00\", \"2020-03-09T00:00:00\", \"2020-03-10T00:00:00\", \"2020-03-11T00:00:00\", \"2020-03-12T00:00:00\", \"2020-03-13T00:00:00\", \"2020-03-16T00:00:00\", \"2020-03-17T00:00:00\", \"2020-03-18T00:00:00\", \"2020-03-19T00:00:00\", \"2020-03-20T00:00:00\", \"2020-03-23T00:00:00\", \"2020-03-24T00:00:00\", \"2020-03-25T00:00:00\", \"2020-03-26T00:00:00\", \"2020-03-27T00:00:00\", \"2020-03-30T00:00:00\", \"2020-03-31T00:00:00\", \"2020-04-01T00:00:00\", \"2020-04-02T00:00:00\", \"2020-04-03T00:00:00\", \"2020-04-06T00:00:00\", \"2020-04-07T00:00:00\", \"2020-04-08T00:00:00\", \"2020-04-09T00:00:00\", \"2020-04-13T00:00:00\", \"2020-04-14T00:00:00\", \"2020-04-15T00:00:00\", \"2020-04-16T00:00:00\", \"2020-04-17T00:00:00\", \"2020-04-20T00:00:00\", \"2020-04-21T00:00:00\", \"2020-04-22T00:00:00\", \"2020-04-23T00:00:00\", \"2020-04-24T00:00:00\", \"2020-04-27T00:00:00\", \"2020-04-28T00:00:00\", \"2020-04-29T00:00:00\", \"2020-04-30T00:00:00\", \"2020-05-01T00:00:00\", \"2020-05-04T00:00:00\", \"2020-05-05T00:00:00\", \"2020-05-06T00:00:00\", \"2020-05-07T00:00:00\", \"2020-05-08T00:00:00\", \"2020-05-11T00:00:00\", \"2020-05-12T00:00:00\", \"2020-05-13T00:00:00\", \"2020-05-14T00:00:00\", \"2020-05-15T00:00:00\", \"2020-05-18T00:00:00\", \"2020-05-19T00:00:00\", \"2020-05-20T00:00:00\", \"2020-05-21T00:00:00\", \"2020-05-22T00:00:00\", \"2020-05-26T00:00:00\", \"2020-05-27T00:00:00\", \"2020-05-28T00:00:00\", \"2020-05-29T00:00:00\"], \"y\": [194.70158996582032, 195.21571695963542, 195.67945823838974, 195.99167134783707, 196.23741330488036, 196.4772266576927, 196.64705548077066, 199.34015604654948, 199.53677720811632, 199.67300384295427, 199.92791003176842, 200.2050600071936, 200.47706095591536, 200.7658820281066, 202.41350708007812, 202.52888041178386, 202.60797455512153, 202.4987411774812, 202.40322573742526, 202.42472211796715, 202.51196738644362, 195.36058044433594, 195.2151112874349, 194.41351067437066, 193.64838090910735, 192.66160955825617, 191.8236561118144, 191.29866641347442, 183.577104695638, 182.64278984917533, 181.82867534270108, 181.71527514256604, 181.40062698149754, 180.91611311620153, 180.45463686821915, 179.4259765625, 179.3256620279948, 178.98741901312937, 178.8782917064526, 178.96743530719525, 179.10797876452386, 179.3066436167291, 185.973828125, 186.62560404459637, 187.53362567816842, 188.61879178783278, 189.35861940278986, 189.95671762990293, 190.41812758940944, 194.25038452148436, 194.513159383138, 194.64653993055555, 194.82965724103008, 195.02761909095292, 195.33166881908676, 195.5802255896431, 197.97921752929688, 198.14207356770834, 198.21103712293836, 198.32939805320456, 198.46882516788435, 198.8158465771886, 198.9073284307069, 200.38780619303387, 200.70794196234812, 200.81027216706454, 200.84168695867092, 200.7645169518792, 200.6940614088274, 200.89626478660335, 203.4084248860677, 203.58010918511283, 203.86074174895109, 204.0579682822145, 204.1425121556512, 204.2794675965618, 204.5013163396529, 202.83526102701822, 203.01089850531682, 202.89321788646555, 202.66096683605804, 202.4244302989567, 202.2808272554106, 202.08021720394842, 201.87735799153646, 201.58133599175346, 200.9849273365162, 200.6524680245105, 200.58837617113153, 201.22361565350383, 201.66008199817753, 204.2593017578125, 204.47453572591147, 204.81455665418838, 205.21097265444158, 205.07236517547986, 205.33585142643634, 205.68369521619354, 207.51690063476562, 207.44076192220052, 207.3588860812717, 207.12077365270542, 206.8786899349561, 207.2698711926641, 207.43252915010473, 213.2305938720703, 213.85411804199217, 214.2890764160156, 214.77088683268227, 215.48585655870224, 216.01769259327978, 216.31451113758436, 217.86768086751303, 218.22897474500868, 218.44704531069155, 218.22401223114392, 218.01917607552485, 218.08769080868484, 218.08472338603465, 219.84564921061198, 219.77008307562934, 219.8091752432364, 220.06447829167874, 220.27133116574637, 220.56075067998623, 220.64792653912073, 226.15386047363282, 226.76005798339844, 227.0660965576172, 227.351536319987, 228.0283208702257, 228.6272222745949, 228.8567008705705, 235.2825459798177, 236.12831414116755, 236.85654208260996, 237.43095954469283, 237.63895145216455, 237.88329382111093, 238.18029653092978, 244.52166849772135, 245.26387539333766, 245.98083435510705, 246.47445614089023, 247.037356895335, 247.42484389636513, 247.81171174466448, 254.8786631266276, 255.40071621365016, 256.3384871464482, 257.34075978401086, 258.0461309115387, 258.3316434394303, 258.525090892684, 261.60927225748696, 262.03842291937934, 262.2998508210359, 262.5316104884018, 262.6421834304671, 262.7760479052587, 262.7523490481613, 263.56068115234376, 263.50372599283855, 263.3540923936632, 263.2482104347512, 263.34088898196376, 263.5180155488603, 263.7222073081072, 267.57691446940106, 267.88521389431423, 267.9785970504196, 268.11733945794754, 268.4702894485034, 269.1591778856953, 269.7421001288563, 276.6553975423177, 277.1430950249566, 277.9146932056568, 278.63425633017454, 279.2498962053112, 279.8608125441288, 280.2677015932947, 288.65966796875, 289.30425415039065, 290.0362544759115, 290.798483859592, 291.6499989945023, 292.25582005377123, 292.8841214688143, 303.0610778808594, 304.0429288736979, 304.97614968532986, 305.83030510706016, 306.296995043885, 306.98848050449294, 307.56886488187587, 313.1331827799479, 313.8983584255642, 314.2873831018518, 314.6559153477044, 314.6092520056504, 314.84336652738125, 315.1819701129306, 316.3813028971354, 316.33226019965275, 316.42321988028067, 316.44529033323687, 316.3673489954266, 316.3452365521529, 316.94249141734855, 319.63047281901044, 319.42593655056424, 319.2389392541956, 319.991961636767, 320.8515657198431, 321.0925835940045, 321.17721042344857, 308.49623413085936, 307.7849153645833, 306.92511537000865, 306.1369809714988, 304.7916676423852, 303.5115821225807, 302.1408373370028, 293.0128173828125, 291.03058268229165, 289.13693671332464, 287.5990748607494, 286.9473465181327, 286.92368451191965, 286.5946018582872, 271.6539733886719, 271.5894376627604, 269.82851378038197, 268.5811520037616, 266.358382205705, 264.6403269243666, 263.06636702987123, 251.35226440429688, 249.1377705891927, 247.43452650282117, 247.4261709210431, 245.43994405080537, 245.6988655324476, 245.2669653570066, 247.41625162760417, 247.63605699327258, 248.90371815773292, 250.5796815703969, 250.87075925939993, 251.2716646944016, 250.84028836934087, 264.84706624348956, 265.562063937717, 266.3593015091508, 268.0992797233676, 269.6879804842223, 271.61662783225904, 272.27364211612837, 277.7255391438802, 278.5504607476129, 279.302724130136, 279.75541713204086, 279.3207746120676, 279.03135026003355, 278.5723705345306, 287.07685546875, 287.803154296875, 289.14699943033855, 290.06649177517363, 291.11842415328414, 291.71258008316454, 292.3330488823286, 303.310888671875, 304.4013981119791, 305.1610355902777, 306.28579717520256, 307.21361293414833, 307.9107415731176, 308.4502316851536]}],\n",
       "                        {\"template\": {\"data\": {\"bar\": [{\"error_x\": {\"color\": \"#2a3f5f\"}, \"error_y\": {\"color\": \"#2a3f5f\"}, \"marker\": {\"line\": {\"color\": \"#E5ECF6\", \"width\": 0.5}}, \"type\": \"bar\"}], \"barpolar\": [{\"marker\": {\"line\": {\"color\": \"#E5ECF6\", \"width\": 0.5}}, \"type\": \"barpolar\"}], \"carpet\": [{\"aaxis\": {\"endlinecolor\": \"#2a3f5f\", \"gridcolor\": \"white\", \"linecolor\": \"white\", \"minorgridcolor\": \"white\", \"startlinecolor\": \"#2a3f5f\"}, \"baxis\": {\"endlinecolor\": \"#2a3f5f\", \"gridcolor\": \"white\", \"linecolor\": \"white\", \"minorgridcolor\": \"white\", \"startlinecolor\": \"#2a3f5f\"}, \"type\": \"carpet\"}], \"choropleth\": [{\"colorbar\": {\"outlinewidth\": 0, \"ticks\": \"\"}, \"type\": \"choropleth\"}], \"contour\": [{\"colorbar\": {\"outlinewidth\": 0, \"ticks\": \"\"}, \"colorscale\": [[0.0, \"#0d0887\"], [0.1111111111111111, \"#46039f\"], [0.2222222222222222, \"#7201a8\"], [0.3333333333333333, \"#9c179e\"], [0.4444444444444444, \"#bd3786\"], [0.5555555555555556, \"#d8576b\"], [0.6666666666666666, \"#ed7953\"], [0.7777777777777778, \"#fb9f3a\"], [0.8888888888888888, \"#fdca26\"], [1.0, \"#f0f921\"]], \"type\": \"contour\"}], \"contourcarpet\": [{\"colorbar\": {\"outlinewidth\": 0, \"ticks\": \"\"}, \"type\": \"contourcarpet\"}], \"heatmap\": [{\"colorbar\": {\"outlinewidth\": 0, \"ticks\": \"\"}, \"colorscale\": [[0.0, \"#0d0887\"], [0.1111111111111111, \"#46039f\"], [0.2222222222222222, \"#7201a8\"], [0.3333333333333333, \"#9c179e\"], [0.4444444444444444, \"#bd3786\"], [0.5555555555555556, \"#d8576b\"], [0.6666666666666666, \"#ed7953\"], [0.7777777777777778, \"#fb9f3a\"], [0.8888888888888888, \"#fdca26\"], [1.0, \"#f0f921\"]], \"type\": \"heatmap\"}], \"heatmapgl\": [{\"colorbar\": {\"outlinewidth\": 0, \"ticks\": \"\"}, \"colorscale\": [[0.0, \"#0d0887\"], [0.1111111111111111, \"#46039f\"], [0.2222222222222222, \"#7201a8\"], [0.3333333333333333, \"#9c179e\"], [0.4444444444444444, \"#bd3786\"], [0.5555555555555556, \"#d8576b\"], [0.6666666666666666, \"#ed7953\"], [0.7777777777777778, \"#fb9f3a\"], [0.8888888888888888, \"#fdca26\"], [1.0, \"#f0f921\"]], \"type\": \"heatmapgl\"}], \"histogram\": [{\"marker\": {\"colorbar\": {\"outlinewidth\": 0, \"ticks\": \"\"}}, \"type\": \"histogram\"}], \"histogram2d\": [{\"colorbar\": {\"outlinewidth\": 0, \"ticks\": \"\"}, \"colorscale\": [[0.0, \"#0d0887\"], [0.1111111111111111, \"#46039f\"], [0.2222222222222222, \"#7201a8\"], [0.3333333333333333, \"#9c179e\"], [0.4444444444444444, \"#bd3786\"], [0.5555555555555556, \"#d8576b\"], [0.6666666666666666, \"#ed7953\"], [0.7777777777777778, \"#fb9f3a\"], [0.8888888888888888, \"#fdca26\"], [1.0, \"#f0f921\"]], \"type\": \"histogram2d\"}], \"histogram2dcontour\": [{\"colorbar\": {\"outlinewidth\": 0, \"ticks\": \"\"}, \"colorscale\": [[0.0, \"#0d0887\"], [0.1111111111111111, \"#46039f\"], [0.2222222222222222, \"#7201a8\"], [0.3333333333333333, \"#9c179e\"], [0.4444444444444444, \"#bd3786\"], [0.5555555555555556, \"#d8576b\"], [0.6666666666666666, \"#ed7953\"], [0.7777777777777778, \"#fb9f3a\"], [0.8888888888888888, \"#fdca26\"], [1.0, \"#f0f921\"]], \"type\": \"histogram2dcontour\"}], \"mesh3d\": [{\"colorbar\": {\"outlinewidth\": 0, \"ticks\": \"\"}, \"type\": \"mesh3d\"}], \"parcoords\": [{\"line\": {\"colorbar\": {\"outlinewidth\": 0, \"ticks\": \"\"}}, \"type\": \"parcoords\"}], \"pie\": [{\"automargin\": true, \"type\": \"pie\"}], \"scatter\": [{\"marker\": {\"colorbar\": {\"outlinewidth\": 0, \"ticks\": \"\"}}, \"type\": \"scatter\"}], \"scatter3d\": [{\"line\": {\"colorbar\": {\"outlinewidth\": 0, \"ticks\": \"\"}}, \"marker\": {\"colorbar\": {\"outlinewidth\": 0, \"ticks\": \"\"}}, \"type\": \"scatter3d\"}], \"scattercarpet\": [{\"marker\": {\"colorbar\": {\"outlinewidth\": 0, \"ticks\": \"\"}}, \"type\": \"scattercarpet\"}], \"scattergeo\": [{\"marker\": {\"colorbar\": {\"outlinewidth\": 0, \"ticks\": \"\"}}, \"type\": \"scattergeo\"}], \"scattergl\": [{\"marker\": {\"colorbar\": {\"outlinewidth\": 0, \"ticks\": \"\"}}, \"type\": \"scattergl\"}], \"scattermapbox\": [{\"marker\": {\"colorbar\": {\"outlinewidth\": 0, \"ticks\": \"\"}}, \"type\": \"scattermapbox\"}], \"scatterpolar\": [{\"marker\": {\"colorbar\": {\"outlinewidth\": 0, \"ticks\": \"\"}}, \"type\": \"scatterpolar\"}], \"scatterpolargl\": [{\"marker\": {\"colorbar\": {\"outlinewidth\": 0, \"ticks\": \"\"}}, \"type\": \"scatterpolargl\"}], \"scatterternary\": [{\"marker\": {\"colorbar\": {\"outlinewidth\": 0, \"ticks\": \"\"}}, \"type\": \"scatterternary\"}], \"surface\": [{\"colorbar\": {\"outlinewidth\": 0, \"ticks\": \"\"}, \"colorscale\": [[0.0, \"#0d0887\"], [0.1111111111111111, \"#46039f\"], [0.2222222222222222, \"#7201a8\"], [0.3333333333333333, \"#9c179e\"], [0.4444444444444444, \"#bd3786\"], [0.5555555555555556, \"#d8576b\"], [0.6666666666666666, \"#ed7953\"], [0.7777777777777778, \"#fb9f3a\"], [0.8888888888888888, \"#fdca26\"], [1.0, \"#f0f921\"]], \"type\": \"surface\"}], \"table\": [{\"cells\": {\"fill\": {\"color\": \"#EBF0F8\"}, \"line\": {\"color\": \"white\"}}, \"header\": {\"fill\": {\"color\": \"#C8D4E3\"}, \"line\": {\"color\": \"white\"}}, \"type\": \"table\"}]}, \"layout\": {\"annotationdefaults\": {\"arrowcolor\": \"#2a3f5f\", \"arrowhead\": 0, \"arrowwidth\": 1}, \"coloraxis\": {\"colorbar\": {\"outlinewidth\": 0, \"ticks\": \"\"}}, \"colorscale\": {\"diverging\": [[0, \"#8e0152\"], [0.1, \"#c51b7d\"], [0.2, \"#de77ae\"], [0.3, \"#f1b6da\"], [0.4, \"#fde0ef\"], [0.5, \"#f7f7f7\"], [0.6, \"#e6f5d0\"], [0.7, \"#b8e186\"], [0.8, \"#7fbc41\"], [0.9, \"#4d9221\"], [1, \"#276419\"]], \"sequential\": [[0.0, \"#0d0887\"], [0.1111111111111111, \"#46039f\"], [0.2222222222222222, \"#7201a8\"], [0.3333333333333333, \"#9c179e\"], [0.4444444444444444, \"#bd3786\"], [0.5555555555555556, \"#d8576b\"], [0.6666666666666666, \"#ed7953\"], [0.7777777777777778, \"#fb9f3a\"], [0.8888888888888888, \"#fdca26\"], [1.0, \"#f0f921\"]], \"sequentialminus\": [[0.0, \"#0d0887\"], [0.1111111111111111, \"#46039f\"], [0.2222222222222222, \"#7201a8\"], [0.3333333333333333, \"#9c179e\"], [0.4444444444444444, \"#bd3786\"], [0.5555555555555556, \"#d8576b\"], [0.6666666666666666, \"#ed7953\"], [0.7777777777777778, \"#fb9f3a\"], [0.8888888888888888, \"#fdca26\"], [1.0, \"#f0f921\"]]}, \"colorway\": [\"#636efa\", \"#EF553B\", \"#00cc96\", \"#ab63fa\", \"#FFA15A\", \"#19d3f3\", \"#FF6692\", \"#B6E880\", \"#FF97FF\", \"#FECB52\"], \"font\": {\"color\": \"#2a3f5f\"}, \"geo\": {\"bgcolor\": \"white\", \"lakecolor\": \"white\", \"landcolor\": \"#E5ECF6\", \"showlakes\": true, \"showland\": true, \"subunitcolor\": \"white\"}, \"hoverlabel\": {\"align\": \"left\"}, \"hovermode\": \"closest\", \"mapbox\": {\"style\": \"light\"}, \"paper_bgcolor\": \"white\", \"plot_bgcolor\": \"#E5ECF6\", \"polar\": {\"angularaxis\": {\"gridcolor\": \"white\", \"linecolor\": \"white\", \"ticks\": \"\"}, \"bgcolor\": \"#E5ECF6\", \"radialaxis\": {\"gridcolor\": \"white\", \"linecolor\": \"white\", \"ticks\": \"\"}}, \"scene\": {\"xaxis\": {\"backgroundcolor\": \"#E5ECF6\", \"gridcolor\": \"white\", \"gridwidth\": 2, \"linecolor\": \"white\", \"showbackground\": true, \"ticks\": \"\", \"zerolinecolor\": \"white\"}, \"yaxis\": {\"backgroundcolor\": \"#E5ECF6\", \"gridcolor\": \"white\", \"gridwidth\": 2, \"linecolor\": \"white\", \"showbackground\": true, \"ticks\": \"\", \"zerolinecolor\": \"white\"}, \"zaxis\": {\"backgroundcolor\": \"#E5ECF6\", \"gridcolor\": \"white\", \"gridwidth\": 2, \"linecolor\": \"white\", \"showbackground\": true, \"ticks\": \"\", \"zerolinecolor\": \"white\"}}, \"shapedefaults\": {\"line\": {\"color\": \"#2a3f5f\"}}, \"ternary\": {\"aaxis\": {\"gridcolor\": \"white\", \"linecolor\": \"white\", \"ticks\": \"\"}, \"baxis\": {\"gridcolor\": \"white\", \"linecolor\": \"white\", \"ticks\": \"\"}, \"bgcolor\": \"#E5ECF6\", \"caxis\": {\"gridcolor\": \"white\", \"linecolor\": \"white\", \"ticks\": \"\"}}, \"title\": {\"x\": 0.05}, \"xaxis\": {\"automargin\": true, \"gridcolor\": \"white\", \"linecolor\": \"white\", \"ticks\": \"\", \"title\": {\"standoff\": 15}, \"zerolinecolor\": \"white\", \"zerolinewidth\": 2}, \"yaxis\": {\"automargin\": true, \"gridcolor\": \"white\", \"linecolor\": \"white\", \"ticks\": \"\", \"title\": {\"standoff\": 15}, \"zerolinecolor\": \"white\", \"zerolinewidth\": 2}}}, \"title\": {\"text\": \"AAPL Stock\"}, \"xaxis\": {\"range\": [\"2019-04-22T00:00:00\", \"2020-07-13T00:00:00\"], \"title\": {\"text\": \"Date\"}}, \"yaxis\": {\"title\": {\"text\": \"Adj Close ($)\"}}},\n",
       "                        {\"responsive\": true}\n",
       "                    ).then(function(){\n",
       "                            \n",
       "var gd = document.getElementById('fb619870-4f45-46ac-92bd-2953a700c81b');\n",
       "var x = new MutationObserver(function (mutations, observer) {{\n",
       "        var display = window.getComputedStyle(gd).display;\n",
       "        if (!display || display === 'none') {{\n",
       "            console.log([gd, 'removed!']);\n",
       "            Plotly.purge(gd);\n",
       "            observer.disconnect();\n",
       "        }}\n",
       "}});\n",
       "\n",
       "// Listen for the removal of the full notebook cells\n",
       "var notebookContainer = gd.closest('#notebook-container');\n",
       "if (notebookContainer) {{\n",
       "    x.observe(notebookContainer, {childList: true});\n",
       "}}\n",
       "\n",
       "// Listen for the clearing of the current output cell\n",
       "var outputEl = gd.closest('.output');\n",
       "if (outputEl) {{\n",
       "    x.observe(outputEl, {childList: true});\n",
       "}}\n",
       "\n",
       "                        })\n",
       "                };\n",
       "                });\n",
       "            </script>\n",
       "        </div>"
      ]
     },
     "metadata": {},
     "output_type": "display_data"
    }
   ],
   "source": [
    "trace1 = go.Scatter(\n",
    "    x = dataset_train['Date'],\n",
    "    y = dataset_train['Adj Close'],\n",
    "    mode = 'lines',\n",
    "    name = 'Train-set'\n",
    ")\n",
    "trace2 = go.Scatter(\n",
    "    x = dataset_test['Date'],\n",
    "    y = dataset_test['Adj Close'],\n",
    "    mode='lines',\n",
    "    name = 'True Price'\n",
    ")\n",
    "trace3 = go.Scatter(\n",
    "    x = dataset_test['Date'],\n",
    "    y = dataset_test['LSTM_Prediction'],\n",
    "    mode = 'lines',\n",
    "    name = 'LSTM_Prediction'\n",
    ")\n",
    "trace4 = go.Scatter(\n",
    "    x = dataset_test['Date'],\n",
    "    y = dataset_test['MA_Prediction'],\n",
    "    mode = 'lines',\n",
    "    name = 'MA_Prediction'\n",
    ")\n",
    "\n",
    "layout = go.Layout(\n",
    "    title = \"AAPL Stock\",\n",
    "    xaxis = {'title' : \"Date\"},\n",
    "    yaxis = {'title' : \"Adj Close ($)\"}\n",
    ")\n",
    "fig = go.Figure(data=[trace2, trace3, trace4], layout=layout)\n",
    "# fig = go.Figure(data=[trace1, trace2, trace3, trace4], layout=layout)\n",
    "fig.update_layout(xaxis_range=[dataset_test['Date'].iloc[0], dataset_test['Date'].iloc[-1]+30*B_DAY])\n",
    "fig.show()"
   ]
  },
  {
   "cell_type": "markdown",
   "metadata": {},
   "source": [
    "## Evaludate the performance"
   ]
  },
  {
   "cell_type": "code",
   "execution_count": 41,
   "metadata": {},
   "outputs": [],
   "source": [
    "from sklearn.metrics import mean_squared_error, mean_absolute_error\n",
    "\n",
    "# metrics.mean_absolute_error(y_test, y_pred)\n",
    "\n",
    "def evaluate_prediction(y_true, y_pred):\n",
    "    \n",
    "    # mean absolute error\n",
    "    mae = mean_absolute_error(y_true, y_pred)\n",
    "    \n",
    "    #mean squared error\n",
    "    mse = mean_squared_error(y_true, y_pred)\n",
    "    \n",
    "    # root mean squared error\n",
    "    rmse = round(np.sqrt(mse), 2)\n",
    "    \n",
    "    # mean absolute percentage error\n",
    "    mape = round(np.mean(np.abs((y_true - y_pred) / y_true)) * 100, 2)\n",
    "           \n",
    "    return {'root_mean_squared_error': rmse, \n",
    "            'mean_absolute_percentage_error': mape}\n"
   ]
  },
  {
   "cell_type": "code",
   "execution_count": 42,
   "metadata": {},
   "outputs": [],
   "source": [
    "y_test = dataset_test['Adj Close']\n",
    "y_pred_lstm = dataset_test['LSTM_Prediction']\n",
    "y_pred_ma = dataset_test['MA_Prediction']"
   ]
  },
  {
   "cell_type": "code",
   "execution_count": 43,
   "metadata": {},
   "outputs": [
    {
     "data": {
      "text/plain": [
       "{'root_mean_squared_error': 11.09, 'mean_absolute_percentage_error': 3.14}"
      ]
     },
     "execution_count": 43,
     "metadata": {},
     "output_type": "execute_result"
    }
   ],
   "source": [
    "evaluate_prediction(y_test, y_pred_lstm)"
   ]
  },
  {
   "cell_type": "code",
   "execution_count": 44,
   "metadata": {},
   "outputs": [
    {
     "data": {
      "text/plain": [
       "{'root_mean_squared_error': 15.03, 'mean_absolute_percentage_error': 4.7}"
      ]
     },
     "execution_count": 44,
     "metadata": {},
     "output_type": "execute_result"
    }
   ],
   "source": [
    "evaluate_prediction(y_test, y_pred_ma)"
   ]
  },
  {
   "cell_type": "markdown",
   "metadata": {},
   "source": [
    "## Forcast"
   ]
  },
  {
   "cell_type": "markdown",
   "metadata": {},
   "source": [
    "#### re-train the model"
   ]
  },
  {
   "cell_type": "code",
   "execution_count": 77,
   "metadata": {},
   "outputs": [],
   "source": [
    "def predict_future_price(df, lookback_days, forcast_days, model, sc):\n",
    "    \"\"\"\n",
    "    Prediction of future stock price\n",
    "    \"\"\"\n",
    "    \n",
    "    B_DAY = CustomBusinessDay(calendar=USFederalHolidayCalendar()) # business day\n",
    "    \n",
    "    prediction_index_list = []\n",
    "    prediction_date_list = []\n",
    "    prediction_price_list = []\n",
    "    prediction_price_scaled_list = []\n",
    "\n",
    "    train_data = df.copy(deep=True) # init train data\n",
    "    prediction_start_index = train_data.index[-1]+1\n",
    "    prediction_start_date = train_data['Date'].iloc[-1]+1*B_DAY # need to use bussiness day\n",
    "    \n",
    "    for i in range(forcast_days):\n",
    "\n",
    "        X_scaled = train_data[['Scaled_Close']][-lookback_days:].values\n",
    "\n",
    "        # using MinMaxScaler to normalize the price\n",
    "#         X_scaled = sc.transform(X)\n",
    "        X_scaled = X_scaled.reshape((1, lookback_days, 1))\n",
    "\n",
    "        # prediction the scaled price with model\n",
    "        prediction_price_scaled = model.predict(X_scaled)\n",
    "#         print(prediction_price_scaled[0][0])\n",
    "\n",
    "        # transform back to the normal price\n",
    "        prediction_price = sc.inverse_transform(prediction_price_scaled)[0][0]\n",
    "\n",
    "        # append prediction date, index and price\n",
    "        prediction_index = prediction_start_index + i\n",
    "        prediction_date = prediction_start_date + i*B_DAY\n",
    "        \n",
    "        prediction_index_list.append(prediction_index)\n",
    "        prediction_date_list.append(prediction_date)\n",
    "        prediction_price_list.append(prediction_price)\n",
    "        prediction_price_scaled_list.append(prediction_price_scaled[0][0])\n",
    "\n",
    "        # update the train_data\n",
    "        train_data.loc[prediction_index, 'Date'] = prediction_date # update train_data\n",
    "        train_data.loc[prediction_index, 'Adj Close'] = prediction_price # update train_data\n",
    "        train_data.loc[prediction_index, 'Scaled_Close'] = prediction_price_scaled[0][0] # update train_data\n",
    "\n",
    "\n",
    "    # create the forcast_dataframe\n",
    "    forcast_dataframe = pd.DataFrame({\n",
    "        'index' : prediction_index_list,\n",
    "        'Date' : prediction_date_list,\n",
    "        'Adj Close' : prediction_price_list,\n",
    "        'Scaled_Close' : prediction_price_scaled_list\n",
    "    })\n",
    "\n",
    "    forcast_dataframe = forcast_dataframe.set_index('index', drop=True)\n",
    "    return forcast_dataframe"
   ]
  },
  {
   "cell_type": "code",
   "execution_count": 78,
   "metadata": {},
   "outputs": [],
   "source": [
    "dataset_forcast = predict_future_price(df, lookback_days, forcast_days, model, sc)"
   ]
  },
  {
   "cell_type": "code",
   "execution_count": 79,
   "metadata": {},
   "outputs": [
    {
     "data": {
      "text/html": [
       "<div>\n",
       "<style scoped>\n",
       "    .dataframe tbody tr th:only-of-type {\n",
       "        vertical-align: middle;\n",
       "    }\n",
       "\n",
       "    .dataframe tbody tr th {\n",
       "        vertical-align: top;\n",
       "    }\n",
       "\n",
       "    .dataframe thead th {\n",
       "        text-align: right;\n",
       "    }\n",
       "</style>\n",
       "<table border=\"1\" class=\"dataframe\">\n",
       "  <thead>\n",
       "    <tr style=\"text-align: right;\">\n",
       "      <th></th>\n",
       "      <th>Date</th>\n",
       "      <th>Adj Close</th>\n",
       "      <th>Scaled_Close</th>\n",
       "    </tr>\n",
       "    <tr>\n",
       "      <th>index</th>\n",
       "      <th></th>\n",
       "      <th></th>\n",
       "      <th></th>\n",
       "    </tr>\n",
       "  </thead>\n",
       "  <tbody>\n",
       "    <tr>\n",
       "      <th>5134</th>\n",
       "      <td>2020-06-01</td>\n",
       "      <td>317.731537</td>\n",
       "      <td>0.964153</td>\n",
       "    </tr>\n",
       "    <tr>\n",
       "      <th>5135</th>\n",
       "      <td>2020-06-02</td>\n",
       "      <td>317.460785</td>\n",
       "      <td>0.963338</td>\n",
       "    </tr>\n",
       "    <tr>\n",
       "      <th>5136</th>\n",
       "      <td>2020-06-03</td>\n",
       "      <td>317.387817</td>\n",
       "      <td>0.963118</td>\n",
       "    </tr>\n",
       "    <tr>\n",
       "      <th>5137</th>\n",
       "      <td>2020-06-04</td>\n",
       "      <td>317.329926</td>\n",
       "      <td>0.962943</td>\n",
       "    </tr>\n",
       "    <tr>\n",
       "      <th>5138</th>\n",
       "      <td>2020-06-05</td>\n",
       "      <td>317.215912</td>\n",
       "      <td>0.962600</td>\n",
       "    </tr>\n",
       "    <tr>\n",
       "      <th>5139</th>\n",
       "      <td>2020-06-08</td>\n",
       "      <td>316.777130</td>\n",
       "      <td>0.961279</td>\n",
       "    </tr>\n",
       "    <tr>\n",
       "      <th>5140</th>\n",
       "      <td>2020-06-09</td>\n",
       "      <td>316.086639</td>\n",
       "      <td>0.959200</td>\n",
       "    </tr>\n",
       "  </tbody>\n",
       "</table>\n",
       "</div>"
      ],
      "text/plain": [
       "            Date   Adj Close  Scaled_Close\n",
       "index                                     \n",
       "5134  2020-06-01  317.731537      0.964153\n",
       "5135  2020-06-02  317.460785      0.963338\n",
       "5136  2020-06-03  317.387817      0.963118\n",
       "5137  2020-06-04  317.329926      0.962943\n",
       "5138  2020-06-05  317.215912      0.962600\n",
       "5139  2020-06-08  316.777130      0.961279\n",
       "5140  2020-06-09  316.086639      0.959200"
      ]
     },
     "execution_count": 79,
     "metadata": {},
     "output_type": "execute_result"
    }
   ],
   "source": [
    "dataset_forcast"
   ]
  },
  {
   "cell_type": "code",
   "execution_count": null,
   "metadata": {},
   "outputs": [],
   "source": [
    "dataset_forcast_extend = dataset_test.append(dataset_forcast)"
   ]
  },
  {
   "cell_type": "code",
   "execution_count": 92,
   "metadata": {},
   "outputs": [
    {
     "data": {
      "image/png": "[encoded data removed]",
      "text/plain": [
       "<Figure size 1080x576 with 1 Axes>"
      ]
     },
     "metadata": {
      "needs_background": "light"
     },
     "output_type": "display_data"
    }
   ],
   "source": [
    "ax = dataset_forcast_extend.plot(x='Date', y=[\"Adj Close\"], \n",
    "                       title='AAPL', figsize=(15, 8), color=['blue'])\n",
    "\n",
    "# dataset_forcast.plot(ax=ax)\n",
    "ax.set_xlabel('Date')\n",
    "ax.set_ylabel('Price ($)')\n",
    "plt.legend(['True Price'], loc='upper left')\n",
    "plt.show()"
   ]
  },
  {
   "cell_type": "code",
   "execution_count": 88,
   "metadata": {},
   "outputs": [
    {
     "data": {
      "application/vnd.plotly.v1+json": {
       "config": {
        "plotlyServerURL": "https://plot.ly"
       },
       "data": [
        {
         "mode": "lines",
         "name": "True Price",
         "type": "scatter",
         "x": [
          "2019-04-22T00:00:00",
          "2019-04-23T00:00:00",
          "2019-04-24T00:00:00",
          "2019-04-25T00:00:00",
          "2019-04-26T00:00:00",
          "2019-04-29T00:00:00",
          "2019-04-30T00:00:00",
          "2019-05-01T00:00:00",
          "2019-05-02T00:00:00",
          "2019-05-03T00:00:00",
          "2019-05-06T00:00:00",
          "2019-05-07T00:00:00",
          "2019-05-08T00:00:00",
          "2019-05-09T00:00:00",
          "2019-05-10T00:00:00",
          "2019-05-13T00:00:00",
          "2019-05-14T00:00:00",
          "2019-05-15T00:00:00",
          "2019-05-16T00:00:00",
          "2019-05-17T00:00:00",
          "2019-05-20T00:00:00",
          "2019-05-21T00:00:00",
          "2019-05-22T00:00:00",
          "2019-05-23T00:00:00",
          "2019-05-24T00:00:00",
          "2019-05-28T00:00:00",
          "2019-05-29T00:00:00",
          "2019-05-30T00:00:00",
          "2019-05-31T00:00:00",
          "2019-06-03T00:00:00",
          "2019-06-04T00:00:00",
          "2019-06-05T00:00:00",
          "2019-06-06T00:00:00",
          "2019-06-07T00:00:00",
          "2019-06-10T00:00:00",
          "2019-06-11T00:00:00",
          "2019-06-12T00:00:00",
          "2019-06-13T00:00:00",
          "2019-06-14T00:00:00",
          "2019-06-17T00:00:00",
          "2019-06-18T00:00:00",
          "2019-06-19T00:00:00",
          "2019-06-20T00:00:00",
          "2019-06-21T00:00:00",
          "2019-06-24T00:00:00",
          "2019-06-25T00:00:00",
          "2019-06-26T00:00:00",
          "2019-06-27T00:00:00",
          "2019-06-28T00:00:00",
          "2019-07-01T00:00:00",
          "2019-07-02T00:00:00",
          "2019-07-03T00:00:00",
          "2019-07-05T00:00:00",
          "2019-07-08T00:00:00",
          "2019-07-09T00:00:00",
          "2019-07-10T00:00:00",
          "2019-07-11T00:00:00",
          "2019-07-12T00:00:00",
          "2019-07-15T00:00:00",
          "2019-07-16T00:00:00",
          "2019-07-17T00:00:00",
          "2019-07-18T00:00:00",
          "2019-07-19T00:00:00",
          "2019-07-22T00:00:00",
          "2019-07-23T00:00:00",
          "2019-07-24T00:00:00",
          "2019-07-25T00:00:00",
          "2019-07-26T00:00:00",
          "2019-07-29T00:00:00",
          "2019-07-30T00:00:00",
          "2019-07-31T00:00:00",
          "2019-08-01T00:00:00",
          "2019-08-02T00:00:00",
          "2019-08-05T00:00:00",
          "2019-08-06T00:00:00",
          "2019-08-07T00:00:00",
          "2019-08-08T00:00:00",
          "2019-08-09T00:00:00",
          "2019-08-12T00:00:00",
          "2019-08-13T00:00:00",
          "2019-08-14T00:00:00",
          "2019-08-15T00:00:00",
          "2019-08-16T00:00:00",
          "2019-08-19T00:00:00",
          "2019-08-20T00:00:00",
          "2019-08-21T00:00:00",
          "2019-08-22T00:00:00",
          "2019-08-23T00:00:00",
          "2019-08-26T00:00:00",
          "2019-08-27T00:00:00",
          "2019-08-28T00:00:00",
          "2019-08-29T00:00:00",
          "2019-08-30T00:00:00",
          "2019-09-03T00:00:00",
          "2019-09-04T00:00:00",
          "2019-09-05T00:00:00",
          "2019-09-06T00:00:00",
          "2019-09-09T00:00:00",
          "2019-09-10T00:00:00",
          "2019-09-11T00:00:00",
          "2019-09-12T00:00:00",
          "2019-09-13T00:00:00",
          "2019-09-16T00:00:00",
          "2019-09-17T00:00:00",
          "2019-09-18T00:00:00",
          "2019-09-19T00:00:00",
          "2019-09-20T00:00:00",
          "2019-09-23T00:00:00",
          "2019-09-24T00:00:00",
          "2019-09-25T00:00:00",
          "2019-09-26T00:00:00",
          "2019-09-27T00:00:00",
          "2019-09-30T00:00:00",
          "2019-10-01T00:00:00",
          "2019-10-02T00:00:00",
          "2019-10-03T00:00:00",
          "2019-10-04T00:00:00",
          "2019-10-07T00:00:00",
          "2019-10-08T00:00:00",
          "2019-10-09T00:00:00",
          "2019-10-10T00:00:00",
          "2019-10-11T00:00:00",
          "2019-10-14T00:00:00",
          "2019-10-15T00:00:00",
          "2019-10-16T00:00:00",
          "2019-10-17T00:00:00",
          "2019-10-18T00:00:00",
          "2019-10-21T00:00:00",
          "2019-10-22T00:00:00",
          "2019-10-23T00:00:00",
          "2019-10-24T00:00:00",
          "2019-10-25T00:00:00",
          "2019-10-28T00:00:00",
          "2019-10-29T00:00:00",
          "2019-10-30T00:00:00",
          "2019-10-31T00:00:00",
          "2019-11-01T00:00:00",
          "2019-11-04T00:00:00",
          "2019-11-05T00:00:00",
          "2019-11-06T00:00:00",
          "2019-11-07T00:00:00",
          "2019-11-08T00:00:00",
          "2019-11-11T00:00:00",
          "2019-11-12T00:00:00",
          "2019-11-13T00:00:00",
          "2019-11-14T00:00:00",
          "2019-11-15T00:00:00",
          "2019-11-18T00:00:00",
          "2019-11-19T00:00:00",
          "2019-11-20T00:00:00",
          "2019-11-21T00:00:00",
          "2019-11-22T00:00:00",
          "2019-11-25T00:00:00",
          "2019-11-26T00:00:00",
          "2019-11-27T00:00:00",
          "2019-11-29T00:00:00",
          "2019-12-02T00:00:00",
          "2019-12-03T00:00:00",
          "2019-12-04T00:00:00",
          "2019-12-05T00:00:00",
          "2019-12-06T00:00:00",
          "2019-12-09T00:00:00",
          "2019-12-10T00:00:00",
          "2019-12-11T00:00:00",
          "2019-12-12T00:00:00",
          "2019-12-13T00:00:00",
          "2019-12-16T00:00:00",
          "2019-12-17T00:00:00",
          "2019-12-18T00:00:00",
          "2019-12-19T00:00:00",
          "2019-12-20T00:00:00",
          "2019-12-23T00:00:00",
          "2019-12-24T00:00:00",
          "2019-12-26T00:00:00",
          "2019-12-27T00:00:00",
          "2019-12-30T00:00:00",
          "2019-12-31T00:00:00",
          "2020-01-02T00:00:00",
          "2020-01-03T00:00:00",
          "2020-01-06T00:00:00",
          "2020-01-07T00:00:00",
          "2020-01-08T00:00:00",
          "2020-01-09T00:00:00",
          "2020-01-10T00:00:00",
          "2020-01-13T00:00:00",
          "2020-01-14T00:00:00",
          "2020-01-15T00:00:00",
          "2020-01-16T00:00:00",
          "2020-01-17T00:00:00",
          "2020-01-21T00:00:00",
          "2020-01-22T00:00:00",
          "2020-01-23T00:00:00",
          "2020-01-24T00:00:00",
          "2020-01-27T00:00:00",
          "2020-01-28T00:00:00",
          "2020-01-29T00:00:00",
          "2020-01-30T00:00:00",
          "2020-01-31T00:00:00",
          "2020-02-03T00:00:00",
          "2020-02-04T00:00:00",
          "2020-02-05T00:00:00",
          "2020-02-06T00:00:00",
          "2020-02-07T00:00:00",
          "2020-02-10T00:00:00",
          "2020-02-11T00:00:00",
          "2020-02-12T00:00:00",
          "2020-02-13T00:00:00",
          "2020-02-14T00:00:00",
          "2020-02-18T00:00:00",
          "2020-02-19T00:00:00",
          "2020-02-20T00:00:00",
          "2020-02-21T00:00:00",
          "2020-02-24T00:00:00",
          "2020-02-25T00:00:00",
          "2020-02-26T00:00:00",
          "2020-02-27T00:00:00",
          "2020-02-28T00:00:00",
          "2020-03-02T00:00:00",
          "2020-03-03T00:00:00",
          "2020-03-04T00:00:00",
          "2020-03-05T00:00:00",
          "2020-03-06T00:00:00",
          "2020-03-09T00:00:00",
          "2020-03-10T00:00:00",
          "2020-03-11T00:00:00",
          "2020-03-12T00:00:00",
          "2020-03-13T00:00:00",
          "2020-03-16T00:00:00",
          "2020-03-17T00:00:00",
          "2020-03-18T00:00:00",
          "2020-03-19T00:00:00",
          "2020-03-20T00:00:00",
          "2020-03-23T00:00:00",
          "2020-03-24T00:00:00",
          "2020-03-25T00:00:00",
          "2020-03-26T00:00:00",
          "2020-03-27T00:00:00",
          "2020-03-30T00:00:00",
          "2020-03-31T00:00:00",
          "2020-04-01T00:00:00",
          "2020-04-02T00:00:00",
          "2020-04-03T00:00:00",
          "2020-04-06T00:00:00",
          "2020-04-07T00:00:00",
          "2020-04-08T00:00:00",
          "2020-04-09T00:00:00",
          "2020-04-13T00:00:00",
          "2020-04-14T00:00:00",
          "2020-04-15T00:00:00",
          "2020-04-16T00:00:00",
          "2020-04-17T00:00:00",
          "2020-04-20T00:00:00",
          "2020-04-21T00:00:00",
          "2020-04-22T00:00:00",
          "2020-04-23T00:00:00",
          "2020-04-24T00:00:00",
          "2020-04-27T00:00:00",
          "2020-04-28T00:00:00",
          "2020-04-29T00:00:00",
          "2020-04-30T00:00:00",
          "2020-05-01T00:00:00",
          "2020-05-04T00:00:00",
          "2020-05-05T00:00:00",
          "2020-05-06T00:00:00",
          "2020-05-07T00:00:00",
          "2020-05-08T00:00:00",
          "2020-05-11T00:00:00",
          "2020-05-12T00:00:00",
          "2020-05-13T00:00:00",
          "2020-05-14T00:00:00",
          "2020-05-15T00:00:00",
          "2020-05-18T00:00:00",
          "2020-05-19T00:00:00",
          "2020-05-20T00:00:00",
          "2020-05-21T00:00:00",
          "2020-05-22T00:00:00",
          "2020-05-26T00:00:00",
          "2020-05-27T00:00:00",
          "2020-05-28T00:00:00",
          "2020-05-29T00:00:00"
         ],
         "y": [
          201.34246826171875,
          204.24647521972656,
          203.9314727783203,
          202.08078002929688,
          201.1160430908203,
          201.4212188720703,
          197.54261779785156,
          207.23912048339844,
          205.8904571533203,
          208.449951171875,
          205.2309112548828,
          199.69850158691406,
          199.73785400390625,
          197.59182739257812,
          194.85450744628906,
          183.52967834472656,
          186.43499755859375,
          188.6683349609375,
          187.8382568359375,
          186.77099609375,
          180.93069458007812,
          184.39930725097656,
          180.62432861328125,
          177.5411376953125,
          176.85928344726562,
          176.1280059814453,
          175.28802490234375,
          176.1971893310547,
          173.00527954101562,
          171.25613403320312,
          177.52137756347656,
          180.38714599609375,
          183.0355682373047,
          187.90740966796875,
          190.3087615966797,
          192.512451171875,
          191.8997802734375,
          191.8602294921875,
          190.4668731689453,
          191.6033172607422,
          196.10952758789062,
          195.536376953125,
          197.1076202392578,
          196.4356231689453,
          196.2379913330078,
          193.2635040283203,
          197.44361877441406,
          197.3843231201172,
          195.5857696533203,
          199.17298889160156,
          200.33905029296875,
          201.99923706054688,
          201.82135009765625,
          197.6610107421875,
          198.86663818359375,
          200.83316040039062,
          199.37062072753906,
          200.90234375,
          202.78981018066406,
          202.0881805419922,
          200.9517364501953,
          203.2344970703125,
          200.20069885253906,
          204.77610778808594,
          206.37698364257812,
          206.20901489257812,
          204.57847595214844,
          205.28997802734375,
          207.2070770263672,
          206.31768798828125,
          210.5274658203125,
          205.97181701660156,
          201.6138458251953,
          191.05978393554688,
          194.67662048339844,
          196.69256591796875,
          201.03079223632812,
          199.3742218017578,
          198.86831665039062,
          207.2900848388672,
          201.1200714111328,
          200.11819458007812,
          204.8399200439453,
          208.6589813232422,
          208.6688995361328,
          210.93057250976562,
          210.7520294189453,
          201.01097106933594,
          204.8300018310547,
          202.51873779296875,
          203.8777313232422,
          207.32974243164062,
          207.06192016601562,
          204.0463409423828,
          207.50831604003906,
          211.56541442871094,
          211.5455780029297,
          212.44827270507812,
          214.95791625976562,
          221.79254150390625,
          221.2965545654297,
          216.991455078125,
          218.1322021484375,
          218.92578125,
          220.97914123535156,
          219.18370056152344,
          215.97962951660156,
          216.96168518066406,
          215.93003845214844,
          219.25311279296875,
          218.12228393554688,
          217.06089782714844,
          222.1694793701172,
          222.7845001220703,
          217.19976806640625,
          219.0447998046875,
          225.18504333496094,
          225.23463439941406,
          222.5960235595703,
          225.20489501953125,
          228.2402801513672,
          234.3110809326172,
          233.97381591796875,
          233.42825317382812,
          232.48587036132812,
          233.38856506347656,
          234.50949096679688,
          238.57650756835938,
          238.03094482421875,
          241.2250518798828,
          241.621826171875,
          244.59771728515625,
          247.04786682128906,
          241.3341522216797,
          241.3043975830078,
          246.76019287109375,
          253.76344299316406,
          255.429931640625,
          255.06292724609375,
          255.17201232910156,
          258.11700439453125,
          258.8234558105469,
          260.8730163574219,
          260.63421630859375,
          263.13153076171875,
          261.310791015625,
          264.4150085449219,
          265.74822998046875,
          264.94232177734375,
          261.8580322265625,
          260.6839904785156,
          260.45513916015625,
          265.02191162109375,
          262.9524230957031,
          266.4844665527344,
          265.8974609375,
          262.8230895996094,
          258.136962890625,
          260.41534423828125,
          264.23590087890625,
          269.3399353027344,
          265.5691223144531,
          267.1212463378906,
          269.399658203125,
          270.0861511230469,
          273.7574768066406,
          278.443603515625,
          278.9908752441406,
          278.3242492675781,
          278.6028137207031,
          278.0257568359375,
          282.56268310546875,
          282.831298828125,
          288.4427795410156,
          288.33331298828125,
          290.04461669921875,
          292.163818359375,
          298.8299560546875,
          295.9247131347656,
          298.28271484375,
          296.8798828125,
          301.6555480957031,
          308.06298828125,
          308.7593994140625,
          315.3558654785156,
          311.0975341796875,
          309.7643127441406,
          313.6445617675781,
          317.116943359375,
          314.9678649902344,
          316.0921630859375,
          317.6144104003906,
          316.69903564453125,
          307.38641357421875,
          316.0821838378906,
          322.6985168457031,
          322.23089599609375,
          307.943603515625,
          307.097900390625,
          317.2362976074219,
          319.82318115234375,
          323.5641174316406,
          319.166015625,
          320.6819152832031,
          318.74713134765625,
          326.3166809082031,
          323.9929504394531,
          324.07275390625,
          318.1387939453125,
          322.746337890625,
          319.4352722167969,
          312.2048645019531,
          297.375,
          287.3022766113281,
          291.85992431640625,
          272.7815856933594,
          272.62200927734375,
          298.0032958984375,
          288.5389404296875,
          301.9226989746094,
          292.12921142578125,
          288.2497253417969,
          265.4514465332031,
          284.5696716308594,
          274.6864318847656,
          247.5598602294922,
          277.2195739746094,
          241.55612182617188,
          252.1773681640625,
          246.0040740966797,
          244.11917114257812,
          228.6211395263672,
          223.76426696777344,
          246.21351623535156,
          244.857177734375,
          257.7423095703125,
          247.07118225097656,
          254.12210083007812,
          253.60350036621094,
          240.25962829589844,
          244.26876831054688,
          240.75827026367188,
          261.76141357421875,
          258.7296142578125,
          265.3517150878906,
          267.2665100097656,
          272.5123291015625,
          286.2750549316406,
          283.6621398925781,
          285.9160461425781,
          282.0365295410156,
          276.182373046875,
          267.6454772949219,
          275.3546142578125,
          274.2875061035156,
          282.2060852050781,
          282.4055480957031,
          277.8279113769531,
          286.9532470703125,
          293.0068359375,
          288.28961181640625,
          292.3685607910156,
          296.7566833496094,
          299.8183898925781,
          302.91998291015625,
          310.1300048828125,
          315.010009765625,
          311.4100036621094,
          307.6499938964844,
          309.5400085449219,
          307.7099914550781,
          314.9599914550781,
          313.1400146484375,
          319.2300109863281,
          316.8500061035156,
          318.8900146484375,
          316.7300109863281,
          318.1099853515625,
          318.25,
          317.94000244140625
         ]
        },
        {
         "line": {
          "color": "green",
          "dash": "dot",
          "width": 1
         },
         "name": "Forcasting",
         "type": "scatter",
         "x": [
          "2020-06-01T00:00:00",
          "2020-06-02T00:00:00",
          "2020-06-03T00:00:00",
          "2020-06-04T00:00:00",
          "2020-06-05T00:00:00",
          "2020-06-08T00:00:00",
          "2020-06-09T00:00:00"
         ],
         "y": [
          317.7315368652344,
          317.4607849121094,
          317.3878173828125,
          317.3299255371094,
          317.2159118652344,
          316.7771301269531,
          316.0866394042969
         ]
        }
       ],
       "layout": {
        "template": {
         "data": {
          "bar": [
           {
            "error_x": {
             "color": "#2a3f5f"
            },
            "error_y": {
             "color": "#2a3f5f"
            },
            "marker": {
             "line": {
              "color": "#E5ECF6",
              "width": 0.5
             }
            },
            "type": "bar"
           }
          ],
          "barpolar": [
           {
            "marker": {
             "line": {
              "color": "#E5ECF6",
              "width": 0.5
             }
            },
            "type": "barpolar"
           }
          ],
          "carpet": [
           {
            "aaxis": {
             "endlinecolor": "#2a3f5f",
             "gridcolor": "white",
             "linecolor": "white",
             "minorgridcolor": "white",
             "startlinecolor": "#2a3f5f"
            },
            "baxis": {
             "endlinecolor": "#2a3f5f",
             "gridcolor": "white",
             "linecolor": "white",
             "minorgridcolor": "white",
             "startlinecolor": "#2a3f5f"
            },
            "type": "carpet"
           }
          ],
          "choropleth": [
           {
            "colorbar": {
             "outlinewidth": 0,
             "ticks": ""
            },
            "type": "choropleth"
           }
          ],
          "contour": [
           {
            "colorbar": {
             "outlinewidth": 0,
             "ticks": ""
            },
            "colorscale": [
             [
              0,
              "#0d0887"
             ],
             [
              0.1111111111111111,
              "#46039f"
             ],
             [
              0.2222222222222222,
              "#7201a8"
             ],
             [
              0.3333333333333333,
              "#9c179e"
             ],
             [
              0.4444444444444444,
              "#bd3786"
             ],
             [
              0.5555555555555556,
              "#d8576b"
             ],
             [
              0.6666666666666666,
              "#ed7953"
             ],
             [
              0.7777777777777778,
              "#fb9f3a"
             ],
             [
              0.8888888888888888,
              "#fdca26"
             ],
             [
              1,
              "#f0f921"
             ]
            ],
            "type": "contour"
           }
          ],
          "contourcarpet": [
           {
            "colorbar": {
             "outlinewidth": 0,
             "ticks": ""
            },
            "type": "contourcarpet"
           }
          ],
          "heatmap": [
           {
            "colorbar": {
             "outlinewidth": 0,
             "ticks": ""
            },
            "colorscale": [
             [
              0,
              "#0d0887"
             ],
             [
              0.1111111111111111,
              "#46039f"
             ],
             [
              0.2222222222222222,
              "#7201a8"
             ],
             [
              0.3333333333333333,
              "#9c179e"
             ],
             [
              0.4444444444444444,
              "#bd3786"
             ],
             [
              0.5555555555555556,
              "#d8576b"
             ],
             [
              0.6666666666666666,
              "#ed7953"
             ],
             [
              0.7777777777777778,
              "#fb9f3a"
             ],
             [
              0.8888888888888888,
              "#fdca26"
             ],
             [
              1,
              "#f0f921"
             ]
            ],
            "type": "heatmap"
           }
          ],
          "heatmapgl": [
           {
            "colorbar": {
             "outlinewidth": 0,
             "ticks": ""
            },
            "colorscale": [
             [
              0,
              "#0d0887"
             ],
             [
              0.1111111111111111,
              "#46039f"
             ],
             [
              0.2222222222222222,
              "#7201a8"
             ],
             [
              0.3333333333333333,
              "#9c179e"
             ],
             [
              0.4444444444444444,
              "#bd3786"
             ],
             [
              0.5555555555555556,
              "#d8576b"
             ],
             [
              0.6666666666666666,
              "#ed7953"
             ],
             [
              0.7777777777777778,
              "#fb9f3a"
             ],
             [
              0.8888888888888888,
              "#fdca26"
             ],
             [
              1,
              "#f0f921"
             ]
            ],
            "type": "heatmapgl"
           }
          ],
          "histogram": [
           {
            "marker": {
             "colorbar": {
              "outlinewidth": 0,
              "ticks": ""
             }
            },
            "type": "histogram"
           }
          ],
          "histogram2d": [
           {
            "colorbar": {
             "outlinewidth": 0,
             "ticks": ""
            },
            "colorscale": [
             [
              0,
              "#0d0887"
             ],
             [
              0.1111111111111111,
              "#46039f"
             ],
             [
              0.2222222222222222,
              "#7201a8"
             ],
             [
              0.3333333333333333,
              "#9c179e"
             ],
             [
              0.4444444444444444,
              "#bd3786"
             ],
             [
              0.5555555555555556,
              "#d8576b"
             ],
             [
              0.6666666666666666,
              "#ed7953"
             ],
             [
              0.7777777777777778,
              "#fb9f3a"
             ],
             [
              0.8888888888888888,
              "#fdca26"
             ],
             [
              1,
              "#f0f921"
             ]
            ],
            "type": "histogram2d"
           }
          ],
          "histogram2dcontour": [
           {
            "colorbar": {
             "outlinewidth": 0,
             "ticks": ""
            },
            "colorscale": [
             [
              0,
              "#0d0887"
             ],
             [
              0.1111111111111111,
              "#46039f"
             ],
             [
              0.2222222222222222,
              "#7201a8"
             ],
             [
              0.3333333333333333,
              "#9c179e"
             ],
             [
              0.4444444444444444,
              "#bd3786"
             ],
             [
              0.5555555555555556,
              "#d8576b"
             ],
             [
              0.6666666666666666,
              "#ed7953"
             ],
             [
              0.7777777777777778,
              "#fb9f3a"
             ],
             [
              0.8888888888888888,
              "#fdca26"
             ],
             [
              1,
              "#f0f921"
             ]
            ],
            "type": "histogram2dcontour"
           }
          ],
          "mesh3d": [
           {
            "colorbar": {
             "outlinewidth": 0,
             "ticks": ""
            },
            "type": "mesh3d"
           }
          ],
          "parcoords": [
           {
            "line": {
             "colorbar": {
              "outlinewidth": 0,
              "ticks": ""
             }
            },
            "type": "parcoords"
           }
          ],
          "pie": [
           {
            "automargin": true,
            "type": "pie"
           }
          ],
          "scatter": [
           {
            "marker": {
             "colorbar": {
              "outlinewidth": 0,
              "ticks": ""
             }
            },
            "type": "scatter"
           }
          ],
          "scatter3d": [
           {
            "line": {
             "colorbar": {
              "outlinewidth": 0,
              "ticks": ""
             }
            },
            "marker": {
             "colorbar": {
              "outlinewidth": 0,
              "ticks": ""
             }
            },
            "type": "scatter3d"
           }
          ],
          "scattercarpet": [
           {
            "marker": {
             "colorbar": {
              "outlinewidth": 0,
              "ticks": ""
             }
            },
            "type": "scattercarpet"
           }
          ],
          "scattergeo": [
           {
            "marker": {
             "colorbar": {
              "outlinewidth": 0,
              "ticks": ""
             }
            },
            "type": "scattergeo"
           }
          ],
          "scattergl": [
           {
            "marker": {
             "colorbar": {
              "outlinewidth": 0,
              "ticks": ""
             }
            },
            "type": "scattergl"
           }
          ],
          "scattermapbox": [
           {
            "marker": {
             "colorbar": {
              "outlinewidth": 0,
              "ticks": ""
             }
            },
            "type": "scattermapbox"
           }
          ],
          "scatterpolar": [
           {
            "marker": {
             "colorbar": {
              "outlinewidth": 0,
              "ticks": ""
             }
            },
            "type": "scatterpolar"
           }
          ],
          "scatterpolargl": [
           {
            "marker": {
             "colorbar": {
              "outlinewidth": 0,
              "ticks": ""
             }
            },
            "type": "scatterpolargl"
           }
          ],
          "scatterternary": [
           {
            "marker": {
             "colorbar": {
              "outlinewidth": 0,
              "ticks": ""
             }
            },
            "type": "scatterternary"
           }
          ],
          "surface": [
           {
            "colorbar": {
             "outlinewidth": 0,
             "ticks": ""
            },
            "colorscale": [
             [
              0,
              "#0d0887"
             ],
             [
              0.1111111111111111,
              "#46039f"
             ],
             [
              0.2222222222222222,
              "#7201a8"
             ],
             [
              0.3333333333333333,
              "#9c179e"
             ],
             [
              0.4444444444444444,
              "#bd3786"
             ],
             [
              0.5555555555555556,
              "#d8576b"
             ],
             [
              0.6666666666666666,
              "#ed7953"
             ],
             [
              0.7777777777777778,
              "#fb9f3a"
             ],
             [
              0.8888888888888888,
              "#fdca26"
             ],
             [
              1,
              "#f0f921"
             ]
            ],
            "type": "surface"
           }
          ],
          "table": [
           {
            "cells": {
             "fill": {
              "color": "#EBF0F8"
             },
             "line": {
              "color": "white"
             }
            },
            "header": {
             "fill": {
              "color": "#C8D4E3"
             },
             "line": {
              "color": "white"
             }
            },
            "type": "table"
           }
          ]
         },
         "layout": {
          "annotationdefaults": {
           "arrowcolor": "#2a3f5f",
           "arrowhead": 0,
           "arrowwidth": 1
          },
          "coloraxis": {
           "colorbar": {
            "outlinewidth": 0,
            "ticks": ""
           }
          },
          "colorscale": {
           "diverging": [
            [
             0,
             "#8e0152"
            ],
            [
             0.1,
             "#c51b7d"
            ],
            [
             0.2,
             "#de77ae"
            ],
            [
             0.3,
             "#f1b6da"
            ],
            [
             0.4,
             "#fde0ef"
            ],
            [
             0.5,
             "#f7f7f7"
            ],
            [
             0.6,
             "#e6f5d0"
            ],
            [
             0.7,
             "#b8e186"
            ],
            [
             0.8,
             "#7fbc41"
            ],
            [
             0.9,
             "#4d9221"
            ],
            [
             1,
             "#276419"
            ]
           ],
           "sequential": [
            [
             0,
             "#0d0887"
            ],
            [
             0.1111111111111111,
             "#46039f"
            ],
            [
             0.2222222222222222,
             "#7201a8"
            ],
            [
             0.3333333333333333,
             "#9c179e"
            ],
            [
             0.4444444444444444,
             "#bd3786"
            ],
            [
             0.5555555555555556,
             "#d8576b"
            ],
            [
             0.6666666666666666,
             "#ed7953"
            ],
            [
             0.7777777777777778,
             "#fb9f3a"
            ],
            [
             0.8888888888888888,
             "#fdca26"
            ],
            [
             1,
             "#f0f921"
            ]
           ],
           "sequentialminus": [
            [
             0,
             "#0d0887"
            ],
            [
             0.1111111111111111,
             "#46039f"
            ],
            [
             0.2222222222222222,
             "#7201a8"
            ],
            [
             0.3333333333333333,
             "#9c179e"
            ],
            [
             0.4444444444444444,
             "#bd3786"
            ],
            [
             0.5555555555555556,
             "#d8576b"
            ],
            [
             0.6666666666666666,
             "#ed7953"
            ],
            [
             0.7777777777777778,
             "#fb9f3a"
            ],
            [
             0.8888888888888888,
             "#fdca26"
            ],
            [
             1,
             "#f0f921"
            ]
           ]
          },
          "colorway": [
           "#636efa",
           "#EF553B",
           "#00cc96",
           "#ab63fa",
           "#FFA15A",
           "#19d3f3",
           "#FF6692",
           "#B6E880",
           "#FF97FF",
           "#FECB52"
          ],
          "font": {
           "color": "#2a3f5f"
          },
          "geo": {
           "bgcolor": "white",
           "lakecolor": "white",
           "landcolor": "#E5ECF6",
           "showlakes": true,
           "showland": true,
           "subunitcolor": "white"
          },
          "hoverlabel": {
           "align": "left"
          },
          "hovermode": "closest",
          "mapbox": {
           "style": "light"
          },
          "paper_bgcolor": "white",
          "plot_bgcolor": "#E5ECF6",
          "polar": {
           "angularaxis": {
            "gridcolor": "white",
            "linecolor": "white",
            "ticks": ""
           },
           "bgcolor": "#E5ECF6",
           "radialaxis": {
            "gridcolor": "white",
            "linecolor": "white",
            "ticks": ""
           }
          },
          "scene": {
           "xaxis": {
            "backgroundcolor": "#E5ECF6",
            "gridcolor": "white",
            "gridwidth": 2,
            "linecolor": "white",
            "showbackground": true,
            "ticks": "",
            "zerolinecolor": "white"
           },
           "yaxis": {
            "backgroundcolor": "#E5ECF6",
            "gridcolor": "white",
            "gridwidth": 2,
            "linecolor": "white",
            "showbackground": true,
            "ticks": "",
            "zerolinecolor": "white"
           },
           "zaxis": {
            "backgroundcolor": "#E5ECF6",
            "gridcolor": "white",
            "gridwidth": 2,
            "linecolor": "white",
            "showbackground": true,
            "ticks": "",
            "zerolinecolor": "white"
           }
          },
          "shapedefaults": {
           "line": {
            "color": "#2a3f5f"
           }
          },
          "ternary": {
           "aaxis": {
            "gridcolor": "white",
            "linecolor": "white",
            "ticks": ""
           },
           "baxis": {
            "gridcolor": "white",
            "linecolor": "white",
            "ticks": ""
           },
           "bgcolor": "#E5ECF6",
           "caxis": {
            "gridcolor": "white",
            "linecolor": "white",
            "ticks": ""
           }
          },
          "title": {
           "x": 0.05
          },
          "xaxis": {
           "automargin": true,
           "gridcolor": "white",
           "linecolor": "white",
           "ticks": "",
           "title": {
            "standoff": 15
           },
           "zerolinecolor": "white",
           "zerolinewidth": 2
          },
          "yaxis": {
           "automargin": true,
           "gridcolor": "white",
           "linecolor": "white",
           "ticks": "",
           "title": {
            "standoff": 15
           },
           "zerolinecolor": "white",
           "zerolinewidth": 2
          }
         }
        },
        "title": {
         "text": "AAPL Stock"
        },
        "xaxis": {
         "range": [
          "2019-04-01T00:00:00",
          "2020-06-30T00:00:00"
         ],
         "title": {
          "text": "Date"
         }
        },
        "yaxis": {
         "title": {
          "text": "Adj Close ($)"
         }
        }
       }
      },
      "text/html": [
       "<div>\n",
       "        \n",
       "        \n",
       "            <div id=\"6c69555c-a083-4a45-a97f-9830a5cf5bdd\" class=\"plotly-graph-div\" style=\"height:525px; width:100%;\"></div>\n",
       "            <script type=\"text/javascript\">\n",
       "                require([\"plotly\"], function(Plotly) {\n",
       "                    window.PLOTLYENV=window.PLOTLYENV || {};\n",
       "                    \n",
       "                if (document.getElementById(\"6c69555c-a083-4a45-a97f-9830a5cf5bdd\")) {\n",
       "                    Plotly.newPlot(\n",
       "                        '6c69555c-a083-4a45-a97f-9830a5cf5bdd',\n",
       "                        [{\"mode\": \"lines\", \"name\": \"True Price\", \"type\": \"scatter\", \"x\": [\"2019-04-22T00:00:00\", \"2019-04-23T00:00:00\", \"2019-04-24T00:00:00\", \"2019-04-25T00:00:00\", \"2019-04-26T00:00:00\", \"2019-04-29T00:00:00\", \"2019-04-30T00:00:00\", \"2019-05-01T00:00:00\", \"2019-05-02T00:00:00\", \"2019-05-03T00:00:00\", \"2019-05-06T00:00:00\", \"2019-05-07T00:00:00\", \"2019-05-08T00:00:00\", \"2019-05-09T00:00:00\", \"2019-05-10T00:00:00\", \"2019-05-13T00:00:00\", \"2019-05-14T00:00:00\", \"2019-05-15T00:00:00\", \"2019-05-16T00:00:00\", \"2019-05-17T00:00:00\", \"2019-05-20T00:00:00\", \"2019-05-21T00:00:00\", \"2019-05-22T00:00:00\", \"2019-05-23T00:00:00\", \"2019-05-24T00:00:00\", \"2019-05-28T00:00:00\", \"2019-05-29T00:00:00\", \"2019-05-30T00:00:00\", \"2019-05-31T00:00:00\", \"2019-06-03T00:00:00\", \"2019-06-04T00:00:00\", \"2019-06-05T00:00:00\", \"2019-06-06T00:00:00\", \"2019-06-07T00:00:00\", \"2019-06-10T00:00:00\", \"2019-06-11T00:00:00\", \"2019-06-12T00:00:00\", \"2019-06-13T00:00:00\", \"2019-06-14T00:00:00\", \"2019-06-17T00:00:00\", \"2019-06-18T00:00:00\", \"2019-06-19T00:00:00\", \"2019-06-20T00:00:00\", \"2019-06-21T00:00:00\", \"2019-06-24T00:00:00\", \"2019-06-25T00:00:00\", \"2019-06-26T00:00:00\", \"2019-06-27T00:00:00\", \"2019-06-28T00:00:00\", \"2019-07-01T00:00:00\", \"2019-07-02T00:00:00\", \"2019-07-03T00:00:00\", \"2019-07-05T00:00:00\", \"2019-07-08T00:00:00\", \"2019-07-09T00:00:00\", \"2019-07-10T00:00:00\", \"2019-07-11T00:00:00\", \"2019-07-12T00:00:00\", \"2019-07-15T00:00:00\", \"2019-07-16T00:00:00\", \"2019-07-17T00:00:00\", \"2019-07-18T00:00:00\", \"2019-07-19T00:00:00\", \"2019-07-22T00:00:00\", \"2019-07-23T00:00:00\", \"2019-07-24T00:00:00\", \"2019-07-25T00:00:00\", \"2019-07-26T00:00:00\", \"2019-07-29T00:00:00\", \"2019-07-30T00:00:00\", \"2019-07-31T00:00:00\", \"2019-08-01T00:00:00\", \"2019-08-02T00:00:00\", \"2019-08-05T00:00:00\", \"2019-08-06T00:00:00\", \"2019-08-07T00:00:00\", \"2019-08-08T00:00:00\", \"2019-08-09T00:00:00\", \"2019-08-12T00:00:00\", \"2019-08-13T00:00:00\", \"2019-08-14T00:00:00\", \"2019-08-15T00:00:00\", \"2019-08-16T00:00:00\", \"2019-08-19T00:00:00\", \"2019-08-20T00:00:00\", \"2019-08-21T00:00:00\", \"2019-08-22T00:00:00\", \"2019-08-23T00:00:00\", \"2019-08-26T00:00:00\", \"2019-08-27T00:00:00\", \"2019-08-28T00:00:00\", \"2019-08-29T00:00:00\", \"2019-08-30T00:00:00\", \"2019-09-03T00:00:00\", \"2019-09-04T00:00:00\", \"2019-09-05T00:00:00\", \"2019-09-06T00:00:00\", \"2019-09-09T00:00:00\", \"2019-09-10T00:00:00\", \"2019-09-11T00:00:00\", \"2019-09-12T00:00:00\", \"2019-09-13T00:00:00\", \"2019-09-16T00:00:00\", \"2019-09-17T00:00:00\", \"2019-09-18T00:00:00\", \"2019-09-19T00:00:00\", \"2019-09-20T00:00:00\", \"2019-09-23T00:00:00\", \"2019-09-24T00:00:00\", \"2019-09-25T00:00:00\", \"2019-09-26T00:00:00\", \"2019-09-27T00:00:00\", \"2019-09-30T00:00:00\", \"2019-10-01T00:00:00\", \"2019-10-02T00:00:00\", \"2019-10-03T00:00:00\", \"2019-10-04T00:00:00\", \"2019-10-07T00:00:00\", \"2019-10-08T00:00:00\", \"2019-10-09T00:00:00\", \"2019-10-10T00:00:00\", \"2019-10-11T00:00:00\", \"2019-10-14T00:00:00\", \"2019-10-15T00:00:00\", \"2019-10-16T00:00:00\", \"2019-10-17T00:00:00\", \"2019-10-18T00:00:00\", \"2019-10-21T00:00:00\", \"2019-10-22T00:00:00\", \"2019-10-23T00:00:00\", \"2019-10-24T00:00:00\", \"2019-10-25T00:00:00\", \"2019-10-28T00:00:00\", \"2019-10-29T00:00:00\", \"2019-10-30T00:00:00\", \"2019-10-31T00:00:00\", \"2019-11-01T00:00:00\", \"2019-11-04T00:00:00\", \"2019-11-05T00:00:00\", \"2019-11-06T00:00:00\", \"2019-11-07T00:00:00\", \"2019-11-08T00:00:00\", \"2019-11-11T00:00:00\", \"2019-11-12T00:00:00\", \"2019-11-13T00:00:00\", \"2019-11-14T00:00:00\", \"2019-11-15T00:00:00\", \"2019-11-18T00:00:00\", \"2019-11-19T00:00:00\", \"2019-11-20T00:00:00\", \"2019-11-21T00:00:00\", \"2019-11-22T00:00:00\", \"2019-11-25T00:00:00\", \"2019-11-26T00:00:00\", \"2019-11-27T00:00:00\", \"2019-11-29T00:00:00\", \"2019-12-02T00:00:00\", \"2019-12-03T00:00:00\", \"2019-12-04T00:00:00\", \"2019-12-05T00:00:00\", \"2019-12-06T00:00:00\", \"2019-12-09T00:00:00\", \"2019-12-10T00:00:00\", \"2019-12-11T00:00:00\", \"2019-12-12T00:00:00\", \"2019-12-13T00:00:00\", \"2019-12-16T00:00:00\", \"2019-12-17T00:00:00\", \"2019-12-18T00:00:00\", \"2019-12-19T00:00:00\", \"2019-12-20T00:00:00\", \"2019-12-23T00:00:00\", \"2019-12-24T00:00:00\", \"2019-12-26T00:00:00\", \"2019-12-27T00:00:00\", \"2019-12-30T00:00:00\", \"2019-12-31T00:00:00\", \"2020-01-02T00:00:00\", \"2020-01-03T00:00:00\", \"2020-01-06T00:00:00\", \"2020-01-07T00:00:00\", \"2020-01-08T00:00:00\", \"2020-01-09T00:00:00\", \"2020-01-10T00:00:00\", \"2020-01-13T00:00:00\", \"2020-01-14T00:00:00\", \"2020-01-15T00:00:00\", \"2020-01-16T00:00:00\", \"2020-01-17T00:00:00\", \"2020-01-21T00:00:00\", \"2020-01-22T00:00:00\", \"2020-01-23T00:00:00\", \"2020-01-24T00:00:00\", \"2020-01-27T00:00:00\", \"2020-01-28T00:00:00\", \"2020-01-29T00:00:00\", \"2020-01-30T00:00:00\", \"2020-01-31T00:00:00\", \"2020-02-03T00:00:00\", \"2020-02-04T00:00:00\", \"2020-02-05T00:00:00\", \"2020-02-06T00:00:00\", \"2020-02-07T00:00:00\", \"2020-02-10T00:00:00\", \"2020-02-11T00:00:00\", \"2020-02-12T00:00:00\", \"2020-02-13T00:00:00\", \"2020-02-14T00:00:00\", \"2020-02-18T00:00:00\", \"2020-02-19T00:00:00\", \"2020-02-20T00:00:00\", \"2020-02-21T00:00:00\", \"2020-02-24T00:00:00\", \"2020-02-25T00:00:00\", \"2020-02-26T00:00:00\", \"2020-02-27T00:00:00\", \"2020-02-28T00:00:00\", \"2020-03-02T00:00:00\", \"2020-03-03T00:00:00\", \"2020-03-04T00:00:00\", \"2020-03-05T00:00:00\", \"2020-03-06T00:00:00\", \"2020-03-09T00:00:00\", \"2020-03-10T00:00:00\", \"2020-03-11T00:00:00\", \"2020-03-12T00:00:00\", \"2020-03-13T00:00:00\", \"2020-03-16T00:00:00\", \"2020-03-17T00:00:00\", \"2020-03-18T00:00:00\", \"2020-03-19T00:00:00\", \"2020-03-20T00:00:00\", \"2020-03-23T00:00:00\", \"2020-03-24T00:00:00\", \"2020-03-25T00:00:00\", \"2020-03-26T00:00:00\", \"2020-03-27T00:00:00\", \"2020-03-30T00:00:00\", \"2020-03-31T00:00:00\", \"2020-04-01T00:00:00\", \"2020-04-02T00:00:00\", \"2020-04-03T00:00:00\", \"2020-04-06T00:00:00\", \"2020-04-07T00:00:00\", \"2020-04-08T00:00:00\", \"2020-04-09T00:00:00\", \"2020-04-13T00:00:00\", \"2020-04-14T00:00:00\", \"2020-04-15T00:00:00\", \"2020-04-16T00:00:00\", \"2020-04-17T00:00:00\", \"2020-04-20T00:00:00\", \"2020-04-21T00:00:00\", \"2020-04-22T00:00:00\", \"2020-04-23T00:00:00\", \"2020-04-24T00:00:00\", \"2020-04-27T00:00:00\", \"2020-04-28T00:00:00\", \"2020-04-29T00:00:00\", \"2020-04-30T00:00:00\", \"2020-05-01T00:00:00\", \"2020-05-04T00:00:00\", \"2020-05-05T00:00:00\", \"2020-05-06T00:00:00\", \"2020-05-07T00:00:00\", \"2020-05-08T00:00:00\", \"2020-05-11T00:00:00\", \"2020-05-12T00:00:00\", \"2020-05-13T00:00:00\", \"2020-05-14T00:00:00\", \"2020-05-15T00:00:00\", \"2020-05-18T00:00:00\", \"2020-05-19T00:00:00\", \"2020-05-20T00:00:00\", \"2020-05-21T00:00:00\", \"2020-05-22T00:00:00\", \"2020-05-26T00:00:00\", \"2020-05-27T00:00:00\", \"2020-05-28T00:00:00\", \"2020-05-29T00:00:00\"], \"y\": [201.34246826171875, 204.24647521972656, 203.9314727783203, 202.08078002929688, 201.1160430908203, 201.4212188720703, 197.54261779785156, 207.23912048339844, 205.8904571533203, 208.449951171875, 205.2309112548828, 199.69850158691406, 199.73785400390625, 197.59182739257812, 194.85450744628906, 183.52967834472656, 186.43499755859375, 188.6683349609375, 187.8382568359375, 186.77099609375, 180.93069458007812, 184.39930725097656, 180.62432861328125, 177.5411376953125, 176.85928344726562, 176.1280059814453, 175.28802490234375, 176.1971893310547, 173.00527954101562, 171.25613403320312, 177.52137756347656, 180.38714599609375, 183.0355682373047, 187.90740966796875, 190.3087615966797, 192.512451171875, 191.8997802734375, 191.8602294921875, 190.4668731689453, 191.6033172607422, 196.10952758789062, 195.536376953125, 197.1076202392578, 196.4356231689453, 196.2379913330078, 193.2635040283203, 197.44361877441406, 197.3843231201172, 195.5857696533203, 199.17298889160156, 200.33905029296875, 201.99923706054688, 201.82135009765625, 197.6610107421875, 198.86663818359375, 200.83316040039062, 199.37062072753906, 200.90234375, 202.78981018066406, 202.0881805419922, 200.9517364501953, 203.2344970703125, 200.20069885253906, 204.77610778808594, 206.37698364257812, 206.20901489257812, 204.57847595214844, 205.28997802734375, 207.2070770263672, 206.31768798828125, 210.5274658203125, 205.97181701660156, 201.6138458251953, 191.05978393554688, 194.67662048339844, 196.69256591796875, 201.03079223632812, 199.3742218017578, 198.86831665039062, 207.2900848388672, 201.1200714111328, 200.11819458007812, 204.8399200439453, 208.6589813232422, 208.6688995361328, 210.93057250976562, 210.7520294189453, 201.01097106933594, 204.8300018310547, 202.51873779296875, 203.8777313232422, 207.32974243164062, 207.06192016601562, 204.0463409423828, 207.50831604003906, 211.56541442871094, 211.5455780029297, 212.44827270507812, 214.95791625976562, 221.79254150390625, 221.2965545654297, 216.991455078125, 218.1322021484375, 218.92578125, 220.97914123535156, 219.18370056152344, 215.97962951660156, 216.96168518066406, 215.93003845214844, 219.25311279296875, 218.12228393554688, 217.06089782714844, 222.1694793701172, 222.7845001220703, 217.19976806640625, 219.0447998046875, 225.18504333496094, 225.23463439941406, 222.5960235595703, 225.20489501953125, 228.2402801513672, 234.3110809326172, 233.97381591796875, 233.42825317382812, 232.48587036132812, 233.38856506347656, 234.50949096679688, 238.57650756835938, 238.03094482421875, 241.2250518798828, 241.621826171875, 244.59771728515625, 247.04786682128906, 241.3341522216797, 241.3043975830078, 246.76019287109375, 253.76344299316406, 255.429931640625, 255.06292724609375, 255.17201232910156, 258.11700439453125, 258.8234558105469, 260.8730163574219, 260.63421630859375, 263.13153076171875, 261.310791015625, 264.4150085449219, 265.74822998046875, 264.94232177734375, 261.8580322265625, 260.6839904785156, 260.45513916015625, 265.02191162109375, 262.9524230957031, 266.4844665527344, 265.8974609375, 262.8230895996094, 258.136962890625, 260.41534423828125, 264.23590087890625, 269.3399353027344, 265.5691223144531, 267.1212463378906, 269.399658203125, 270.0861511230469, 273.7574768066406, 278.443603515625, 278.9908752441406, 278.3242492675781, 278.6028137207031, 278.0257568359375, 282.56268310546875, 282.831298828125, 288.4427795410156, 288.33331298828125, 290.04461669921875, 292.163818359375, 298.8299560546875, 295.9247131347656, 298.28271484375, 296.8798828125, 301.6555480957031, 308.06298828125, 308.7593994140625, 315.3558654785156, 311.0975341796875, 309.7643127441406, 313.6445617675781, 317.116943359375, 314.9678649902344, 316.0921630859375, 317.6144104003906, 316.69903564453125, 307.38641357421875, 316.0821838378906, 322.6985168457031, 322.23089599609375, 307.943603515625, 307.097900390625, 317.2362976074219, 319.82318115234375, 323.5641174316406, 319.166015625, 320.6819152832031, 318.74713134765625, 326.3166809082031, 323.9929504394531, 324.07275390625, 318.1387939453125, 322.746337890625, 319.4352722167969, 312.2048645019531, 297.375, 287.3022766113281, 291.85992431640625, 272.7815856933594, 272.62200927734375, 298.0032958984375, 288.5389404296875, 301.9226989746094, 292.12921142578125, 288.2497253417969, 265.4514465332031, 284.5696716308594, 274.6864318847656, 247.5598602294922, 277.2195739746094, 241.55612182617188, 252.1773681640625, 246.0040740966797, 244.11917114257812, 228.6211395263672, 223.76426696777344, 246.21351623535156, 244.857177734375, 257.7423095703125, 247.07118225097656, 254.12210083007812, 253.60350036621094, 240.25962829589844, 244.26876831054688, 240.75827026367188, 261.76141357421875, 258.7296142578125, 265.3517150878906, 267.2665100097656, 272.5123291015625, 286.2750549316406, 283.6621398925781, 285.9160461425781, 282.0365295410156, 276.182373046875, 267.6454772949219, 275.3546142578125, 274.2875061035156, 282.2060852050781, 282.4055480957031, 277.8279113769531, 286.9532470703125, 293.0068359375, 288.28961181640625, 292.3685607910156, 296.7566833496094, 299.8183898925781, 302.91998291015625, 310.1300048828125, 315.010009765625, 311.4100036621094, 307.6499938964844, 309.5400085449219, 307.7099914550781, 314.9599914550781, 313.1400146484375, 319.2300109863281, 316.8500061035156, 318.8900146484375, 316.7300109863281, 318.1099853515625, 318.25, 317.94000244140625]}, {\"line\": {\"color\": \"green\", \"dash\": \"dot\", \"width\": 1}, \"name\": \"Forcasting\", \"type\": \"scatter\", \"x\": [\"2020-06-01T00:00:00\", \"2020-06-02T00:00:00\", \"2020-06-03T00:00:00\", \"2020-06-04T00:00:00\", \"2020-06-05T00:00:00\", \"2020-06-08T00:00:00\", \"2020-06-09T00:00:00\"], \"y\": [317.7315368652344, 317.4607849121094, 317.3878173828125, 317.3299255371094, 317.2159118652344, 316.7771301269531, 316.0866394042969]}],\n",
       "                        {\"template\": {\"data\": {\"bar\": [{\"error_x\": {\"color\": \"#2a3f5f\"}, \"error_y\": {\"color\": \"#2a3f5f\"}, \"marker\": {\"line\": {\"color\": \"#E5ECF6\", \"width\": 0.5}}, \"type\": \"bar\"}], \"barpolar\": [{\"marker\": {\"line\": {\"color\": \"#E5ECF6\", \"width\": 0.5}}, \"type\": \"barpolar\"}], \"carpet\": [{\"aaxis\": {\"endlinecolor\": \"#2a3f5f\", \"gridcolor\": \"white\", \"linecolor\": \"white\", \"minorgridcolor\": \"white\", \"startlinecolor\": \"#2a3f5f\"}, \"baxis\": {\"endlinecolor\": \"#2a3f5f\", \"gridcolor\": \"white\", \"linecolor\": \"white\", \"minorgridcolor\": \"white\", \"startlinecolor\": \"#2a3f5f\"}, \"type\": \"carpet\"}], \"choropleth\": [{\"colorbar\": {\"outlinewidth\": 0, \"ticks\": \"\"}, \"type\": \"choropleth\"}], \"contour\": [{\"colorbar\": {\"outlinewidth\": 0, \"ticks\": \"\"}, \"colorscale\": [[0.0, \"#0d0887\"], [0.1111111111111111, \"#46039f\"], [0.2222222222222222, \"#7201a8\"], [0.3333333333333333, \"#9c179e\"], [0.4444444444444444, \"#bd3786\"], [0.5555555555555556, \"#d8576b\"], [0.6666666666666666, \"#ed7953\"], [0.7777777777777778, \"#fb9f3a\"], [0.8888888888888888, \"#fdca26\"], [1.0, \"#f0f921\"]], \"type\": \"contour\"}], \"contourcarpet\": [{\"colorbar\": {\"outlinewidth\": 0, \"ticks\": \"\"}, \"type\": \"contourcarpet\"}], \"heatmap\": [{\"colorbar\": {\"outlinewidth\": 0, \"ticks\": \"\"}, \"colorscale\": [[0.0, \"#0d0887\"], [0.1111111111111111, \"#46039f\"], [0.2222222222222222, \"#7201a8\"], [0.3333333333333333, \"#9c179e\"], [0.4444444444444444, \"#bd3786\"], [0.5555555555555556, \"#d8576b\"], [0.6666666666666666, \"#ed7953\"], [0.7777777777777778, \"#fb9f3a\"], [0.8888888888888888, \"#fdca26\"], [1.0, \"#f0f921\"]], \"type\": \"heatmap\"}], \"heatmapgl\": [{\"colorbar\": {\"outlinewidth\": 0, \"ticks\": \"\"}, \"colorscale\": [[0.0, \"#0d0887\"], [0.1111111111111111, \"#46039f\"], [0.2222222222222222, \"#7201a8\"], [0.3333333333333333, \"#9c179e\"], [0.4444444444444444, \"#bd3786\"], [0.5555555555555556, \"#d8576b\"], [0.6666666666666666, \"#ed7953\"], [0.7777777777777778, \"#fb9f3a\"], [0.8888888888888888, \"#fdca26\"], [1.0, \"#f0f921\"]], \"type\": \"heatmapgl\"}], \"histogram\": [{\"marker\": {\"colorbar\": {\"outlinewidth\": 0, \"ticks\": \"\"}}, \"type\": \"histogram\"}], \"histogram2d\": [{\"colorbar\": {\"outlinewidth\": 0, \"ticks\": \"\"}, \"colorscale\": [[0.0, \"#0d0887\"], [0.1111111111111111, \"#46039f\"], [0.2222222222222222, \"#7201a8\"], [0.3333333333333333, \"#9c179e\"], [0.4444444444444444, \"#bd3786\"], [0.5555555555555556, \"#d8576b\"], [0.6666666666666666, \"#ed7953\"], [0.7777777777777778, \"#fb9f3a\"], [0.8888888888888888, \"#fdca26\"], [1.0, \"#f0f921\"]], \"type\": \"histogram2d\"}], \"histogram2dcontour\": [{\"colorbar\": {\"outlinewidth\": 0, \"ticks\": \"\"}, \"colorscale\": [[0.0, \"#0d0887\"], [0.1111111111111111, \"#46039f\"], [0.2222222222222222, \"#7201a8\"], [0.3333333333333333, \"#9c179e\"], [0.4444444444444444, \"#bd3786\"], [0.5555555555555556, \"#d8576b\"], [0.6666666666666666, \"#ed7953\"], [0.7777777777777778, \"#fb9f3a\"], [0.8888888888888888, \"#fdca26\"], [1.0, \"#f0f921\"]], \"type\": \"histogram2dcontour\"}], \"mesh3d\": [{\"colorbar\": {\"outlinewidth\": 0, \"ticks\": \"\"}, \"type\": \"mesh3d\"}], \"parcoords\": [{\"line\": {\"colorbar\": {\"outlinewidth\": 0, \"ticks\": \"\"}}, \"type\": \"parcoords\"}], \"pie\": [{\"automargin\": true, \"type\": \"pie\"}], \"scatter\": [{\"marker\": {\"colorbar\": {\"outlinewidth\": 0, \"ticks\": \"\"}}, \"type\": \"scatter\"}], \"scatter3d\": [{\"line\": {\"colorbar\": {\"outlinewidth\": 0, \"ticks\": \"\"}}, \"marker\": {\"colorbar\": {\"outlinewidth\": 0, \"ticks\": \"\"}}, \"type\": \"scatter3d\"}], \"scattercarpet\": [{\"marker\": {\"colorbar\": {\"outlinewidth\": 0, \"ticks\": \"\"}}, \"type\": \"scattercarpet\"}], \"scattergeo\": [{\"marker\": {\"colorbar\": {\"outlinewidth\": 0, \"ticks\": \"\"}}, \"type\": \"scattergeo\"}], \"scattergl\": [{\"marker\": {\"colorbar\": {\"outlinewidth\": 0, \"ticks\": \"\"}}, \"type\": \"scattergl\"}], \"scattermapbox\": [{\"marker\": {\"colorbar\": {\"outlinewidth\": 0, \"ticks\": \"\"}}, \"type\": \"scattermapbox\"}], \"scatterpolar\": [{\"marker\": {\"colorbar\": {\"outlinewidth\": 0, \"ticks\": \"\"}}, \"type\": \"scatterpolar\"}], \"scatterpolargl\": [{\"marker\": {\"colorbar\": {\"outlinewidth\": 0, \"ticks\": \"\"}}, \"type\": \"scatterpolargl\"}], \"scatterternary\": [{\"marker\": {\"colorbar\": {\"outlinewidth\": 0, \"ticks\": \"\"}}, \"type\": \"scatterternary\"}], \"surface\": [{\"colorbar\": {\"outlinewidth\": 0, \"ticks\": \"\"}, \"colorscale\": [[0.0, \"#0d0887\"], [0.1111111111111111, \"#46039f\"], [0.2222222222222222, \"#7201a8\"], [0.3333333333333333, \"#9c179e\"], [0.4444444444444444, \"#bd3786\"], [0.5555555555555556, \"#d8576b\"], [0.6666666666666666, \"#ed7953\"], [0.7777777777777778, \"#fb9f3a\"], [0.8888888888888888, \"#fdca26\"], [1.0, \"#f0f921\"]], \"type\": \"surface\"}], \"table\": [{\"cells\": {\"fill\": {\"color\": \"#EBF0F8\"}, \"line\": {\"color\": \"white\"}}, \"header\": {\"fill\": {\"color\": \"#C8D4E3\"}, \"line\": {\"color\": \"white\"}}, \"type\": \"table\"}]}, \"layout\": {\"annotationdefaults\": {\"arrowcolor\": \"#2a3f5f\", \"arrowhead\": 0, \"arrowwidth\": 1}, \"coloraxis\": {\"colorbar\": {\"outlinewidth\": 0, \"ticks\": \"\"}}, \"colorscale\": {\"diverging\": [[0, \"#8e0152\"], [0.1, \"#c51b7d\"], [0.2, \"#de77ae\"], [0.3, \"#f1b6da\"], [0.4, \"#fde0ef\"], [0.5, \"#f7f7f7\"], [0.6, \"#e6f5d0\"], [0.7, \"#b8e186\"], [0.8, \"#7fbc41\"], [0.9, \"#4d9221\"], [1, \"#276419\"]], \"sequential\": [[0.0, \"#0d0887\"], [0.1111111111111111, \"#46039f\"], [0.2222222222222222, \"#7201a8\"], [0.3333333333333333, \"#9c179e\"], [0.4444444444444444, \"#bd3786\"], [0.5555555555555556, \"#d8576b\"], [0.6666666666666666, \"#ed7953\"], [0.7777777777777778, \"#fb9f3a\"], [0.8888888888888888, \"#fdca26\"], [1.0, \"#f0f921\"]], \"sequentialminus\": [[0.0, \"#0d0887\"], [0.1111111111111111, \"#46039f\"], [0.2222222222222222, \"#7201a8\"], [0.3333333333333333, \"#9c179e\"], [0.4444444444444444, \"#bd3786\"], [0.5555555555555556, \"#d8576b\"], [0.6666666666666666, \"#ed7953\"], [0.7777777777777778, \"#fb9f3a\"], [0.8888888888888888, \"#fdca26\"], [1.0, \"#f0f921\"]]}, \"colorway\": [\"#636efa\", \"#EF553B\", \"#00cc96\", \"#ab63fa\", \"#FFA15A\", \"#19d3f3\", \"#FF6692\", \"#B6E880\", \"#FF97FF\", \"#FECB52\"], \"font\": {\"color\": \"#2a3f5f\"}, \"geo\": {\"bgcolor\": \"white\", \"lakecolor\": \"white\", \"landcolor\": \"#E5ECF6\", \"showlakes\": true, \"showland\": true, \"subunitcolor\": \"white\"}, \"hoverlabel\": {\"align\": \"left\"}, \"hovermode\": \"closest\", \"mapbox\": {\"style\": \"light\"}, \"paper_bgcolor\": \"white\", \"plot_bgcolor\": \"#E5ECF6\", \"polar\": {\"angularaxis\": {\"gridcolor\": \"white\", \"linecolor\": \"white\", \"ticks\": \"\"}, \"bgcolor\": \"#E5ECF6\", \"radialaxis\": {\"gridcolor\": \"white\", \"linecolor\": \"white\", \"ticks\": \"\"}}, \"scene\": {\"xaxis\": {\"backgroundcolor\": \"#E5ECF6\", \"gridcolor\": \"white\", \"gridwidth\": 2, \"linecolor\": \"white\", \"showbackground\": true, \"ticks\": \"\", \"zerolinecolor\": \"white\"}, \"yaxis\": {\"backgroundcolor\": \"#E5ECF6\", \"gridcolor\": \"white\", \"gridwidth\": 2, \"linecolor\": \"white\", \"showbackground\": true, \"ticks\": \"\", \"zerolinecolor\": \"white\"}, \"zaxis\": {\"backgroundcolor\": \"#E5ECF6\", \"gridcolor\": \"white\", \"gridwidth\": 2, \"linecolor\": \"white\", \"showbackground\": true, \"ticks\": \"\", \"zerolinecolor\": \"white\"}}, \"shapedefaults\": {\"line\": {\"color\": \"#2a3f5f\"}}, \"ternary\": {\"aaxis\": {\"gridcolor\": \"white\", \"linecolor\": \"white\", \"ticks\": \"\"}, \"baxis\": {\"gridcolor\": \"white\", \"linecolor\": \"white\", \"ticks\": \"\"}, \"bgcolor\": \"#E5ECF6\", \"caxis\": {\"gridcolor\": \"white\", \"linecolor\": \"white\", \"ticks\": \"\"}}, \"title\": {\"x\": 0.05}, \"xaxis\": {\"automargin\": true, \"gridcolor\": \"white\", \"linecolor\": \"white\", \"ticks\": \"\", \"title\": {\"standoff\": 15}, \"zerolinecolor\": \"white\", \"zerolinewidth\": 2}, \"yaxis\": {\"automargin\": true, \"gridcolor\": \"white\", \"linecolor\": \"white\", \"ticks\": \"\", \"title\": {\"standoff\": 15}, \"zerolinecolor\": \"white\", \"zerolinewidth\": 2}}}, \"title\": {\"text\": \"AAPL Stock\"}, \"xaxis\": {\"range\": [\"2019-04-01T00:00:00\", \"2020-06-30T00:00:00\"], \"title\": {\"text\": \"Date\"}}, \"yaxis\": {\"title\": {\"text\": \"Adj Close ($)\"}}},\n",
       "                        {\"responsive\": true}\n",
       "                    ).then(function(){\n",
       "                            \n",
       "var gd = document.getElementById('6c69555c-a083-4a45-a97f-9830a5cf5bdd');\n",
       "var x = new MutationObserver(function (mutations, observer) {{\n",
       "        var display = window.getComputedStyle(gd).display;\n",
       "        if (!display || display === 'none') {{\n",
       "            console.log([gd, 'removed!']);\n",
       "            Plotly.purge(gd);\n",
       "            observer.disconnect();\n",
       "        }}\n",
       "}});\n",
       "\n",
       "// Listen for the removal of the full notebook cells\n",
       "var notebookContainer = gd.closest('#notebook-container');\n",
       "if (notebookContainer) {{\n",
       "    x.observe(notebookContainer, {childList: true});\n",
       "}}\n",
       "\n",
       "// Listen for the clearing of the current output cell\n",
       "var outputEl = gd.closest('.output');\n",
       "if (outputEl) {{\n",
       "    x.observe(outputEl, {childList: true});\n",
       "}}\n",
       "\n",
       "                        })\n",
       "                };\n",
       "                });\n",
       "            </script>\n",
       "        </div>"
      ]
     },
     "metadata": {},
     "output_type": "display_data"
    }
   ],
   "source": [
    "trace1 = go.Scatter(\n",
    "    x = dataset_train['Date'],\n",
    "    y = dataset_train['Adj Close'],\n",
    "    mode = 'lines',\n",
    "    name = 'Train-set'\n",
    ")\n",
    "trace2 = go.Scatter(\n",
    "    x = dataset_test['Date'],\n",
    "    y = dataset_test['LSTM_Prediction'],\n",
    "    mode = 'lines',\n",
    "    name = 'Test-set-Prediction'\n",
    ")\n",
    "trace3 = go.Scatter(\n",
    "    x = dataset_test['Date'],\n",
    "    y = dataset_test['Adj Close'],\n",
    "    mode='lines',\n",
    "    name = 'True Price'\n",
    ")\n",
    "trace4 = go.Scatter(\n",
    "    x = dataset_forcast['Date'],\n",
    "    y = dataset_forcast['Adj Close'],\n",
    "    line = dict(color='green', width=1, dash='dot'),\n",
    "    name = 'Forcasting'\n",
    ")\n",
    "layout = go.Layout(\n",
    "    title = \"AAPL Stock\",\n",
    "    xaxis = {'title' : \"Date\"},\n",
    "    yaxis = {'title' : \"Adj Close ($)\"}\n",
    ")\n",
    "fig = go.Figure(data=[trace3, trace4], layout=layout)\n",
    "fig.update_layout(xaxis_range=[dataset_test['Date'].iloc[0]-15*B_DAY, dataset_forcast['Date'].iloc[-1]+15*B_DAY])\n",
    "fig.show()"
   ]
  },
  {
   "cell_type": "code",
   "execution_count": null,
   "metadata": {},
   "outputs": [],
   "source": []
  }
 ],
 "metadata": {
  "kernelspec": {
   "display_name": "Python ML",
   "language": "python",
   "name": "ml"
  },
  "language_info": {
   "codemirror_mode": {
    "name": "ipython",
    "version": 3
   },
   "file_extension": ".py",
   "mimetype": "text/x-python",
   "name": "python",
   "nbconvert_exporter": "python",
   "pygments_lexer": "ipython3",
   "version": "3.6.10"
  }
 },
 "nbformat": 4,
 "nbformat_minor": 4
}
